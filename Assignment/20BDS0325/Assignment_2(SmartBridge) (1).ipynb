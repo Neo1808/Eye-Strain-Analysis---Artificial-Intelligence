{
  "cells": [
    {
      "attachments": {},
      "cell_type": "markdown",
      "metadata": {
        "id": "vuGmxSCQ3i2X"
      },
      "source": [
        "Assignment -2\n",
        "\n",
        "Name : Aman Varma Rudraraju\n",
        "\n",
        "Reg.No: 20BDS0325\n",
        "\n",
        "Mail: amanvarma.rudraraju2020@vitstudent.ac.in"
      ]
    },
    {
      "cell_type": "code",
      "execution_count": 53,
      "metadata": {
        "id": "Ik3MOFDbV7IU"
      },
      "outputs": [],
      "source": [
        "import numpy as np\n",
        "import pandas as pd\n",
        "import matplotlib.pyplot as plt\n",
        "import seaborn as sns"
      ]
    },
    {
      "cell_type": "code",
      "execution_count": 54,
      "metadata": {
        "colab": {
          "base_uri": "https://localhost:8080/",
          "height": 363
        },
        "id": "C0kUjpRoWdeO",
        "outputId": "d963a560-9da6-485c-876d-d6f335556ee2"
      },
      "outputs": [
        {
          "data": {
            "text/html": [
              "\n",
              "  <div id=\"df-37f8caaf-d3d3-4556-9c54-dad29f67df0c\">\n",
              "    <div class=\"colab-df-container\">\n",
              "      <div>\n",
              "<style scoped>\n",
              "    .dataframe tbody tr th:only-of-type {\n",
              "        vertical-align: middle;\n",
              "    }\n",
              "\n",
              "    .dataframe tbody tr th {\n",
              "        vertical-align: top;\n",
              "    }\n",
              "\n",
              "    .dataframe thead th {\n",
              "        text-align: right;\n",
              "    }\n",
              "</style>\n",
              "<table border=\"1\" class=\"dataframe\">\n",
              "  <thead>\n",
              "    <tr style=\"text-align: right;\">\n",
              "      <th></th>\n",
              "      <th>Age</th>\n",
              "      <th>Sex</th>\n",
              "      <th>BP</th>\n",
              "      <th>Cholesterol</th>\n",
              "      <th>Na_to_K</th>\n",
              "      <th>Drug</th>\n",
              "    </tr>\n",
              "  </thead>\n",
              "  <tbody>\n",
              "    <tr>\n",
              "      <th>0</th>\n",
              "      <td>23</td>\n",
              "      <td>F</td>\n",
              "      <td>HIGH</td>\n",
              "      <td>HIGH</td>\n",
              "      <td>25.355</td>\n",
              "      <td>DrugY</td>\n",
              "    </tr>\n",
              "    <tr>\n",
              "      <th>1</th>\n",
              "      <td>47</td>\n",
              "      <td>M</td>\n",
              "      <td>LOW</td>\n",
              "      <td>HIGH</td>\n",
              "      <td>13.093</td>\n",
              "      <td>drugC</td>\n",
              "    </tr>\n",
              "    <tr>\n",
              "      <th>2</th>\n",
              "      <td>47</td>\n",
              "      <td>M</td>\n",
              "      <td>LOW</td>\n",
              "      <td>HIGH</td>\n",
              "      <td>10.114</td>\n",
              "      <td>drugC</td>\n",
              "    </tr>\n",
              "    <tr>\n",
              "      <th>3</th>\n",
              "      <td>28</td>\n",
              "      <td>F</td>\n",
              "      <td>NORMAL</td>\n",
              "      <td>HIGH</td>\n",
              "      <td>7.798</td>\n",
              "      <td>drugX</td>\n",
              "    </tr>\n",
              "    <tr>\n",
              "      <th>4</th>\n",
              "      <td>61</td>\n",
              "      <td>F</td>\n",
              "      <td>LOW</td>\n",
              "      <td>HIGH</td>\n",
              "      <td>18.043</td>\n",
              "      <td>DrugY</td>\n",
              "    </tr>\n",
              "    <tr>\n",
              "      <th>5</th>\n",
              "      <td>22</td>\n",
              "      <td>F</td>\n",
              "      <td>NORMAL</td>\n",
              "      <td>HIGH</td>\n",
              "      <td>8.607</td>\n",
              "      <td>drugX</td>\n",
              "    </tr>\n",
              "    <tr>\n",
              "      <th>6</th>\n",
              "      <td>49</td>\n",
              "      <td>F</td>\n",
              "      <td>NORMAL</td>\n",
              "      <td>HIGH</td>\n",
              "      <td>16.275</td>\n",
              "      <td>DrugY</td>\n",
              "    </tr>\n",
              "    <tr>\n",
              "      <th>7</th>\n",
              "      <td>41</td>\n",
              "      <td>M</td>\n",
              "      <td>LOW</td>\n",
              "      <td>HIGH</td>\n",
              "      <td>11.037</td>\n",
              "      <td>drugC</td>\n",
              "    </tr>\n",
              "    <tr>\n",
              "      <th>8</th>\n",
              "      <td>60</td>\n",
              "      <td>M</td>\n",
              "      <td>NORMAL</td>\n",
              "      <td>HIGH</td>\n",
              "      <td>15.171</td>\n",
              "      <td>DrugY</td>\n",
              "    </tr>\n",
              "    <tr>\n",
              "      <th>9</th>\n",
              "      <td>43</td>\n",
              "      <td>M</td>\n",
              "      <td>LOW</td>\n",
              "      <td>NORMAL</td>\n",
              "      <td>19.368</td>\n",
              "      <td>DrugY</td>\n",
              "    </tr>\n",
              "  </tbody>\n",
              "</table>\n",
              "</div>\n",
              "      <button class=\"colab-df-convert\" onclick=\"convertToInteractive('df-37f8caaf-d3d3-4556-9c54-dad29f67df0c')\"\n",
              "              title=\"Convert this dataframe to an interactive table.\"\n",
              "              style=\"display:none;\">\n",
              "        \n",
              "  <svg xmlns=\"http://www.w3.org/2000/svg\" height=\"24px\"viewBox=\"0 0 24 24\"\n",
              "       width=\"24px\">\n",
              "    <path d=\"M0 0h24v24H0V0z\" fill=\"none\"/>\n",
              "    <path d=\"M18.56 5.44l.94 2.06.94-2.06 2.06-.94-2.06-.94-.94-2.06-.94 2.06-2.06.94zm-11 1L8.5 8.5l.94-2.06 2.06-.94-2.06-.94L8.5 2.5l-.94 2.06-2.06.94zm10 10l.94 2.06.94-2.06 2.06-.94-2.06-.94-.94-2.06-.94 2.06-2.06.94z\"/><path d=\"M17.41 7.96l-1.37-1.37c-.4-.4-.92-.59-1.43-.59-.52 0-1.04.2-1.43.59L10.3 9.45l-7.72 7.72c-.78.78-.78 2.05 0 2.83L4 21.41c.39.39.9.59 1.41.59.51 0 1.02-.2 1.41-.59l7.78-7.78 2.81-2.81c.8-.78.8-2.07 0-2.86zM5.41 20L4 18.59l7.72-7.72 1.47 1.35L5.41 20z\"/>\n",
              "  </svg>\n",
              "      </button>\n",
              "      \n",
              "  <style>\n",
              "    .colab-df-container {\n",
              "      display:flex;\n",
              "      flex-wrap:wrap;\n",
              "      gap: 12px;\n",
              "    }\n",
              "\n",
              "    .colab-df-convert {\n",
              "      background-color: #E8F0FE;\n",
              "      border: none;\n",
              "      border-radius: 50%;\n",
              "      cursor: pointer;\n",
              "      display: none;\n",
              "      fill: #1967D2;\n",
              "      height: 32px;\n",
              "      padding: 0 0 0 0;\n",
              "      width: 32px;\n",
              "    }\n",
              "\n",
              "    .colab-df-convert:hover {\n",
              "      background-color: #E2EBFA;\n",
              "      box-shadow: 0px 1px 2px rgba(60, 64, 67, 0.3), 0px 1px 3px 1px rgba(60, 64, 67, 0.15);\n",
              "      fill: #174EA6;\n",
              "    }\n",
              "\n",
              "    [theme=dark] .colab-df-convert {\n",
              "      background-color: #3B4455;\n",
              "      fill: #D2E3FC;\n",
              "    }\n",
              "\n",
              "    [theme=dark] .colab-df-convert:hover {\n",
              "      background-color: #434B5C;\n",
              "      box-shadow: 0px 1px 3px 1px rgba(0, 0, 0, 0.15);\n",
              "      filter: drop-shadow(0px 1px 2px rgba(0, 0, 0, 0.3));\n",
              "      fill: #FFFFFF;\n",
              "    }\n",
              "  </style>\n",
              "\n",
              "      <script>\n",
              "        const buttonEl =\n",
              "          document.querySelector('#df-37f8caaf-d3d3-4556-9c54-dad29f67df0c button.colab-df-convert');\n",
              "        buttonEl.style.display =\n",
              "          google.colab.kernel.accessAllowed ? 'block' : 'none';\n",
              "\n",
              "        async function convertToInteractive(key) {\n",
              "          const element = document.querySelector('#df-37f8caaf-d3d3-4556-9c54-dad29f67df0c');\n",
              "          const dataTable =\n",
              "            await google.colab.kernel.invokeFunction('convertToInteractive',\n",
              "                                                     [key], {});\n",
              "          if (!dataTable) return;\n",
              "\n",
              "          const docLinkHtml = 'Like what you see? Visit the ' +\n",
              "            '<a target=\"_blank\" href=https://colab.research.google.com/notebooks/data_table.ipynb>data table notebook</a>'\n",
              "            + ' to learn more about interactive tables.';\n",
              "          element.innerHTML = '';\n",
              "          dataTable['output_type'] = 'display_data';\n",
              "          await google.colab.output.renderOutput(dataTable, element);\n",
              "          const docLink = document.createElement('div');\n",
              "          docLink.innerHTML = docLinkHtml;\n",
              "          element.appendChild(docLink);\n",
              "        }\n",
              "      </script>\n",
              "    </div>\n",
              "  </div>\n",
              "  "
            ],
            "text/plain": [
              "   Age Sex      BP Cholesterol  Na_to_K   Drug\n",
              "0   23   F    HIGH        HIGH   25.355  DrugY\n",
              "1   47   M     LOW        HIGH   13.093  drugC\n",
              "2   47   M     LOW        HIGH   10.114  drugC\n",
              "3   28   F  NORMAL        HIGH    7.798  drugX\n",
              "4   61   F     LOW        HIGH   18.043  DrugY\n",
              "5   22   F  NORMAL        HIGH    8.607  drugX\n",
              "6   49   F  NORMAL        HIGH   16.275  DrugY\n",
              "7   41   M     LOW        HIGH   11.037  drugC\n",
              "8   60   M  NORMAL        HIGH   15.171  DrugY\n",
              "9   43   M     LOW      NORMAL   19.368  DrugY"
            ]
          },
          "execution_count": 54,
          "metadata": {},
          "output_type": "execute_result"
        }
      ],
      "source": [
        "#Task-1 Reading the dataset and Performing Data preprocessing\n",
        "df=pd.read_csv(\"drug200.csv\")\n",
        "df.head(10)"
      ]
    },
    {
      "cell_type": "code",
      "execution_count": 55,
      "metadata": {
        "colab": {
          "base_uri": "https://localhost:8080/"
        },
        "id": "YvXrI-z-Wdgi",
        "outputId": "bf7d3385-ece6-43b6-addc-bae9f4657bb4"
      },
      "outputs": [
        {
          "data": {
            "text/plain": [
              "(200, 6)"
            ]
          },
          "execution_count": 55,
          "metadata": {},
          "output_type": "execute_result"
        }
      ],
      "source": [
        "# Determining the shape of the Dataset\n",
        "\n",
        "df.shape"
      ]
    },
    {
      "cell_type": "code",
      "execution_count": 56,
      "metadata": {
        "colab": {
          "base_uri": "https://localhost:8080/"
        },
        "id": "tFvPgAUiWdiq",
        "outputId": "54f927cc-7de1-488b-aaac-77c4a86132b5"
      },
      "outputs": [
        {
          "data": {
            "text/plain": [
              "array(['HIGH', 'LOW', 'NORMAL'], dtype=object)"
            ]
          },
          "execution_count": 56,
          "metadata": {},
          "output_type": "execute_result"
        }
      ],
      "source": [
        "# Determining unique values of suitable columns\n",
        "\n",
        "df[\"BP\"].unique()"
      ]
    },
    {
      "cell_type": "code",
      "execution_count": 57,
      "metadata": {
        "colab": {
          "base_uri": "https://localhost:8080/"
        },
        "id": "KuYkfeYsWdlR",
        "outputId": "7d005454-a7f0-430a-bd63-5219f68cc4d9"
      },
      "outputs": [
        {
          "data": {
            "text/plain": [
              "array(['HIGH', 'NORMAL'], dtype=object)"
            ]
          },
          "execution_count": 57,
          "metadata": {},
          "output_type": "execute_result"
        }
      ],
      "source": [
        "df[\"Cholesterol\"].unique()"
      ]
    },
    {
      "cell_type": "code",
      "execution_count": 58,
      "metadata": {
        "colab": {
          "base_uri": "https://localhost:8080/"
        },
        "id": "i6pzYIQEWdnp",
        "outputId": "554560bf-9822-480a-faca-6d1152b4ab21"
      },
      "outputs": [
        {
          "data": {
            "text/plain": [
              "array(['DrugY', 'drugC', 'drugX', 'drugA', 'drugB'], dtype=object)"
            ]
          },
          "execution_count": 58,
          "metadata": {},
          "output_type": "execute_result"
        }
      ],
      "source": [
        "df[\"Drug\"].unique()"
      ]
    },
    {
      "cell_type": "code",
      "execution_count": 59,
      "metadata": {
        "colab": {
          "base_uri": "https://localhost:8080/"
        },
        "id": "9ITZR6V2WdqJ",
        "outputId": "6962beeb-a3cf-4724-a8fe-dbc2cb246848"
      },
      "outputs": [
        {
          "data": {
            "text/plain": [
              "Age            0\n",
              "Sex            0\n",
              "BP             0\n",
              "Cholesterol    0\n",
              "Na_to_K        0\n",
              "Drug           0\n",
              "dtype: int64"
            ]
          },
          "execution_count": 59,
          "metadata": {},
          "output_type": "execute_result"
        }
      ],
      "source": [
        "#Checking for null values\n",
        "\n",
        "df.isnull().sum()"
      ]
    },
    {
      "cell_type": "code",
      "execution_count": 60,
      "metadata": {
        "colab": {
          "base_uri": "https://localhost:8080/",
          "height": 447
        },
        "id": "qLT1Y2-6Wdsi",
        "outputId": "28bdaf82-e98a-4930-d8fe-d02d58ca6341"
      },
      "outputs": [
        {
          "data": {
            "text/plain": [
              "<Axes: >"
            ]
          },
          "execution_count": 60,
          "metadata": {},
          "output_type": "execute_result"
        },
        {
          "data": {
            "image/png": "[encoded data removed]",
            "text/plain": [
              "<Figure size 640x480 with 1 Axes>"
            ]
          },
          "metadata": {},
          "output_type": "display_data"
        }
      ],
      "source": [
        "sns.boxplot(df)"
      ]
    },
    {
      "cell_type": "code",
      "execution_count": 61,
      "metadata": {
        "colab": {
          "base_uri": "https://localhost:8080/",
          "height": 430
        },
        "id": "utuKljHleuqI",
        "outputId": "057e169d-0b8d-4bc9-957c-2d9416bf2648"
      },
      "outputs": [
        {
          "data": {
            "image/png": "[encoded data removed]",
            "text/plain": [
              "<Figure size 640x480 with 1 Axes>"
            ]
          },
          "metadata": {},
          "output_type": "display_data"
        }
      ],
      "source": [
        "sns.boxplot(df.Na_to_K)\n",
        "q1 = df.Na_to_K.quantile(.25)\n",
        "q3 = df.Na_to_K.quantile(.75)\n"
      ]
    },
    {
      "cell_type": "code",
      "execution_count": 62,
      "metadata": {
        "colab": {
          "base_uri": "https://localhost:8080/"
        },
        "id": "j2FGjAjZhDJJ",
        "outputId": "0548766d-6c32-4b53-b7b8-c6577defe316"
      },
      "outputs": [
        {
          "data": {
            "text/plain": [
              "8.9345"
            ]
          },
          "execution_count": 62,
          "metadata": {},
          "output_type": "execute_result"
        }
      ],
      "source": [
        "IQR = q3 - q1\n",
        "IQR"
      ]
    },
    {
      "cell_type": "code",
      "execution_count": 63,
      "metadata": {
        "id": "teTWmKgdeusm"
      },
      "outputs": [],
      "source": [
        "upper_limit = q3+1.5*IQR\n",
        "lower_limit = q1-1.5*IQR"
      ]
    },
    {
      "cell_type": "code",
      "execution_count": 64,
      "metadata": {
        "colab": {
          "base_uri": "https://localhost:8080/"
        },
        "id": "37tz1c3gWdu9",
        "outputId": "9cd563c5-e485-421b-b308-0f2b83748cfa"
      },
      "outputs": [
        {
          "name": "stderr",
          "output_type": "stream",
          "text": [
            "<ipython-input-64-6d467abf240d>:1: FutureWarning: The default value of numeric_only in DataFrame.median is deprecated. In a future version, it will default to False. In addition, specifying 'numeric_only=None' is deprecated. Select only valid columns or specify the value of numeric_only to silence this warning.\n",
            "  df.median()\n"
          ]
        },
        {
          "data": {
            "text/plain": [
              "Age        45.0000\n",
              "Na_to_K    13.9365\n",
              "dtype: float64"
            ]
          },
          "execution_count": 64,
          "metadata": {},
          "output_type": "execute_result"
        }
      ],
      "source": [
        "df.median()"
      ]
    },
    {
      "cell_type": "code",
      "execution_count": 14,
      "metadata": {
        "colab": {
          "base_uri": "https://localhost:8080/",
          "height": 447
        },
        "id": "9Gdx6Xfcg2iC",
        "outputId": "241a7efa-9b7d-4ce5-eaa4-53b5e091bec1"
      },
      "outputs": [
        {
          "data": {
            "text/plain": [
              "<Axes: >"
            ]
          },
          "execution_count": 14,
          "metadata": {},
          "output_type": "execute_result"
        },
        {
          "data": {
            "image/png": "[encoded data removed]",
            "text/plain": [
              "<Figure size 640x480 with 1 Axes>"
            ]
          },
          "metadata": {},
          "output_type": "display_data"
        }
      ],
      "source": [
        "df['Na_to_K'] =np.where(df['Na_to_K']>upper_limit,13.9365,df['Na_to_K'])\n",
        "sns.boxplot(df.Na_to_K)"
      ]
    },
    {
      "cell_type": "code",
      "execution_count": 65,
      "metadata": {
        "colab": {
          "base_uri": "https://localhost:8080/"
        },
        "id": "xSPt_HhkiaVJ",
        "outputId": "2807a481-a220-4b21-d301-2e0c388eb1e1"
      },
      "outputs": [
        {
          "data": {
            "text/plain": [
              "(   Age Sex      BP Cholesterol  Na_to_K\n",
              " 0   23   F    HIGH        HIGH   25.355\n",
              " 1   47   M     LOW        HIGH   13.093\n",
              " 2   47   M     LOW        HIGH   10.114\n",
              " 3   28   F  NORMAL        HIGH    7.798\n",
              " 4   61   F     LOW        HIGH   18.043,\n",
              " 0    DrugY\n",
              " 1    drugC\n",
              " 2    drugC\n",
              " 3    drugX\n",
              " 4    DrugY\n",
              " Name: Drug, dtype: object)"
            ]
          },
          "execution_count": 65,
          "metadata": {},
          "output_type": "execute_result"
        }
      ],
      "source": [
        "x=df.iloc[:,0:5]\n",
        "y=df.iloc[:,5]\n",
        "\n",
        "x.head(),y.head()"
      ]
    },
    {
      "cell_type": "code",
      "execution_count": 66,
      "metadata": {
        "id": "-Adv1XHLg2m5"
      },
      "outputs": [],
      "source": [
        "from sklearn.preprocessing import LabelEncoder\n",
        "encoder=LabelEncoder()\n",
        "\n",
        "le = LabelEncoder() # initialize the lib\n",
        "\n",
        "df['Sex']= le.fit_transform(df['Sex'])\n",
        "df['BP']= le.fit_transform(df['BP'])\n",
        "df['Cholesterol']= le.fit_transform(df['Cholesterol'])\n",
        "df['Drug']= le.fit_transform(df['Drug'])"
      ]
    },
    {
      "cell_type": "code",
      "execution_count": 67,
      "metadata": {
        "colab": {
          "base_uri": "https://localhost:8080/"
        },
        "id": "XF3LkjInmVmQ",
        "outputId": "bc42ba8a-e6be-4a05-b36f-7b70e48bb183"
      },
      "outputs": [
        {
          "data": {
            "text/plain": [
              "0      0\n",
              "1      1\n",
              "2      1\n",
              "3      2\n",
              "4      1\n",
              "      ..\n",
              "195    1\n",
              "196    1\n",
              "197    2\n",
              "198    2\n",
              "199    1\n",
              "Name: BP, Length: 200, dtype: int64"
            ]
          },
          "execution_count": 67,
          "metadata": {},
          "output_type": "execute_result"
        }
      ],
      "source": [
        "df['BP']"
      ]
    },
    {
      "cell_type": "code",
      "execution_count": 68,
      "metadata": {
        "colab": {
          "base_uri": "https://localhost:8080/"
        },
        "id": "YNZUfACTlPC3",
        "outputId": "3b103477-ffc2-430c-a611-fc531f96f357"
      },
      "outputs": [
        {
          "data": {
            "text/plain": [
              "(   Age  Sex  BP  Cholesterol  Na_to_K\n",
              " 0   23    0   0            0   25.355\n",
              " 1   47    1   1            0   13.093\n",
              " 2   47    1   1            0   10.114\n",
              " 3   28    0   2            0    7.798\n",
              " 4   61    0   1            0   18.043,\n",
              " 0    0\n",
              " 1    3\n",
              " 2    3\n",
              " 3    4\n",
              " 4    0\n",
              " Name: Drug, dtype: int64)"
            ]
          },
          "execution_count": 68,
          "metadata": {},
          "output_type": "execute_result"
        }
      ],
      "source": [
        "x=df.iloc[:,0:5]\n",
        "y=df.iloc[:,5]\n",
        "\n",
        "x.head(),y.head()"
      ]
    },
    {
      "cell_type": "code",
      "execution_count": 69,
      "metadata": {
        "colab": {
          "base_uri": "https://localhost:8080/"
        },
        "id": "Me1eB-sSiaXs",
        "outputId": "10ce4947-06ba-45ef-fc60-7d7f39b12c82"
      },
      "outputs": [
        {
          "data": {
            "text/plain": [
              "(     Age  Sex  BP  Cholesterol  Na_to_K\n",
              " 88    37    0   0            1   23.091\n",
              " 58    60    1   2            1   10.091\n",
              " 113   65    0   1            1   13.769\n",
              " 149   22    1   1            0    8.151\n",
              " 36    32    1   0            1    9.445\n",
              " ..   ...  ...  ..          ...      ...\n",
              " 151   68    1   0            0   11.009\n",
              " 67    17    1   2            1   10.832\n",
              " 25    28    0   0            1   18.809\n",
              " 196   16    1   1            0   12.006\n",
              " 175   73    0   0            0   18.348\n",
              " \n",
              " [140 rows x 5 columns],\n",
              " 88     0\n",
              " 58     4\n",
              " 113    4\n",
              " 149    3\n",
              " 36     1\n",
              "       ..\n",
              " 151    2\n",
              " 67     4\n",
              " 25     0\n",
              " 196    3\n",
              " 175    0\n",
              " Name: Drug, Length: 140, dtype: int64)"
            ]
          },
          "execution_count": 69,
          "metadata": {},
          "output_type": "execute_result"
        }
      ],
      "source": [
        "from sklearn.model_selection import train_test_split\n",
        "xtrain,xtest,ytrain,ytest=train_test_split(x,y,test_size=0.3,random_state=7)\n",
        "xtrain,ytrain"
      ]
    },
    {
      "cell_type": "code",
      "execution_count": 70,
      "metadata": {
        "id": "d1ajVN2FiaaD"
      },
      "outputs": [],
      "source": [
        "from tensorflow.keras.models import Sequential\n",
        "from tensorflow.keras.layers import Dense\n",
        "\n",
        "model=Sequential()\n",
        "model.add(Dense(21,input_dim=5,activation=\"relu\"))\n",
        "\n",
        "model.add(Dense(24,activation=\"relu\"))\n",
        "\n",
        "model.add(Dense(22,activation=\"relu\"))\n",
        "\n",
        "model.add(Dense(20,activation=\"relu\"))\n",
        "\n",
        "model.add(Dense(5,activation=\"softmax\"))\n"
      ]
    },
    {
      "cell_type": "code",
      "execution_count": 71,
      "metadata": {
        "id": "6aZ-RXNTiacJ"
      },
      "outputs": [],
      "source": [
        "model.compile(optimizer='adam',loss='sparse_categorical_crossentropy',metrics=['accuracy'])"
      ]
    },
    {
      "cell_type": "code",
      "execution_count": 80,
      "metadata": {
        "colab": {
          "base_uri": "https://localhost:8080/"
        },
        "id": "EU0K49JEiajq",
        "outputId": "49ca02a9-5114-434f-9eee-0d097a1f32be"
      },
      "outputs": [
        {
          "name": "stdout",
          "output_type": "stream",
          "text": [
            "Epoch 1/20\n",
            "5/5 [==============================] - 0s 19ms/step - loss: 0.0062 - accuracy: 1.0000 - val_loss: 0.6995 - val_accuracy: 0.9167\n",
            "Epoch 2/20\n",
            "5/5 [==============================] - 0s 6ms/step - loss: 0.0038 - accuracy: 1.0000 - val_loss: 0.7992 - val_accuracy: 0.8667\n",
            "Epoch 3/20\n",
            "5/5 [==============================] - 0s 7ms/step - loss: 0.0047 - accuracy: 1.0000 - val_loss: 0.7833 - val_accuracy: 0.8833\n",
            "Epoch 4/20\n",
            "5/5 [==============================] - 0s 7ms/step - loss: 0.0038 - accuracy: 1.0000 - val_loss: 0.6727 - val_accuracy: 0.9167\n",
            "Epoch 5/20\n",
            "5/5 [==============================] - 0s 6ms/step - loss: 0.0050 - accuracy: 1.0000 - val_loss: 0.6360 - val_accuracy: 0.9167\n",
            "Epoch 6/20\n",
            "5/5 [==============================] - 0s 6ms/step - loss: 0.0037 - accuracy: 1.0000 - val_loss: 0.6646 - val_accuracy: 0.9167\n",
            "Epoch 7/20\n",
            "5/5 [==============================] - 0s 7ms/step - loss: 0.0046 - accuracy: 1.0000 - val_loss: 0.7018 - val_accuracy: 0.9167\n",
            "Epoch 8/20\n",
            "5/5 [==============================] - 0s 7ms/step - loss: 0.0062 - accuracy: 1.0000 - val_loss: 0.7065 - val_accuracy: 0.9000\n",
            "Epoch 9/20\n",
            "5/5 [==============================] - 0s 6ms/step - loss: 0.0124 - accuracy: 0.9929 - val_loss: 0.7180 - val_accuracy: 0.9000\n",
            "Epoch 10/20\n",
            "5/5 [==============================] - 0s 7ms/step - loss: 0.0118 - accuracy: 0.9929 - val_loss: 0.6835 - val_accuracy: 0.9167\n",
            "Epoch 11/20\n",
            "5/5 [==============================] - 0s 12ms/step - loss: 0.0045 - accuracy: 1.0000 - val_loss: 0.6785 - val_accuracy: 0.9167\n",
            "Epoch 12/20\n",
            "5/5 [==============================] - 0s 7ms/step - loss: 0.0044 - accuracy: 1.0000 - val_loss: 0.6952 - val_accuracy: 0.9167\n",
            "Epoch 13/20\n",
            "5/5 [==============================] - 0s 12ms/step - loss: 0.0047 - accuracy: 1.0000 - val_loss: 0.7023 - val_accuracy: 0.9167\n",
            "Epoch 14/20\n",
            "5/5 [==============================] - 0s 12ms/step - loss: 0.0039 - accuracy: 1.0000 - val_loss: 0.7094 - val_accuracy: 0.9167\n",
            "Epoch 15/20\n",
            "5/5 [==============================] - 0s 13ms/step - loss: 0.0032 - accuracy: 1.0000 - val_loss: 0.7124 - val_accuracy: 0.9167\n",
            "Epoch 16/20\n",
            "5/5 [==============================] - 0s 7ms/step - loss: 0.0047 - accuracy: 1.0000 - val_loss: 0.7069 - val_accuracy: 0.9167\n",
            "Epoch 17/20\n",
            "5/5 [==============================] - 0s 8ms/step - loss: 0.0031 - accuracy: 1.0000 - val_loss: 0.6944 - val_accuracy: 0.9167\n",
            "Epoch 18/20\n",
            "5/5 [==============================] - 0s 12ms/step - loss: 0.0033 - accuracy: 1.0000 - val_loss: 0.6950 - val_accuracy: 0.9167\n",
            "Epoch 19/20\n",
            "5/5 [==============================] - 0s 8ms/step - loss: 0.0031 - accuracy: 1.0000 - val_loss: 0.6998 - val_accuracy: 0.9167\n",
            "Epoch 20/20\n",
            "5/5 [==============================] - 0s 12ms/step - loss: 0.0037 - accuracy: 1.0000 - val_loss: 0.6949 - val_accuracy: 0.9167\n"
          ]
        },
        {
          "data": {
            "text/plain": [
              "<keras.callbacks.History at 0x7f62a95c2e30>"
            ]
          },
          "execution_count": 80,
          "metadata": {},
          "output_type": "execute_result"
        }
      ],
      "source": [
        "model.fit(xtrain,ytrain,batch_size=32,epochs=20,validation_data=(xtest,ytest))"
      ]
    },
    {
      "cell_type": "code",
      "execution_count": 74,
      "metadata": {
        "colab": {
          "base_uri": "https://localhost:8080/"
        },
        "id": "b29U4Qy6ial-",
        "outputId": "0c1345aa-9e96-4d08-b87f-efea7e6cea1b"
      },
      "outputs": [
        {
          "name": "stdout",
          "output_type": "stream",
          "text": [
            "2/2 [==============================] - 0s 5ms/step\n"
          ]
        }
      ],
      "source": [
        "#Testing the Model\n",
        "y_preds=model.predict(xtest)"
      ]
    },
    {
      "cell_type": "code",
      "execution_count": 75,
      "metadata": {
        "colab": {
          "base_uri": "https://localhost:8080/"
        },
        "id": "-d9U6Bbkizda",
        "outputId": "74af21bb-78db-445a-8937-aaf3ed09478f"
      },
      "outputs": [
        {
          "name": "stdout",
          "output_type": "stream",
          "text": [
            "Model: \"sequential_6\"\n",
            "_________________________________________________________________\n",
            " Layer (type)                Output Shape              Param #   \n",
            "=================================================================\n",
            " dense_30 (Dense)            (None, 21)                126       \n",
            "                                                                 \n",
            " dense_31 (Dense)            (None, 24)                528       \n",
            "                                                                 \n",
            " dense_32 (Dense)            (None, 22)                550       \n",
            "                                                                 \n",
            " dense_33 (Dense)            (None, 20)                460       \n",
            "                                                                 \n",
            " dense_34 (Dense)            (None, 5)                 105       \n",
            "                                                                 \n",
            "=================================================================\n",
            "Total params: 1,769\n",
            "Trainable params: 1,769\n",
            "Non-trainable params: 0\n",
            "_________________________________________________________________\n"
          ]
        }
      ],
      "source": [
        "model.summary()"
      ]
    },
    {
      "cell_type": "code",
      "execution_count": 76,
      "metadata": {
        "colab": {
          "base_uri": "https://localhost:8080/"
        },
        "id": "MWgGxE1kizf5",
        "outputId": "8a7a2232-58b4-436f-f7cd-f812236a8eb5"
      },
      "outputs": [
        {
          "data": {
            "text/plain": [
              "array([[5.82075585e-03, 5.29517163e-25, 6.43458689e-11, 1.11131112e-05,\n",
              "        9.94168103e-01],\n",
              "       [9.99999940e-01, 0.00000000e+00, 0.00000000e+00, 4.06205812e-33,\n",
              "        5.59121083e-36],\n",
              "       [9.99999940e-01, 2.19642615e-36, 4.93234208e-22, 1.23307867e-16,\n",
              "        1.53491364e-23],\n",
              "       [9.99804020e-01, 8.88140949e-06, 3.36941375e-05, 1.53418427e-04,\n",
              "        4.97388380e-11],\n",
              "       [3.97602515e-03, 4.54730713e-18, 1.94750202e-04, 9.95826721e-01,\n",
              "        2.49526511e-06],\n",
              "       [9.74085633e-05, 1.76423611e-12, 2.42818729e-03, 9.97445166e-01,\n",
              "        2.92525165e-05],\n",
              "       [9.99999940e-01, 1.30117069e-36, 4.07390078e-32, 1.77921377e-23,\n",
              "        2.02772702e-25],\n",
              "       [9.93562341e-01, 4.11033201e-18, 3.43953366e-06, 6.43420173e-03,\n",
              "        3.47151707e-09],\n",
              "       [4.84603552e-05, 9.99910653e-01, 3.84519153e-05, 2.26734687e-06,\n",
              "        2.18323102e-15],\n",
              "       [2.16177687e-10, 2.33800052e-17, 9.51880264e-09, 3.22399819e-06,\n",
              "        9.99996722e-01],\n",
              "       [4.54076954e-08, 2.77181762e-08, 9.99817848e-01, 1.82079559e-04,\n",
              "        1.88895566e-10],\n",
              "       [9.99999940e-01, 0.00000000e+00, 0.00000000e+00, 0.00000000e+00,\n",
              "        0.00000000e+00],\n",
              "       [4.84051270e-06, 6.37965381e-01, 3.62021029e-01, 8.26385258e-06,\n",
              "        4.40781434e-07],\n",
              "       [9.99999940e-01, 0.00000000e+00, 3.39700749e-33, 4.62649014e-24,\n",
              "        3.90626247e-19],\n",
              "       [9.99999940e-01, 3.79584464e-32, 3.94145989e-23, 7.32440240e-21,\n",
              "        2.05973823e-32],\n",
              "       [3.12353572e-04, 5.15923946e-13, 2.59790360e-03, 9.97073770e-01,\n",
              "        1.59050069e-05],\n",
              "       [9.99999940e-01, 0.00000000e+00, 0.00000000e+00, 0.00000000e+00,\n",
              "        0.00000000e+00],\n",
              "       [9.99999940e-01, 0.00000000e+00, 1.06210369e-33, 2.08385122e-24,\n",
              "        4.38759289e-26],\n",
              "       [1.11778535e-01, 1.71745471e-25, 4.58770245e-07, 1.84011855e-03,\n",
              "        8.86380851e-01],\n",
              "       [1.06551759e-02, 9.81084704e-01, 7.43131852e-03, 8.28849908e-04,\n",
              "        7.33940632e-14],\n",
              "       [9.96923149e-01, 5.81595654e-23, 5.70309511e-12, 3.15121215e-05,\n",
              "        3.04533355e-03],\n",
              "       [1.24647534e-02, 7.44420252e-29, 7.44102335e-10, 7.03807700e-06,\n",
              "        9.87528205e-01],\n",
              "       [1.44309243e-02, 8.20071691e-08, 9.85567808e-01, 1.00641330e-06,\n",
              "        1.19034935e-10],\n",
              "       [3.30369413e-01, 6.68322623e-01, 7.95794942e-04, 5.12162747e-04,\n",
              "        8.57112425e-09],\n",
              "       [9.82306503e-09, 3.76521911e-07, 9.99669254e-01, 3.30435723e-04,\n",
              "        1.67481650e-20],\n",
              "       [1.54133921e-03, 9.98094201e-01, 3.34695913e-04, 2.97502083e-05,\n",
              "        6.97257735e-13],\n",
              "       [8.27489793e-03, 8.46181810e-01, 1.45014837e-01, 5.28431032e-04,\n",
              "        5.07237989e-14],\n",
              "       [4.13840244e-05, 2.43927972e-23, 3.98222538e-10, 2.02566412e-06,\n",
              "        9.99956548e-01],\n",
              "       [1.61988571e-01, 7.91858809e-17, 1.43521021e-07, 8.37564111e-01,\n",
              "        4.47176688e-04],\n",
              "       [9.99440253e-01, 2.11186445e-22, 8.87969993e-12, 5.59699489e-04,\n",
              "        1.96147578e-08],\n",
              "       [9.99999940e-01, 0.00000000e+00, 4.28374026e-37, 8.28390429e-31,\n",
              "        0.00000000e+00],\n",
              "       [4.36844221e-06, 1.09922401e-12, 2.51097134e-08, 3.93559318e-03,\n",
              "        9.96059954e-01],\n",
              "       [4.14905855e-07, 2.67454160e-17, 2.23963792e-10, 1.18180078e-05,\n",
              "        9.99987662e-01],\n",
              "       [9.22103587e-04, 1.25718739e-14, 5.98977087e-04, 9.98374760e-01,\n",
              "        1.04083490e-04],\n",
              "       [9.57988086e-05, 1.03952875e-03, 9.98656511e-01, 2.06319892e-04,\n",
              "        1.76331400e-06],\n",
              "       [9.12333897e-04, 3.48066390e-02, 9.64194417e-01, 8.66331538e-05,\n",
              "        2.60549800e-17],\n",
              "       [8.91763210e-01, 2.71955269e-05, 1.08190738e-01, 1.87683581e-05,\n",
              "        4.38915475e-18],\n",
              "       [9.99681652e-01, 2.67519204e-06, 1.40139291e-05, 3.01230350e-04,\n",
              "        3.18535598e-07],\n",
              "       [5.94584446e-04, 1.40838223e-02, 9.85236764e-01, 8.48374257e-05,\n",
              "        1.41351568e-17],\n",
              "       [1.09742417e-04, 1.00589118e-33, 2.28266452e-14, 2.22497798e-10,\n",
              "        9.99890149e-01],\n",
              "       [4.03028153e-08, 6.34491825e-18, 8.10548018e-11, 4.09275543e-07,\n",
              "        9.99999464e-01],\n",
              "       [9.99999940e-01, 0.00000000e+00, 0.00000000e+00, 1.67282024e-30,\n",
              "        7.74189286e-37],\n",
              "       [9.99999940e-01, 0.00000000e+00, 0.00000000e+00, 6.25147985e-35,\n",
              "        0.00000000e+00],\n",
              "       [9.99980867e-01, 2.45863616e-26, 1.18262605e-12, 1.91136733e-05,\n",
              "        1.05646297e-10],\n",
              "       [7.30173497e-07, 7.38189387e-30, 4.15086251e-15, 5.29964614e-11,\n",
              "        9.99999225e-01],\n",
              "       [9.99999940e-01, 0.00000000e+00, 2.38486692e-17, 4.61317963e-11,\n",
              "        3.98263005e-08],\n",
              "       [6.43188614e-05, 5.08350843e-34, 7.57751355e-15, 7.25420488e-11,\n",
              "        9.99935567e-01],\n",
              "       [3.26998446e-08, 9.99978602e-01, 2.13015956e-05, 1.16142971e-08,\n",
              "        1.61544592e-13],\n",
              "       [7.18870208e-09, 3.19581517e-08, 9.99656856e-01, 3.43201857e-04,\n",
              "        3.08304108e-21],\n",
              "       [9.86176848e-01, 1.10669921e-18, 1.80825160e-10, 3.08420887e-04,\n",
              "        1.35148885e-02],\n",
              "       [1.08743459e-08, 2.47391399e-18, 3.87654886e-08, 8.06278476e-05,\n",
              "        9.99919236e-01],\n",
              "       [9.99999940e-01, 1.49542477e-34, 2.16899661e-16, 6.80489476e-12,\n",
              "        2.05444913e-17],\n",
              "       [4.96070868e-07, 1.21257311e-20, 1.19082799e-10, 1.24468613e-06,\n",
              "        9.99998152e-01],\n",
              "       [9.99999940e-01, 2.02612818e-12, 4.50815253e-12, 1.16646302e-08,\n",
              "        9.17588012e-17],\n",
              "       [9.99999940e-01, 0.00000000e+00, 3.31930620e-24, 1.02042593e-18,\n",
              "        3.67114942e-26],\n",
              "       [9.99999821e-01, 1.44268657e-25, 2.48438914e-14, 6.26201953e-08,\n",
              "        5.24564489e-11],\n",
              "       [1.62502590e-06, 1.46435661e-04, 2.03839946e-03, 9.75538850e-01,\n",
              "        2.22746488e-02],\n",
              "       [1.00000000e+00, 0.00000000e+00, 4.10011958e-27, 9.34019067e-20,\n",
              "        6.29960178e-19],\n",
              "       [1.00000000e+00, 1.86923881e-13, 1.01111119e-10, 7.00000002e-10,\n",
              "        2.24752581e-22],\n",
              "       [1.00000000e+00, 2.92397769e-22, 5.29082232e-15, 1.19254229e-13,\n",
              "        3.41824562e-27]], dtype=float32)"
            ]
          },
          "execution_count": 76,
          "metadata": {},
          "output_type": "execute_result"
        }
      ],
      "source": [
        "y_preds"
      ]
    },
    {
      "cell_type": "code",
      "execution_count": 77,
      "metadata": {
        "colab": {
          "base_uri": "https://localhost:8080/"
        },
        "id": "mplphgwOiziP",
        "outputId": "317db15e-faf8-4f49-d288-7a906d5d30b3"
      },
      "outputs": [
        {
          "data": {
            "text/plain": [
              "[0.5944536328315735, 0.9166666865348816]"
            ]
          },
          "execution_count": 77,
          "metadata": {},
          "output_type": "execute_result"
        }
      ],
      "source": [
        "#Evaluating the model\n",
        "model.evaluate(xtest,ytest,verbose=0)"
      ]
    },
    {
      "cell_type": "code",
      "execution_count": 78,
      "metadata": {
        "colab": {
          "base_uri": "https://localhost:8080/"
        },
        "id": "ppab5TGCza7U",
        "outputId": "4509fd0e-4d3d-447b-f60f-1223f973f7b5"
      },
      "outputs": [
        {
          "name": "stderr",
          "output_type": "stream",
          "text": [
            "WARNING:tensorflow:5 out of the last 9 calls to <function Model.make_predict_function.<locals>.predict_function at 0x7f62a97b0c10> triggered tf.function retracing. Tracing is expensive and the excessive number of tracings could be due to (1) creating @tf.function repeatedly in a loop, (2) passing tensors with different shapes, (3) passing Python objects instead of tensors. For (1), please define your @tf.function outside of the loop. For (2), @tf.function has reduce_retracing=True option that can avoid unnecessary retracing. For (3), please refer to https://www.tensorflow.org/guide/function#controlling_retracing and https://www.tensorflow.org/api_docs/python/tf/function for  more details.\n"
          ]
        },
        {
          "name": "stdout",
          "output_type": "stream",
          "text": [
            "1/1 [==============================] - 0s 71ms/step\n"
          ]
        }
      ],
      "source": [
        "#Task-3 Testing with random data\n",
        "\n",
        "y_preds1=model.predict([[50,0,2,1,113.8]])"
      ]
    },
    {
      "cell_type": "code",
      "execution_count": 79,
      "metadata": {
        "colab": {
          "base_uri": "https://localhost:8080/"
        },
        "id": "nGMw-2Uwza9r",
        "outputId": "3a3cdd50-32e9-4157-8f8a-bd7a257b78fe"
      },
      "outputs": [
        {
          "data": {
            "text/plain": [
              "array([[1., 0., 0., 0., 0.]], dtype=float32)"
            ]
          },
          "execution_count": 79,
          "metadata": {},
          "output_type": "execute_result"
        }
      ],
      "source": [
        "y_preds1"
      ]
    },
    {
      "cell_type": "code",
      "execution_count": null,
      "metadata": {
        "id": "ruQIQh04zbDU"
      },
      "outputs": [],
      "source": []
    }
  ],
  "metadata": {
    "colab": {
      "provenance": []
    },
    "kernelspec": {
      "display_name": "Python 3",
      "name": "python3"
    },
    "language_info": {
      "name": "python"
    }
  },
  "nbformat": 4,
  "nbformat_minor": 0
}
