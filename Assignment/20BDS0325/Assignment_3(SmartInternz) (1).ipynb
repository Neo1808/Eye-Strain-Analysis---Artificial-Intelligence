{
  "cells": [
    {
      "attachments": {},
      "cell_type": "markdown",
      "metadata": {
        "id": "4Zg7nD1sIxGm"
      },
      "source": [
        "Assignment 3: Building a CNN model\n",
        "\n",
        "Name : Aman Varma Rudraraju\n",
        "\n",
        "Reg.No: 20BDS0325\n",
        "\n",
        "Mail: amanvarma.rudraraju2020@vitstudent.ac.in"
      ]
    },
    {
      "cell_type": "code",
      "execution_count": 1,
      "metadata": {
        "colab": {
          "base_uri": "https://localhost:8080/"
        },
        "id": "TH5qBrVGwxdG",
        "outputId": "60090410-7779-47d1-c15c-a459d0ba1338"
      },
      "outputs": [
        {
          "name": "stdout",
          "output_type": "stream",
          "text": [
            "Archive:  /content/drive/MyDrive/archive (2).zip\n",
            "  inflating: test_data/test_data/blasti/DSC_6396.jpg  \n",
            "  inflating: test_data/test_data/blasti/DSC_6397.jpg  \n",
            "  inflating: test_data/test_data/blasti/DSC_6398.jpg  \n",
            "  inflating: test_data/test_data/blasti/DSC_6399.jpg  \n",
            "  inflating: test_data/test_data/blasti/DSC_6400.jpg  \n",
            "  inflating: test_data/test_data/blasti/DSC_6401.jpg  \n",
            "  inflating: test_data/test_data/blasti/DSC_6402.jpg  \n",
            "  inflating: test_data/test_data/blasti/DSC_6403.jpg  \n",
            "  inflating: test_data/test_data/blasti/DSC_6405.jpg  \n",
            "  inflating: test_data/test_data/blasti/DSC_6406.jpg  \n",
            "  inflating: test_data/test_data/blasti/DSC_6407.jpg  \n",
            "  inflating: test_data/test_data/blasti/DSC_6408.jpg  \n",
            "  inflating: test_data/test_data/blasti/DSC_6409.jpg  \n",
            "  inflating: test_data/test_data/blasti/DSC_6410.jpg  \n",
            "  inflating: test_data/test_data/blasti/DSC_6411.jpg  \n",
            "  inflating: test_data/test_data/bonegl/DSC_4587.jpg  \n",
            "  inflating: test_data/test_data/bonegl/DSC_4588.jpg  \n",
            "  inflating: test_data/test_data/bonegl/DSC_4589.jpg  \n",
            "  inflating: test_data/test_data/bonegl/DSC_4590.jpg  \n",
            "  inflating: test_data/test_data/bonegl/DSC_4591.jpg  \n",
            "  inflating: test_data/test_data/bonegl/DSC_4592.jpg  \n",
            "  inflating: test_data/test_data/bonegl/DSC_4593.jpg  \n",
            "  inflating: test_data/test_data/brhkyt/D72_0473.jpg  \n",
            "  inflating: test_data/test_data/brhkyt/D72_0474.jpg  \n",
            "  inflating: test_data/test_data/brhkyt/D72_0475.jpg  \n",
            "  inflating: test_data/test_data/brhkyt/D72_0477.jpg  \n",
            "  inflating: test_data/test_data/brhkyt/D72_0478.jpg  \n",
            "  inflating: test_data/test_data/brhkyt/D72_0479.jpg  \n",
            "  inflating: test_data/test_data/cbrtsh/_D32_10310.jpg  \n",
            "  inflating: test_data/test_data/cbrtsh/_D32_10311.jpg  \n",
            "  inflating: test_data/test_data/cbrtsh/_D32_10312.jpg  \n",
            "  inflating: test_data/test_data/cbrtsh/_D32_10313.jpg  \n",
            "  inflating: test_data/test_data/cbrtsh/_D32_10314.jpg  \n",
            "  inflating: test_data/test_data/cbrtsh/_D32_10317.jpg  \n",
            "  inflating: test_data/test_data/cbrtsh/_D32_10318.jpg  \n",
            "  inflating: test_data/test_data/cmnmyn/DSC_2443.jpg  \n",
            "  inflating: test_data/test_data/cmnmyn/DSC_4681.jpg  \n",
            "  inflating: test_data/test_data/cmnmyn/DSC_5137.jpg  \n",
            "  inflating: test_data/test_data/cmnmyn/DSC_7625.jpg  \n",
            "  inflating: test_data/test_data/cmnmyn/P1050277.jpg  \n",
            "  inflating: test_data/test_data/cmnmyn/_D32_12426.jpg  \n",
            "  inflating: test_data/test_data/cmnmyn/_D32_12427.jpg  \n",
            "  inflating: test_data/test_data/cmnmyn/_D32_12428.jpg  \n",
            "  inflating: test_data/test_data/gretit/11620454726_31a35c26da_o.jpg  \n",
            "  inflating: test_data/test_data/gretit/11776135285_ccf938fa2e_o.jpg  \n",
            "  inflating: test_data/test_data/gretit/11905645146_6a5d4ff9f9_o.jpg  \n",
            "  inflating: test_data/test_data/gretit/8537646712_0b282c4c6a_o.jpg  \n",
            "  inflating: test_data/test_data/gretit/D72_0693.jpg  \n",
            "  inflating: test_data/test_data/gretit/D72_0694.jpg  \n",
            "  inflating: test_data/test_data/gretit/D72_0695.jpg  \n",
            "  inflating: test_data/test_data/hilpig/DSC_6359.jpg  \n",
            "  inflating: test_data/test_data/hilpig/DSC_6362.jpg  \n",
            "  inflating: test_data/test_data/hilpig/DSC_6364.jpg  \n",
            "  inflating: test_data/test_data/hilpig/DSC_6368.jpg  \n",
            "  inflating: test_data/test_data/hilpig/DSC_6403.jpg  \n",
            "  inflating: test_data/test_data/hilpig/DSC_6404.jpg  \n",
            "  inflating: test_data/test_data/hilpig/P1000319.jpg  \n",
            "  inflating: test_data/test_data/hilpig/P1000323.jpg  \n",
            "  inflating: test_data/test_data/hilpig/P1050044.jpg  \n",
            "  inflating: test_data/test_data/hilpig/P1050045.jpg  \n",
            "  inflating: test_data/test_data/himbul/11602064885_3826df4500_o.jpg  \n",
            "  inflating: test_data/test_data/himbul/11619942574_42f23a7b05_o.jpg  \n",
            "  inflating: test_data/test_data/himbul/11620097904_33fa8ee878_o.jpg  \n",
            "  inflating: test_data/test_data/himbul/5857371972_ed4f88b275_o.jpg  \n",
            "  inflating: test_data/test_data/himbul/6154954471_eefe6e00d1_o.jpg  \n",
            "  inflating: test_data/test_data/himbul/D72_0688.jpg  \n",
            "  inflating: test_data/test_data/himbul/D72_0691.jpg  \n",
            "  inflating: test_data/test_data/himbul/DSC08357.jpg  \n",
            "  inflating: test_data/test_data/himbul/DSC_3230.jpg  \n",
            "  inflating: test_data/test_data/himbul/DSC_7439.jpg  \n",
            "  inflating: test_data/test_data/himbul/DSC_7602.jpg  \n",
            "  inflating: test_data/test_data/himbul/P1060368.jpg  \n",
            "  inflating: test_data/test_data/himbul/P1060369.jpg  \n",
            "  inflating: test_data/test_data/himbul/_D32_10242.jpg  \n",
            "  inflating: test_data/test_data/himbul/_D32_10245.jpg  \n",
            "  inflating: test_data/test_data/himbul/_D32_10251.jpg  \n",
            "  inflating: test_data/test_data/himbul/_D32_10319.jpg  \n",
            "  inflating: test_data/test_data/himbul/_D32_10320.jpg  \n",
            "  inflating: test_data/test_data/himbul/_DSC9446.jpg  \n",
            "  inflating: test_data/test_data/himgri/IMG_5384.JPG  \n",
            "  inflating: test_data/test_data/himgri/IMG_5385.JPG  \n",
            "  inflating: test_data/test_data/himgri/IMG_5386.JPG  \n",
            "  inflating: test_data/test_data/himgri/IMG_5387.JPG  \n",
            "  inflating: test_data/test_data/himgri/IMG_5459.JPG  \n",
            "  inflating: test_data/test_data/himgri/IMG_5460.JPG  \n",
            "  inflating: test_data/test_data/himgri/IMG_5487.JPG  \n",
            "  inflating: test_data/test_data/himgri/IMG_5488.JPG  \n",
            "  inflating: test_data/test_data/himgri/IMG_5489.JPG  \n",
            "  inflating: test_data/test_data/himgri/IMG_5490.JPG  \n",
            "  inflating: test_data/test_data/himgri/IMG_5491.JPG  \n",
            "  inflating: test_data/test_data/himgri/IMG_5492.JPG  \n",
            "  inflating: test_data/test_data/himgri/P1020742.jpg  \n",
            "  inflating: test_data/test_data/himgri/P1020743.jpg  \n",
            "  inflating: test_data/test_data/himgri/P1020746.jpg  \n",
            "  inflating: test_data/test_data/himgri/P1020748.jpg  \n",
            "  inflating: test_data/test_data/himgri/P1030055.jpg  \n",
            "  inflating: test_data/test_data/himgri/P1060776.jpg  \n",
            "  inflating: test_data/test_data/himgri/P1060777.jpg  \n",
            "  inflating: test_data/test_data/himgri/P1060778.jpg  \n",
            "  inflating: test_data/test_data/hsparo/100_5573.JPG  \n",
            "  inflating: test_data/test_data/hsparo/100_5585.JPG  \n",
            "  inflating: test_data/test_data/hsparo/100_5586.JPG  \n",
            "  inflating: test_data/test_data/hsparo/100_5742.JPG  \n",
            "  inflating: test_data/test_data/hsparo/12265273154_48e0fefd42_o.jpg  \n",
            "  inflating: test_data/test_data/hsparo/DSC_4521.jpg  \n",
            "  inflating: test_data/test_data/hsparo/DSC_7619.jpg  \n",
            "  inflating: test_data/test_data/hsparo/_DSC_11244.jpg  \n",
            "  inflating: test_data/test_data/hsparo/_DSC_11246.jpg  \n",
            "  inflating: test_data/test_data/indvul/DSC_1263.jpg  \n",
            "  inflating: test_data/test_data/indvul/DSC_1273.jpg  \n",
            "  inflating: test_data/test_data/indvul/DSC_1274.jpg  \n",
            "  inflating: test_data/test_data/indvul/DSC_1275.jpg  \n",
            "  inflating: test_data/test_data/indvul/DSC_1277.jpg  \n",
            "  inflating: test_data/test_data/indvul/_DSC8754.jpg  \n",
            "  inflating: test_data/test_data/indvul/_DSC9520.jpg  \n",
            "  inflating: test_data/test_data/indvul/_DSC9521.jpg  \n",
            "  inflating: test_data/test_data/indvul/_DSC9523.jpg  \n",
            "  inflating: test_data/test_data/jglowl/_D32_10584.jpg  \n",
            "  inflating: test_data/test_data/jglowl/_D32_10587.jpg  \n",
            "  inflating: test_data/test_data/jglowl/_D32_10593.jpg  \n",
            "  inflating: test_data/test_data/jglowl/_D32_13515.jpg  \n",
            "  inflating: test_data/test_data/jglowl/_D32_13516.jpg  \n",
            "  inflating: test_data/test_data/jglowl/_D32_13517.jpg  \n",
            "  inflating: test_data/test_data/lbicrw/100_4917.JPG  \n",
            "  inflating: test_data/test_data/lbicrw/IMG_5538.JPG  \n",
            "  inflating: test_data/test_data/lbicrw/IMG_5541.JPG  \n",
            "  inflating: test_data/test_data/lbicrw/IMG_5543.JPG  \n",
            "  inflating: test_data/test_data/lbicrw/IMG_5544.JPG  \n",
            "  inflating: test_data/test_data/lbicrw/P1030030.jpg  \n",
            "  inflating: test_data/test_data/mgprob/100_5811.JPG  \n",
            "  inflating: test_data/test_data/mgprob/100_5812.JPG  \n",
            "  inflating: test_data/test_data/mgprob/100_5813.JPG  \n",
            "  inflating: test_data/test_data/mgprob/DSC_3233.jpg  \n",
            "  inflating: test_data/test_data/mgprob/_DSC0085.jpg  \n",
            "  inflating: test_data/test_data/mgprob/_DSC0133.jpg  \n",
            "  inflating: test_data/test_data/mgprob/_DSC0135.jpg  \n",
            "  inflating: test_data/test_data/rebimg/100_5756.JPG  \n",
            "  inflating: test_data/test_data/rebimg/100_5757.JPG  \n",
            "  inflating: test_data/test_data/rebimg/100_5758.JPG  \n",
            "  inflating: test_data/test_data/rebimg/100_5759.JPG  \n",
            "  inflating: test_data/test_data/rebimg/100_5760.JPG  \n",
            "  inflating: test_data/test_data/rebimg/13009302395_5d88a9d62b_o.jpg  \n",
            "  inflating: test_data/test_data/rebimg/13009315305_f1cbfb6767_o.jpg  \n",
            "  inflating: test_data/test_data/rebimg/13009451823_8eb502581f_o.jpg  \n",
            "  inflating: test_data/test_data/rebimg/DSC_7148.jpg  \n",
            "  inflating: test_data/test_data/rebimg/IMG_5251.JPG  \n",
            "  inflating: test_data/test_data/rebimg/IMG_5252.JPG  \n",
            "  inflating: test_data/test_data/wcrsrt/100_4462.JPG  \n",
            "  inflating: test_data/test_data/wcrsrt/100_4463.JPG  \n",
            "  inflating: test_data/test_data/wcrsrt/100_4464.JPG  \n",
            "  inflating: test_data/test_data/wcrsrt/100_4466.JPG  \n",
            "  inflating: test_data/test_data/wcrsrt/100_4467.JPG  \n",
            "  inflating: test_data/test_data/wcrsrt/100_4468.JPG  \n",
            "  inflating: test_data/test_data/wcrsrt/100_5103.JPG  \n",
            "  inflating: test_data/test_data/wcrsrt/100_5105.JPG  \n",
            "  inflating: test_data/test_data/wcrsrt/11382677585_ef6570a041_o.jpg  \n",
            "  inflating: test_data/test_data/wcrsrt/11382746854_7ce73793b3_o.jpg  \n",
            "  inflating: train_data/train_data/blasti/DSC_6382.jpg  \n",
            "  inflating: train_data/train_data/blasti/DSC_6383.jpg  \n",
            "  inflating: train_data/train_data/blasti/DSC_6384-2.jpg  \n",
            "  inflating: train_data/train_data/blasti/DSC_6384.jpg  \n",
            "  inflating: train_data/train_data/blasti/DSC_6385.jpg  \n",
            "  inflating: train_data/train_data/blasti/DSC_6386.jpg  \n",
            "  inflating: train_data/train_data/blasti/DSC_6387.jpg  \n",
            "  inflating: train_data/train_data/blasti/DSC_6388.jpg  \n",
            "  inflating: train_data/train_data/blasti/DSC_6389.jpg  \n",
            "  inflating: train_data/train_data/blasti/DSC_6390.jpg  \n",
            "  inflating: train_data/train_data/blasti/DSC_6391.jpg  \n",
            "  inflating: train_data/train_data/blasti/DSC_6392.jpg  \n",
            "  inflating: train_data/train_data/blasti/DSC_6393.jpg  \n",
            "  inflating: train_data/train_data/blasti/DSC_6394.jpg  \n",
            "  inflating: train_data/train_data/blasti/DSC_6395.jpg  \n",
            "  inflating: train_data/train_data/bonegl/DSC_4570.jpg  \n",
            "  inflating: train_data/train_data/bonegl/DSC_4571.jpg  \n",
            "  inflating: train_data/train_data/bonegl/DSC_4583.jpg  \n",
            "  inflating: train_data/train_data/bonegl/DSC_4584.jpg  \n",
            "  inflating: train_data/train_data/bonegl/DSC_4585.jpg  \n",
            "  inflating: train_data/train_data/bonegl/DSC_4586.jpg  \n",
            "  inflating: train_data/train_data/brhkyt/D72_0400.jpg  \n",
            "  inflating: train_data/train_data/brhkyt/D72_0401.jpg  \n",
            "  inflating: train_data/train_data/brhkyt/D72_0470.jpg  \n",
            "  inflating: train_data/train_data/brhkyt/D72_0471.jpg  \n",
            "  inflating: train_data/train_data/brhkyt/D72_0472.jpg  \n",
            "  inflating: train_data/train_data/cbrtsh/100_5097.JPG  \n",
            "  inflating: train_data/train_data/cbrtsh/_D32_10303.jpg  \n",
            "  inflating: train_data/train_data/cbrtsh/_D32_10305.jpg  \n",
            "  inflating: train_data/train_data/cbrtsh/_D32_10306.jpg  \n",
            "  inflating: train_data/train_data/cbrtsh/_D32_10307.jpg  \n",
            "  inflating: train_data/train_data/cbrtsh/_D32_10308.jpg  \n",
            "  inflating: train_data/train_data/cbrtsh/_D32_10309.jpg  \n",
            "  inflating: train_data/train_data/cmnmyn/100_5763.JPG  \n",
            "  inflating: train_data/train_data/cmnmyn/5866682091_870ccc946c_o.jpg  \n",
            "  inflating: train_data/train_data/cmnmyn/6154956165_64266b8b53_o.jpg  \n",
            "  inflating: train_data/train_data/cmnmyn/DSCN5784.jpg  \n",
            "  inflating: train_data/train_data/cmnmyn/DSCN5787.jpg  \n",
            "  inflating: train_data/train_data/cmnmyn/DSCN5790.jpg  \n",
            "  inflating: train_data/train_data/cmnmyn/DSCN5791.jpg  \n",
            "  inflating: train_data/train_data/gretit/100_5042.JPG  \n",
            "  inflating: train_data/train_data/gretit/100_5043.JPG  \n",
            "  inflating: train_data/train_data/gretit/100_5044.JPG  \n",
            "  inflating: train_data/train_data/gretit/100_5045.JPG  \n",
            "  inflating: train_data/train_data/gretit/100_5046.JPG  \n",
            "  inflating: train_data/train_data/gretit/100_5047.JPG  \n",
            "  inflating: train_data/train_data/hilpig/DSC_6272.jpg  \n",
            "  inflating: train_data/train_data/hilpig/DSC_6273.jpg  \n",
            "  inflating: train_data/train_data/hilpig/DSC_6274.jpg  \n",
            "  inflating: train_data/train_data/hilpig/DSC_6275.jpg  \n",
            "  inflating: train_data/train_data/hilpig/DSC_6350.jpg  \n",
            "  inflating: train_data/train_data/hilpig/DSC_6351.jpg  \n",
            "  inflating: train_data/train_data/hilpig/DSC_6352.jpg  \n",
            "  inflating: train_data/train_data/hilpig/DSC_6353.jpg  \n",
            "  inflating: train_data/train_data/hilpig/DSC_6354.jpg  \n",
            "  inflating: train_data/train_data/hilpig/DSC_6358.jpg  \n",
            "  inflating: train_data/train_data/himbul/100_5028.JPG  \n",
            "  inflating: train_data/train_data/himbul/100_5029.JPG  \n",
            "  inflating: train_data/train_data/himbul/100_5096.JPG  \n",
            "  inflating: train_data/train_data/himbul/100_5099.JPG  \n",
            "  inflating: train_data/train_data/himbul/100_5100.JPG  \n",
            "  inflating: train_data/train_data/himbul/100_5102.JPG  \n",
            "  inflating: train_data/train_data/himbul/100_5110.JPG  \n",
            "  inflating: train_data/train_data/himbul/100_5112.JPG  \n",
            "  inflating: train_data/train_data/himbul/100_5113.JPG  \n",
            "  inflating: train_data/train_data/himbul/100_5159.JPG  \n",
            "  inflating: train_data/train_data/himbul/100_5160.JPG  \n",
            "  inflating: train_data/train_data/himbul/100_5161.JPG  \n",
            "  inflating: train_data/train_data/himbul/100_5162.JPG  \n",
            "  inflating: train_data/train_data/himbul/10774570945_9bc537c255_o.jpg  \n",
            "  inflating: train_data/train_data/himbul/11383838134_96e891a316_o.jpg  \n",
            "  inflating: train_data/train_data/himbul/11383857084_cdd7514746_o.jpg  \n",
            "  inflating: train_data/train_data/himbul/11387473723_464965720a_o.jpg  \n",
            "  inflating: train_data/train_data/himbul/9007817678_24db19fc63_o.jpg  \n",
            "  inflating: train_data/train_data/himgri/12029790563_2fe54a68aa_o.jpg  \n",
            "  inflating: train_data/train_data/himgri/12029822653_1185544e7b_o.jpg  \n",
            "  inflating: train_data/train_data/himgri/12029933015_802428e277_o.jpg  \n",
            "  inflating: train_data/train_data/himgri/12029987304_031b7a2d53_o.jpg  \n",
            "  inflating: train_data/train_data/himgri/12030165813_f5341e8ed0_o.jpg  \n",
            "  inflating: train_data/train_data/himgri/12030221124_1baaf905d1_o.jpg  \n",
            "  inflating: train_data/train_data/himgri/12030269234_1c3f5a8e8c_o.jpg  \n",
            "  inflating: train_data/train_data/himgri/12152037683_13e1556c41_o.jpg  \n",
            "  inflating: train_data/train_data/himgri/12152178844_dc29e3126f_o.jpg  \n",
            "  inflating: train_data/train_data/himgri/12152510436_23b62fed3b_o.jpg  \n",
            "  inflating: train_data/train_data/himgri/12265055185_138e3c7c70_o.jpg  \n",
            "  inflating: train_data/train_data/himgri/12265498144_d2e80faa3b_o.jpg  \n",
            "  inflating: train_data/train_data/himgri/12265561764_4814951031_o.jpg  \n",
            "  inflating: train_data/train_data/himgri/12265582724_61cb64e73a_o.jpg  \n",
            "  inflating: train_data/train_data/himgri/12265738206_2b9b25cc8a_o.jpg  \n",
            "  inflating: train_data/train_data/himgri/12265747116_d4b4fa3741_o.jpg  \n",
            "  inflating: train_data/train_data/himgri/12266053036_fcab92d8e8_o.jpg  \n",
            "  inflating: train_data/train_data/himgri/12266077576_1d7143aaf7_o.jpg  \n",
            "  inflating: train_data/train_data/himgri/12266086526_82cd337667_o.jpg  \n",
            "  inflating: train_data/train_data/himgri/IMG_5463.JPG  \n",
            "  inflating: train_data/train_data/hsparo/100_4757.JPG  \n",
            "  inflating: train_data/train_data/hsparo/100_4758.JPG  \n",
            "  inflating: train_data/train_data/hsparo/100_5039.JPG  \n",
            "  inflating: train_data/train_data/hsparo/100_5040.JPG  \n",
            "  inflating: train_data/train_data/hsparo/100_5041.JPG  \n",
            "  inflating: train_data/train_data/hsparo/100_5048.JPG  \n",
            "  inflating: train_data/train_data/hsparo/100_5049.JPG  \n",
            "  inflating: train_data/train_data/hsparo/100_5050.JPG  \n",
            "  inflating: train_data/train_data/hsparo/100_5572.JPG  \n",
            "  inflating: train_data/train_data/indvul/DSC_0502.jpg  \n",
            "  inflating: train_data/train_data/indvul/DSC_0571e.jpg  \n",
            "  inflating: train_data/train_data/indvul/DSC_0572.jpg  \n",
            "  inflating: train_data/train_data/indvul/DSC_0576e.jpg  \n",
            "  inflating: train_data/train_data/indvul/DSC_0582.jpg  \n",
            "  inflating: train_data/train_data/indvul/DSC_0583e.jpg  \n",
            "  inflating: train_data/train_data/indvul/DSC_0584.jpg  \n",
            "  inflating: train_data/train_data/indvul/DSC_0616c.jpg  \n",
            "  inflating: train_data/train_data/indvul/DSC_0617.jpg  \n",
            "  inflating: train_data/train_data/jglowl/12152151476_7a1524aabb_o.jpg  \n",
            "  inflating: train_data/train_data/jglowl/DSC01335.jpg  \n",
            "  inflating: train_data/train_data/jglowl/DSC01336.jpg  \n",
            "  inflating: train_data/train_data/jglowl/_D32_10285.jpg  \n",
            "  inflating: train_data/train_data/jglowl/_D32_10578.jpg  \n",
            "  inflating: train_data/train_data/jglowl/_D32_10583.jpg  \n",
            "  inflating: train_data/train_data/lbicrw/100_4037.JPG  \n",
            "  inflating: train_data/train_data/lbicrw/100_4912.JPG  \n",
            "  inflating: train_data/train_data/lbicrw/100_4913.JPG  \n",
            "  inflating: train_data/train_data/lbicrw/100_4914.JPG  \n",
            "  inflating: train_data/train_data/lbicrw/100_4915.JPG  \n",
            "  inflating: train_data/train_data/lbicrw/100_4916.JPG  \n",
            "  inflating: train_data/train_data/mgprob/100_5587.JPG  \n",
            "  inflating: train_data/train_data/mgprob/100_5588.JPG  \n",
            "  inflating: train_data/train_data/mgprob/100_5589.JPG  \n",
            "  inflating: train_data/train_data/mgprob/100_5590.JPG  \n",
            "  inflating: train_data/train_data/mgprob/100_5592.JPG  \n",
            "  inflating: train_data/train_data/mgprob/100_5762.JPG  \n",
            "  inflating: train_data/train_data/rebimg/100_5744.JPG  \n",
            "  inflating: train_data/train_data/rebimg/100_5745.JPG  \n",
            "  inflating: train_data/train_data/rebimg/100_5746.JPG  \n",
            "  inflating: train_data/train_data/rebimg/100_5748.JPG  \n",
            "  inflating: train_data/train_data/rebimg/100_5749.JPG  \n",
            "  inflating: train_data/train_data/rebimg/100_5750.JPG  \n",
            "  inflating: train_data/train_data/rebimg/100_5751.JPG  \n",
            "  inflating: train_data/train_data/rebimg/100_5752.JPG  \n",
            "  inflating: train_data/train_data/rebimg/100_5754.JPG  \n",
            "  inflating: train_data/train_data/rebimg/100_5755.JPG  \n",
            "  inflating: train_data/train_data/wcrsrt/100_4452.JPG  \n",
            "  inflating: train_data/train_data/wcrsrt/100_4453.JPG  \n",
            "  inflating: train_data/train_data/wcrsrt/100_4454.JPG  \n",
            "  inflating: train_data/train_data/wcrsrt/100_4455.JPG  \n",
            "  inflating: train_data/train_data/wcrsrt/100_4456.JPG  \n",
            "  inflating: train_data/train_data/wcrsrt/100_4457.JPG  \n",
            "  inflating: train_data/train_data/wcrsrt/100_4458.JPG  \n",
            "  inflating: train_data/train_data/wcrsrt/100_4459.JPG  \n",
            "  inflating: train_data/train_data/wcrsrt/100_4460.JPG  \n",
            "  inflating: train_data/train_data/wcrsrt/100_4461.JPG  \n"
          ]
        }
      ],
      "source": [
        "!unzip '/content/drive/MyDrive/archive (2).zip'"
      ]
    },
    {
      "cell_type": "code",
      "execution_count": null,
      "metadata": {
        "id": "b9KvYcAXIgER"
      },
      "outputs": [],
      "source": [
        "from google.colab import drive\n",
        "drive.mount('/content/drive')"
      ]
    },
    {
      "cell_type": "code",
      "execution_count": 1,
      "metadata": {
        "id": "PFew_Z_az81U"
      },
      "outputs": [],
      "source": [
        "# Data Augmentation\n",
        "\n",
        "from tensorflow.keras.preprocessing.image import ImageDataGenerator"
      ]
    },
    {
      "cell_type": "code",
      "execution_count": null,
      "metadata": {
        "id": "NAprGv0w03Ao"
      },
      "outputs": [],
      "source": [
        "train_gen = ImageDataGenerator(rescale=(1./255),horizontal_flip=True,shear_range=0.2)\n",
        "test_gen = ImageDataGenerator(rescale=(1./255))  "
      ]
    },
    {
      "cell_type": "code",
      "execution_count": 3,
      "metadata": {
        "colab": {
          "base_uri": "https://localhost:8080/"
        },
        "id": "XoDtzOce03DU",
        "outputId": "6f12a928-5093-44b1-e9d9-5e58cd3c12ba"
      },
      "outputs": [
        {
          "name": "stdout",
          "output_type": "stream",
          "text": [
            "Found 150 images belonging to 16 classes.\n",
            "Found 157 images belonging to 16 classes.\n"
          ]
        }
      ],
      "source": [
        "train = train_gen.flow_from_directory('train_data/train_data',\n",
        "                                      target_size=(120, 120),\n",
        "                                      class_mode='categorical', \n",
        "                                      batch_size=16)\n",
        "test = test_gen.flow_from_directory('test_data/test_data',\n",
        "                                    target_size=(120, 120),\n",
        "                                      class_mode='categorical', \n",
        "                                      batch_size=16)\n",
        "     "
      ]
    },
    {
      "cell_type": "code",
      "execution_count": 6,
      "metadata": {
        "colab": {
          "base_uri": "https://localhost:8080/"
        },
        "id": "ugqtU0-703F8",
        "outputId": "297dc94a-0634-4e83-8c12-0cc39c052b90"
      },
      "outputs": [
        {
          "data": {
            "text/plain": [
              "{'blasti': 0,\n",
              " 'bonegl': 1,\n",
              " 'brhkyt': 2,\n",
              " 'cbrtsh': 3,\n",
              " 'cmnmyn': 4,\n",
              " 'gretit': 5,\n",
              " 'hilpig': 6,\n",
              " 'himbul': 7,\n",
              " 'himgri': 8,\n",
              " 'hsparo': 9,\n",
              " 'indvul': 10,\n",
              " 'jglowl': 11,\n",
              " 'lbicrw': 12,\n",
              " 'mgprob': 13,\n",
              " 'rebimg': 14,\n",
              " 'wcrsrt': 15}"
            ]
          },
          "execution_count": 6,
          "metadata": {},
          "output_type": "execute_result"
        }
      ],
      "source": [
        "train.class_indices"
      ]
    },
    {
      "cell_type": "code",
      "execution_count": 7,
      "metadata": {
        "id": "j0UvSdOh03IS"
      },
      "outputs": [],
      "source": [
        "# CNN\n",
        "\n",
        "from tensorflow.keras.layers import Convolution2D,MaxPooling2D,Flatten,Dense\n",
        "from tensorflow.keras.models import Sequential\n",
        "     "
      ]
    },
    {
      "cell_type": "code",
      "execution_count": 11,
      "metadata": {
        "id": "ybgWHNq103K4"
      },
      "outputs": [],
      "source": [
        "model = Sequential()\n",
        "model.add(Convolution2D(20,(3,3),activation='relu',input_shape=(120, 120, 3)))\n",
        "model.add(MaxPooling2D(pool_size=(2,2)))\n",
        "model.add(Flatten())\n",
        "model.add(Dense(45,activation='relu'))\n",
        "model.add(Dense(16,activation='softmax'))\n",
        "     "
      ]
    },
    {
      "cell_type": "code",
      "execution_count": 12,
      "metadata": {
        "id": "TMzVjjlw2CMa"
      },
      "outputs": [],
      "source": [
        "model.compile(optimizer='adam',loss='categorical_crossentropy',metrics=['accuracy'])"
      ]
    },
    {
      "cell_type": "code",
      "execution_count": 13,
      "metadata": {
        "colab": {
          "base_uri": "https://localhost:8080/"
        },
        "id": "hw6PLIoI2CPO",
        "outputId": "8f97b396-9140-419b-baed-a68a6eb5d1e7"
      },
      "outputs": [
        {
          "name": "stdout",
          "output_type": "stream",
          "text": [
            "Epoch 1/10\n",
            "10/10 [==============================] - 89s 9s/step - loss: 5.5129 - accuracy: 0.0867 - val_loss: 2.8298 - val_accuracy: 0.1401\n",
            "Epoch 2/10\n",
            "10/10 [==============================] - 84s 9s/step - loss: 2.7099 - accuracy: 0.1533 - val_loss: 2.7279 - val_accuracy: 0.1146\n",
            "Epoch 3/10\n",
            "10/10 [==============================] - 83s 9s/step - loss: 2.5658 - accuracy: 0.2133 - val_loss: 2.7216 - val_accuracy: 0.1529\n",
            "Epoch 4/10\n",
            "10/10 [==============================] - 88s 9s/step - loss: 2.4196 - accuracy: 0.2267 - val_loss: 2.6871 - val_accuracy: 0.1529\n",
            "Epoch 5/10\n",
            "10/10 [==============================] - 84s 9s/step - loss: 2.3644 - accuracy: 0.2533 - val_loss: 2.6712 - val_accuracy: 0.1847\n",
            "Epoch 6/10\n",
            "10/10 [==============================] - 83s 9s/step - loss: 2.2369 - accuracy: 0.3000 - val_loss: 2.6781 - val_accuracy: 0.1720\n",
            "Epoch 7/10\n",
            "10/10 [==============================] - 82s 9s/step - loss: 2.0667 - accuracy: 0.3533 - val_loss: 2.6816 - val_accuracy: 0.2611\n",
            "Epoch 8/10\n",
            "10/10 [==============================] - 82s 9s/step - loss: 1.9825 - accuracy: 0.3800 - val_loss: 2.6422 - val_accuracy: 0.2038\n",
            "Epoch 9/10\n",
            "10/10 [==============================] - 82s 9s/step - loss: 1.8201 - accuracy: 0.4000 - val_loss: 2.8855 - val_accuracy: 0.1083\n",
            "Epoch 10/10\n",
            "10/10 [==============================] - 83s 9s/step - loss: 1.7426 - accuracy: 0.4667 - val_loss: 2.7111 - val_accuracy: 0.2293\n"
          ]
        },
        {
          "data": {
            "text/plain": [
              "<keras.callbacks.History at 0x7fe1a754eda0>"
            ]
          },
          "execution_count": 13,
          "metadata": {},
          "output_type": "execute_result"
        }
      ],
      "source": [
        "model.fit(train,batch_size=24,validation_data=test,epochs=10)"
      ]
    },
    {
      "cell_type": "code",
      "execution_count": 14,
      "metadata": {
        "id": "7962E-7L-rM5"
      },
      "outputs": [],
      "source": [
        "model.save('birds.h5')"
      ]
    },
    {
      "attachments": {},
      "cell_type": "markdown",
      "metadata": {
        "id": "ou4OtinTBwVF"
      },
      "source": [
        "Model tuning (Adding feature extraction layers)"
      ]
    },
    {
      "cell_type": "code",
      "execution_count": 17,
      "metadata": {
        "id": "Ll4F_kG2-rhN"
      },
      "outputs": [],
      "source": [
        "model = Sequential()\n",
        "model.add(Convolution2D(12,(3,3),activation='relu',input_shape=(120, 120, 3)))\n",
        "model.add(MaxPooling2D(pool_size=(2,2)))\n",
        "model.add(Convolution2D(24,(3,3),activation='relu'))\n",
        "model.add(MaxPooling2D(pool_size=(2,2)))\n",
        "model.add(Convolution2D(36,(3,3),activation='relu'))\n",
        "model.add(MaxPooling2D(pool_size=(2,2)))\n",
        "model.add(Flatten())\n",
        "model.add(Dense(68,activation='relu'))\n",
        "model.add(Dense(64,activation='relu'))\n",
        "model.add(Dense(32,activation='relu'))\n",
        "model.add(Dense(16,activation='softmax'))"
      ]
    },
    {
      "cell_type": "code",
      "execution_count": 18,
      "metadata": {
        "colab": {
          "base_uri": "https://localhost:8080/"
        },
        "id": "MIs_Uus7-rj1",
        "outputId": "30d759f4-c327-4019-b9ad-fb699c4fadfe"
      },
      "outputs": [
        {
          "name": "stdout",
          "output_type": "stream",
          "text": [
            "Model: \"sequential_2\"\n",
            "_________________________________________________________________\n",
            " Layer (type)                Output Shape              Param #   \n",
            "=================================================================\n",
            " conv2d_2 (Conv2D)           (None, 118, 118, 12)      336       \n",
            "                                                                 \n",
            " max_pooling2d_2 (MaxPooling  (None, 59, 59, 12)       0         \n",
            " 2D)                                                             \n",
            "                                                                 \n",
            " conv2d_3 (Conv2D)           (None, 57, 57, 24)        2616      \n",
            "                                                                 \n",
            " max_pooling2d_3 (MaxPooling  (None, 28, 28, 24)       0         \n",
            " 2D)                                                             \n",
            "                                                                 \n",
            " conv2d_4 (Conv2D)           (None, 26, 26, 36)        7812      \n",
            "                                                                 \n",
            " max_pooling2d_4 (MaxPooling  (None, 13, 13, 36)       0         \n",
            " 2D)                                                             \n",
            "                                                                 \n",
            " flatten_2 (Flatten)         (None, 6084)              0         \n",
            "                                                                 \n",
            " dense_4 (Dense)             (None, 68)                413780    \n",
            "                                                                 \n",
            " dense_5 (Dense)             (None, 64)                4416      \n",
            "                                                                 \n",
            " dense_6 (Dense)             (None, 32)                2080      \n",
            "                                                                 \n",
            " dense_7 (Dense)             (None, 16)                528       \n",
            "                                                                 \n",
            "=================================================================\n",
            "Total params: 431,568\n",
            "Trainable params: 431,568\n",
            "Non-trainable params: 0\n",
            "_________________________________________________________________\n"
          ]
        }
      ],
      "source": [
        "model.summary()"
      ]
    },
    {
      "cell_type": "code",
      "execution_count": 19,
      "metadata": {
        "id": "D_UpZhN_-rmY"
      },
      "outputs": [],
      "source": [
        "model.compile(optimizer='adam',loss='categorical_crossentropy',metrics=['accuracy'])"
      ]
    },
    {
      "cell_type": "code",
      "execution_count": 21,
      "metadata": {
        "colab": {
          "base_uri": "https://localhost:8080/"
        },
        "id": "jVh5J18z-ro_",
        "outputId": "0f4fbe20-7dc0-459b-c0c0-94938581eefa"
      },
      "outputs": [
        {
          "name": "stdout",
          "output_type": "stream",
          "text": [
            "Epoch 1/10\n",
            "10/10 [==============================] - 123s 13s/step - loss: 2.7333 - accuracy: 0.1067 - val_loss: 2.7213 - val_accuracy: 0.1338\n",
            "Epoch 2/10\n",
            "10/10 [==============================] - 82s 9s/step - loss: 2.6728 - accuracy: 0.1800 - val_loss: 2.6845 - val_accuracy: 0.1656\n",
            "Epoch 3/10\n",
            "10/10 [==============================] - 83s 9s/step - loss: 2.6168 - accuracy: 0.1933 - val_loss: 2.7238 - val_accuracy: 0.1911\n",
            "Epoch 4/10\n",
            "10/10 [==============================] - 82s 9s/step - loss: 2.5773 - accuracy: 0.1933 - val_loss: 2.6705 - val_accuracy: 0.1656\n",
            "Epoch 5/10\n",
            "10/10 [==============================] - 82s 8s/step - loss: 2.4824 - accuracy: 0.2267 - val_loss: 2.7047 - val_accuracy: 0.2229\n",
            "Epoch 6/10\n",
            "10/10 [==============================] - 83s 9s/step - loss: 2.4433 - accuracy: 0.2133 - val_loss: 2.6696 - val_accuracy: 0.1465\n",
            "Epoch 7/10\n",
            "10/10 [==============================] - 118s 13s/step - loss: 2.3818 - accuracy: 0.2467 - val_loss: 2.6731 - val_accuracy: 0.1847\n",
            "Epoch 8/10\n",
            "10/10 [==============================] - 82s 9s/step - loss: 2.3442 - accuracy: 0.2200 - val_loss: 2.6873 - val_accuracy: 0.2420\n",
            "Epoch 9/10\n",
            "10/10 [==============================] - 83s 9s/step - loss: 2.2819 - accuracy: 0.2867 - val_loss: 2.6651 - val_accuracy: 0.2293\n",
            "Epoch 10/10\n",
            "10/10 [==============================] - 83s 9s/step - loss: 2.2091 - accuracy: 0.2733 - val_loss: 2.7962 - val_accuracy: 0.1783\n"
          ]
        },
        {
          "data": {
            "text/plain": [
              "<keras.callbacks.History at 0x7fe19c38b370>"
            ]
          },
          "execution_count": 21,
          "metadata": {},
          "output_type": "execute_result"
        }
      ],
      "source": [
        "model.fit(train,batch_size=8,validation_data=test,epochs=10)"
      ]
    },
    {
      "attachments": {},
      "cell_type": "markdown",
      "metadata": {
        "id": "cFYZiSl0DJ92"
      },
      "source": [
        "Model tuning (with dropout, batch normalization & early stopping)"
      ]
    },
    {
      "cell_type": "code",
      "execution_count": 22,
      "metadata": {
        "id": "K9N1GwTuCCCl"
      },
      "outputs": [],
      "source": [
        "from tensorflow.keras.layers import BatchNormalization, Dropout"
      ]
    },
    {
      "cell_type": "code",
      "execution_count": 23,
      "metadata": {
        "id": "yrKbUxbtCCFK"
      },
      "outputs": [],
      "source": [
        "# Initializing the seq model\n",
        "model = Sequential()\n",
        "# Adding conv layer with input\n",
        "model.add(Convolution2D(12,(3,3),activation='relu',input_shape=(120, 120, 3)))\n",
        "# Normalizing the conv layer output\n",
        "model.add(BatchNormalization())\n",
        "# Selecting the max values\n",
        "model.add(MaxPooling2D(pool_size=(2,2)))\n",
        "# Dropping the unwanted 20% of data\n",
        "model.add(Dropout(0.2))\n",
        "model.add(Convolution2D(24,(3,3),activation='relu'))\n",
        "model.add(BatchNormalization())\n",
        "model.add(MaxPooling2D(pool_size=(2,2)))\n",
        "model.add(Dropout(0.2))\n",
        "model.add(Convolution2D(36,(3,3),activation='relu'))\n",
        "model.add(BatchNormalization())\n",
        "model.add(MaxPooling2D(pool_size=(2,2)))\n",
        "model.add(Dropout(0.2))\n",
        "model.add(Flatten())\n",
        "# Hiddern layers\n",
        "model.add(Dense(62,activation='relu'))\n",
        "model.add(BatchNormalization())\n",
        "model.add(Dropout(0.1))\n",
        "model.add(Dense(64,activation='relu'))\n",
        "model.add(Dense(32,activation='relu'))\n",
        "# Output layer\n",
        "model.add(Dense(16,activation='softmax'))"
      ]
    },
    {
      "cell_type": "code",
      "execution_count": 24,
      "metadata": {
        "colab": {
          "base_uri": "https://localhost:8080/"
        },
        "id": "zJZfAiNUCCHO",
        "outputId": "d6343e4e-e8ee-4033-b0d2-bb8b963bea39"
      },
      "outputs": [
        {
          "name": "stdout",
          "output_type": "stream",
          "text": [
            "Model: \"sequential_3\"\n",
            "_________________________________________________________________\n",
            " Layer (type)                Output Shape              Param #   \n",
            "=================================================================\n",
            " conv2d_5 (Conv2D)           (None, 118, 118, 12)      336       \n",
            "                                                                 \n",
            " batch_normalization (BatchN  (None, 118, 118, 12)     48        \n",
            " ormalization)                                                   \n",
            "                                                                 \n",
            " max_pooling2d_5 (MaxPooling  (None, 59, 59, 12)       0         \n",
            " 2D)                                                             \n",
            "                                                                 \n",
            " dropout (Dropout)           (None, 59, 59, 12)        0         \n",
            "                                                                 \n",
            " conv2d_6 (Conv2D)           (None, 57, 57, 24)        2616      \n",
            "                                                                 \n",
            " batch_normalization_1 (Batc  (None, 57, 57, 24)       96        \n",
            " hNormalization)                                                 \n",
            "                                                                 \n",
            " max_pooling2d_6 (MaxPooling  (None, 28, 28, 24)       0         \n",
            " 2D)                                                             \n",
            "                                                                 \n",
            " dropout_1 (Dropout)         (None, 28, 28, 24)        0         \n",
            "                                                                 \n",
            " conv2d_7 (Conv2D)           (None, 26, 26, 36)        7812      \n",
            "                                                                 \n",
            " batch_normalization_2 (Batc  (None, 26, 26, 36)       144       \n",
            " hNormalization)                                                 \n",
            "                                                                 \n",
            " max_pooling2d_7 (MaxPooling  (None, 13, 13, 36)       0         \n",
            " 2D)                                                             \n",
            "                                                                 \n",
            " dropout_2 (Dropout)         (None, 13, 13, 36)        0         \n",
            "                                                                 \n",
            " flatten_3 (Flatten)         (None, 6084)              0         \n",
            "                                                                 \n",
            " dense_8 (Dense)             (None, 62)                377270    \n",
            "                                                                 \n",
            " batch_normalization_3 (Batc  (None, 62)               248       \n",
            " hNormalization)                                                 \n",
            "                                                                 \n",
            " dropout_3 (Dropout)         (None, 62)                0         \n",
            "                                                                 \n",
            " dense_9 (Dense)             (None, 64)                4032      \n",
            "                                                                 \n",
            " dense_10 (Dense)            (None, 32)                2080      \n",
            "                                                                 \n",
            " dense_11 (Dense)            (None, 16)                528       \n",
            "                                                                 \n",
            "=================================================================\n",
            "Total params: 395,210\n",
            "Trainable params: 394,942\n",
            "Non-trainable params: 268\n",
            "_________________________________________________________________\n"
          ]
        }
      ],
      "source": [
        "model.summary()"
      ]
    },
    {
      "cell_type": "code",
      "execution_count": 25,
      "metadata": {
        "id": "Z5LaW6SODTl9"
      },
      "outputs": [],
      "source": [
        "model.compile(optimizer='adam',loss='categorical_crossentropy',metrics=['accuracy'])"
      ]
    },
    {
      "cell_type": "code",
      "execution_count": 26,
      "metadata": {
        "id": "9WNMDoxFDToq"
      },
      "outputs": [],
      "source": [
        "# Early stopping\n",
        "from tensorflow.keras.callbacks import EarlyStopping"
      ]
    },
    {
      "cell_type": "code",
      "execution_count": 27,
      "metadata": {
        "id": "2SbX-r4IDTrB"
      },
      "outputs": [],
      "source": [
        "early_stop = EarlyStopping(monitor='accuracy',patience=8)"
      ]
    },
    {
      "cell_type": "code",
      "execution_count": 28,
      "metadata": {
        "colab": {
          "base_uri": "https://localhost:8080/"
        },
        "id": "7k-fW2E1DaIY",
        "outputId": "aee4b322-ca97-4269-d678-cda9dfa7f72b"
      },
      "outputs": [
        {
          "name": "stdout",
          "output_type": "stream",
          "text": [
            "Epoch 1/10\n",
            "10/10 [==============================] - 92s 9s/step - loss: 2.9456 - accuracy: 0.0333 - val_loss: 2.7761 - val_accuracy: 0.1083\n",
            "Epoch 2/10\n",
            "10/10 [==============================] - 83s 9s/step - loss: 2.4196 - accuracy: 0.1867 - val_loss: 2.8814 - val_accuracy: 0.0955\n",
            "Epoch 3/10\n",
            "10/10 [==============================] - 83s 9s/step - loss: 2.2205 - accuracy: 0.3333 - val_loss: 3.1158 - val_accuracy: 0.0955\n",
            "Epoch 4/10\n",
            "10/10 [==============================] - 83s 9s/step - loss: 2.1023 - accuracy: 0.3667 - val_loss: 3.3396 - val_accuracy: 0.0573\n",
            "Epoch 5/10\n",
            "10/10 [==============================] - 83s 9s/step - loss: 1.9519 - accuracy: 0.4533 - val_loss: 3.5574 - val_accuracy: 0.0573\n",
            "Epoch 6/10\n",
            "10/10 [==============================] - 83s 9s/step - loss: 1.8183 - accuracy: 0.5133 - val_loss: 3.8737 - val_accuracy: 0.0573\n",
            "Epoch 7/10\n",
            "10/10 [==============================] - 83s 9s/step - loss: 1.7101 - accuracy: 0.5400 - val_loss: 4.2564 - val_accuracy: 0.0573\n",
            "Epoch 8/10\n",
            "10/10 [==============================] - 83s 9s/step - loss: 1.5910 - accuracy: 0.5467 - val_loss: 4.5404 - val_accuracy: 0.0573\n",
            "Epoch 9/10\n",
            "10/10 [==============================] - 84s 9s/step - loss: 1.4303 - accuracy: 0.6067 - val_loss: 4.9676 - val_accuracy: 0.0573\n",
            "Epoch 10/10\n",
            "10/10 [==============================] - 83s 9s/step - loss: 1.4031 - accuracy: 0.6333 - val_loss: 5.6321 - val_accuracy: 0.0573\n"
          ]
        },
        {
          "data": {
            "text/plain": [
              "<keras.callbacks.History at 0x7fe19c2b9060>"
            ]
          },
          "execution_count": 28,
          "metadata": {},
          "output_type": "execute_result"
        }
      ],
      "source": [
        "model.fit(train,batch_size=16,validation_data=test,epochs=10,callbacks=early_stop)"
      ]
    },
    {
      "cell_type": "code",
      "execution_count": null,
      "metadata": {
        "id": "fHDXRTKIDaK4"
      },
      "outputs": [],
      "source": []
    },
    {
      "cell_type": "code",
      "execution_count": null,
      "metadata": {
        "id": "ZzTCIktQCCJv"
      },
      "outputs": [],
      "source": []
    },
    {
      "cell_type": "code",
      "execution_count": 29,
      "metadata": {
        "id": "igYX4Fp72CRG"
      },
      "outputs": [],
      "source": [
        "from tensorflow.keras.layers import Dense,Flatten,Input\n",
        "from tensorflow.keras.models import Model\n",
        "from tensorflow.keras.preprocessing import image\n",
        "from tensorflow.keras.preprocessing.image import ImageDataGenerator, load_img\n",
        "import numpy as np"
      ]
    },
    {
      "attachments": {},
      "cell_type": "markdown",
      "metadata": {
        "id": "m0O53wxX6i6r"
      },
      "source": [
        "**VGG16**"
      ]
    },
    {
      "cell_type": "code",
      "execution_count": 65,
      "metadata": {
        "id": "rSlAEBw6OD4V"
      },
      "outputs": [],
      "source": [
        "train_path = \"/content/train_data/train_data\"\n",
        "test_path = \"/content/test_data/test_data\"\n",
        "     "
      ]
    },
    {
      "cell_type": "code",
      "execution_count": 66,
      "metadata": {
        "id": "TRlZnsC6OE7g"
      },
      "outputs": [],
      "source": [
        "train_gen = ImageDataGenerator(rescale=1./255,\n",
        "                               shear_range=0.2,\n",
        "                               zoom_range=0.2,\n",
        "                               horizontal_flip=True)\n",
        "\n",
        "test_gen = ImageDataGenerator(rescale=1./255) \n",
        "     \n"
      ]
    },
    {
      "cell_type": "code",
      "execution_count": 67,
      "metadata": {
        "colab": {
          "base_uri": "https://localhost:8080/"
        },
        "id": "lHCFCcf_OE93",
        "outputId": "d33af3ba-7efc-4db5-fb7c-f2d86172cf57"
      },
      "outputs": [
        {
          "name": "stdout",
          "output_type": "stream",
          "text": [
            "Found 150 images belonging to 16 classes.\n",
            "Found 157 images belonging to 16 classes.\n"
          ]
        }
      ],
      "source": [
        "train = train_gen.flow_from_directory(train_path,\n",
        "                                      target_size=(224,224),\n",
        "                                      batch_size=22,\n",
        "                                      class_mode='categorical')\n",
        "\n",
        "test = test_gen.flow_from_directory(test_path,\n",
        "                                      target_size=(224,224),\n",
        "                                      batch_size=22,\n",
        "                                      class_mode='categorical')"
      ]
    },
    {
      "cell_type": "code",
      "execution_count": null,
      "metadata": {
        "id": "1WMV-U4SOE_7"
      },
      "outputs": [],
      "source": []
    },
    {
      "cell_type": "code",
      "execution_count": 68,
      "metadata": {
        "id": "hjRGDPh36vG0"
      },
      "outputs": [],
      "source": [
        "from tensorflow.keras.applications.vgg16 import VGG16, preprocess_input"
      ]
    },
    {
      "cell_type": "code",
      "execution_count": 69,
      "metadata": {
        "id": "OdREYpw76vJh"
      },
      "outputs": [],
      "source": [
        "\n",
        "# Adding the preprocessing layer to the front of vgg\n",
        "\n",
        "vgg = VGG16(include_top=False,weights='imagenet',input_shape=(224,224,3))"
      ]
    },
    {
      "cell_type": "code",
      "execution_count": 70,
      "metadata": {
        "colab": {
          "base_uri": "https://localhost:8080/"
        },
        "id": "l5Xrbn-d6vMB",
        "outputId": "4e34e791-04eb-401a-84c4-c6c75b7b2db0"
      },
      "outputs": [
        {
          "name": "stdout",
          "output_type": "stream",
          "text": [
            "<keras.engine.input_layer.InputLayer object at 0x7fe182ca6920>\n",
            "<keras.layers.convolutional.conv2d.Conv2D object at 0x7fe182b9cdf0>\n",
            "<keras.layers.convolutional.conv2d.Conv2D object at 0x7fe182c15d80>\n",
            "<keras.layers.pooling.max_pooling2d.MaxPooling2D object at 0x7fe182c162f0>\n",
            "<keras.layers.convolutional.conv2d.Conv2D object at 0x7fe182deb4c0>\n",
            "<keras.layers.convolutional.conv2d.Conv2D object at 0x7fe192fd56f0>\n",
            "<keras.layers.pooling.max_pooling2d.MaxPooling2D object at 0x7fe17e3dfdc0>\n",
            "<keras.layers.convolutional.conv2d.Conv2D object at 0x7fe182be7070>\n",
            "<keras.layers.convolutional.conv2d.Conv2D object at 0x7fe17e3df5b0>\n",
            "<keras.layers.convolutional.conv2d.Conv2D object at 0x7fe17e3de7a0>\n",
            "<keras.layers.pooling.max_pooling2d.MaxPooling2D object at 0x7fe17e3dfe50>\n",
            "<keras.layers.convolutional.conv2d.Conv2D object at 0x7fe17e3df6a0>\n",
            "<keras.layers.convolutional.conv2d.Conv2D object at 0x7fe17e4113c0>\n",
            "<keras.layers.convolutional.conv2d.Conv2D object at 0x7fe17e3dfeb0>\n",
            "<keras.layers.pooling.max_pooling2d.MaxPooling2D object at 0x7fe17e4119f0>\n",
            "<keras.layers.convolutional.conv2d.Conv2D object at 0x7fe17e411d80>\n",
            "<keras.layers.convolutional.conv2d.Conv2D object at 0x7fe17e3de200>\n",
            "<keras.layers.convolutional.conv2d.Conv2D object at 0x7fe17e412c20>\n",
            "<keras.layers.pooling.max_pooling2d.MaxPooling2D object at 0x7fe17e412650>\n"
          ]
        }
      ],
      "source": [
        "\n",
        "# Train model with existing weights\n",
        "\n",
        "for layer in vgg.layers:\n",
        "  print(layer)\n",
        "     "
      ]
    },
    {
      "cell_type": "code",
      "execution_count": 71,
      "metadata": {
        "id": "o4QdyiG96vOf"
      },
      "outputs": [],
      "source": [
        "# Train model with existing weights\n",
        "\n",
        "for layer in vgg.layers:\n",
        "  layer.trainable=False"
      ]
    },
    {
      "cell_type": "code",
      "execution_count": 72,
      "metadata": {
        "id": "su0njNQN6vQ7"
      },
      "outputs": [],
      "source": [
        "x = Flatten()(vgg.output)"
      ]
    },
    {
      "cell_type": "code",
      "execution_count": 73,
      "metadata": {
        "id": "Ht4styLG6vTd"
      },
      "outputs": [],
      "source": [
        "\n",
        "# output layer\n",
        "\n",
        "prediction = Dense(16,activation='softmax')(x)"
      ]
    },
    {
      "cell_type": "code",
      "execution_count": 74,
      "metadata": {
        "id": "tPMi4XQX6_S-"
      },
      "outputs": [],
      "source": [
        "\n",
        "# Create Vgg16 model\n",
        "\n",
        "model = Model(inputs=vgg.input,outputs=prediction)"
      ]
    },
    {
      "cell_type": "code",
      "execution_count": 75,
      "metadata": {
        "colab": {
          "base_uri": "https://localhost:8080/"
        },
        "id": "3vsRyzXf6_VB",
        "outputId": "69d09291-cbac-457b-c521-37f36a832287"
      },
      "outputs": [
        {
          "name": "stdout",
          "output_type": "stream",
          "text": [
            "Model: \"model_4\"\n",
            "_________________________________________________________________\n",
            " Layer (type)                Output Shape              Param #   \n",
            "=================================================================\n",
            " input_3 (InputLayer)        [(None, 224, 224, 3)]     0         \n",
            "                                                                 \n",
            " block1_conv1 (Conv2D)       (None, 224, 224, 64)      1792      \n",
            "                                                                 \n",
            " block1_conv2 (Conv2D)       (None, 224, 224, 64)      36928     \n",
            "                                                                 \n",
            " block1_pool (MaxPooling2D)  (None, 112, 112, 64)      0         \n",
            "                                                                 \n",
            " block2_conv1 (Conv2D)       (None, 112, 112, 128)     73856     \n",
            "                                                                 \n",
            " block2_conv2 (Conv2D)       (None, 112, 112, 128)     147584    \n",
            "                                                                 \n",
            " block2_pool (MaxPooling2D)  (None, 56, 56, 128)       0         \n",
            "                                                                 \n",
            " block3_conv1 (Conv2D)       (None, 56, 56, 256)       295168    \n",
            "                                                                 \n",
            " block3_conv2 (Conv2D)       (None, 56, 56, 256)       590080    \n",
            "                                                                 \n",
            " block3_conv3 (Conv2D)       (None, 56, 56, 256)       590080    \n",
            "                                                                 \n",
            " block3_pool (MaxPooling2D)  (None, 28, 28, 256)       0         \n",
            "                                                                 \n",
            " block4_conv1 (Conv2D)       (None, 28, 28, 512)       1180160   \n",
            "                                                                 \n",
            " block4_conv2 (Conv2D)       (None, 28, 28, 512)       2359808   \n",
            "                                                                 \n",
            " block4_conv3 (Conv2D)       (None, 28, 28, 512)       2359808   \n",
            "                                                                 \n",
            " block4_pool (MaxPooling2D)  (None, 14, 14, 512)       0         \n",
            "                                                                 \n",
            " block5_conv1 (Conv2D)       (None, 14, 14, 512)       2359808   \n",
            "                                                                 \n",
            " block5_conv2 (Conv2D)       (None, 14, 14, 512)       2359808   \n",
            "                                                                 \n",
            " block5_conv3 (Conv2D)       (None, 14, 14, 512)       2359808   \n",
            "                                                                 \n",
            " block5_pool (MaxPooling2D)  (None, 7, 7, 512)         0         \n",
            "                                                                 \n",
            " flatten_6 (Flatten)         (None, 25088)             0         \n",
            "                                                                 \n",
            " dense_20 (Dense)            (None, 16)                401424    \n",
            "                                                                 \n",
            "=================================================================\n",
            "Total params: 15,116,112\n",
            "Trainable params: 401,424\n",
            "Non-trainable params: 14,714,688\n",
            "_________________________________________________________________\n"
          ]
        }
      ],
      "source": [
        "\n",
        "model.summary()\n",
        "     "
      ]
    },
    {
      "cell_type": "code",
      "execution_count": 76,
      "metadata": {
        "id": "UpQYocCf7FTF"
      },
      "outputs": [],
      "source": [
        "model.compile(loss='categorical_crossentropy',optimizer='adam',metrics=['accuracy'])"
      ]
    },
    {
      "cell_type": "code",
      "execution_count": 78,
      "metadata": {
        "colab": {
          "base_uri": "https://localhost:8080/"
        },
        "id": "IwxAmUA97FVZ",
        "outputId": "b179661b-115a-420a-a556-87d083e432fb"
      },
      "outputs": [
        {
          "name": "stderr",
          "output_type": "stream",
          "text": [
            "<ipython-input-78-240d737b1fe6>:1: UserWarning: `Model.fit_generator` is deprecated and will be removed in a future version. Please use `Model.fit`, which supports generators.\n",
            "  model.fit_generator(train,validation_data=test,epochs=10,steps_per_epoch=len(train),\n"
          ]
        },
        {
          "name": "stdout",
          "output_type": "stream",
          "text": [
            "Epoch 1/10\n",
            "7/7 [==============================] - 94s 15s/step - loss: 0.3135 - accuracy: 0.9200 - val_loss: 2.9036 - val_accuracy: 0.3631\n",
            "Epoch 2/10\n",
            "7/7 [==============================] - 84s 13s/step - loss: 0.2061 - accuracy: 0.9467 - val_loss: 3.0445 - val_accuracy: 0.3439\n",
            "Epoch 3/10\n",
            "7/7 [==============================] - 85s 13s/step - loss: 0.1484 - accuracy: 0.9667 - val_loss: 3.0354 - val_accuracy: 0.3694\n",
            "Epoch 4/10\n",
            "7/7 [==============================] - 86s 14s/step - loss: 0.1051 - accuracy: 0.9867 - val_loss: 2.8874 - val_accuracy: 0.3885\n",
            "Epoch 5/10\n",
            "7/7 [==============================] - 85s 14s/step - loss: 0.0937 - accuracy: 0.9933 - val_loss: 2.8999 - val_accuracy: 0.3822\n",
            "Epoch 6/10\n",
            "7/7 [==============================] - 86s 13s/step - loss: 0.0946 - accuracy: 0.9800 - val_loss: 2.9127 - val_accuracy: 0.3822\n",
            "Epoch 7/10\n",
            "7/7 [==============================] - 87s 14s/step - loss: 0.0591 - accuracy: 1.0000 - val_loss: 2.9409 - val_accuracy: 0.3758\n",
            "Epoch 8/10\n",
            "7/7 [==============================] - 87s 13s/step - loss: 0.0520 - accuracy: 1.0000 - val_loss: 2.8939 - val_accuracy: 0.3885\n",
            "Epoch 9/10\n",
            "7/7 [==============================] - 84s 13s/step - loss: 0.0391 - accuracy: 1.0000 - val_loss: 2.9239 - val_accuracy: 0.3758\n",
            "Epoch 10/10\n",
            "7/7 [==============================] - 86s 14s/step - loss: 0.0364 - accuracy: 1.0000 - val_loss: 2.8855 - val_accuracy: 0.4076\n"
          ]
        },
        {
          "data": {
            "text/plain": [
              "<keras.callbacks.History at 0x7fe182e473d0>"
            ]
          },
          "execution_count": 78,
          "metadata": {},
          "output_type": "execute_result"
        }
      ],
      "source": [
        "model.fit_generator(train,validation_data=test,epochs=10,steps_per_epoch=len(train),\n",
        "                    validation_steps=len(test))"
      ]
    },
    {
      "cell_type": "code",
      "execution_count": null,
      "metadata": {
        "id": "ff_yet5Z7FX5"
      },
      "outputs": [],
      "source": []
    },
    {
      "attachments": {},
      "cell_type": "markdown",
      "metadata": {
        "id": "0YwfwRcORJdT"
      },
      "source": [
        "Resnet50"
      ]
    },
    {
      "cell_type": "code",
      "execution_count": 79,
      "metadata": {
        "id": "Si0kKhJhRMyF"
      },
      "outputs": [],
      "source": [
        "from tensorflow.keras.applications.resnet50 import ResNet50"
      ]
    },
    {
      "cell_type": "code",
      "execution_count": 80,
      "metadata": {
        "colab": {
          "base_uri": "https://localhost:8080/"
        },
        "id": "Y2HuThgcRM3h",
        "outputId": "5da049d6-cb78-41c8-b793-aae2f18d3bb2"
      },
      "outputs": [
        {
          "name": "stdout",
          "output_type": "stream",
          "text": [
            "Downloading data from https://storage.googleapis.com/tensorflow/keras-applications/resnet/resnet50_weights_tf_dim_ordering_tf_kernels_notop.h5\n",
            "94765736/94765736 [==============================] - 1s 0us/step\n"
          ]
        }
      ],
      "source": [
        "resnet = ResNet50(include_top=False,input_shape=(224,224,3))"
      ]
    },
    {
      "cell_type": "code",
      "execution_count": 81,
      "metadata": {
        "id": "MOr2Hw55RN5H"
      },
      "outputs": [],
      "source": [
        "for layer in resnet.layers:\n",
        "  layer.trainable=False"
      ]
    },
    {
      "cell_type": "code",
      "execution_count": 82,
      "metadata": {
        "colab": {
          "base_uri": "https://localhost:8080/"
        },
        "id": "jL9rai3SRN7e",
        "outputId": "7a32576c-ba2d-430f-d758-881c14d02ccc"
      },
      "outputs": [
        {
          "name": "stdout",
          "output_type": "stream",
          "text": [
            "<keras.engine.input_layer.InputLayer object at 0x7fe17e227c70>\n",
            "<keras.layers.reshaping.zero_padding2d.ZeroPadding2D object at 0x7fe17e224760>\n",
            "<keras.layers.convolutional.conv2d.Conv2D object at 0x7fe17e225600>\n",
            "<keras.layers.normalization.batch_normalization.BatchNormalization object at 0x7fe17e238e80>\n",
            "<keras.layers.core.activation.Activation object at 0x7fe17e239cc0>\n",
            "<keras.layers.reshaping.zero_padding2d.ZeroPadding2D object at 0x7fe17e23a680>\n",
            "<keras.layers.pooling.max_pooling2d.MaxPooling2D object at 0x7fe17e239bd0>\n",
            "<keras.layers.convolutional.conv2d.Conv2D object at 0x7fe17e23ae60>\n",
            "<keras.layers.normalization.batch_normalization.BatchNormalization object at 0x7fe17e26a950>\n",
            "<keras.layers.core.activation.Activation object at 0x7fe17e26a200>\n",
            "<keras.layers.convolutional.conv2d.Conv2D object at 0x7fe17e26b580>\n",
            "<keras.layers.normalization.batch_normalization.BatchNormalization object at 0x7fe17e26a770>\n",
            "<keras.layers.core.activation.Activation object at 0x7fe17e26a6b0>\n",
            "<keras.layers.convolutional.conv2d.Conv2D object at 0x7fe17e23bee0>\n",
            "<keras.layers.convolutional.conv2d.Conv2D object at 0x7fe17e26b8b0>\n",
            "<keras.layers.normalization.batch_normalization.BatchNormalization object at 0x7fe17e23b5b0>\n",
            "<keras.layers.normalization.batch_normalization.BatchNormalization object at 0x7fe17e28d030>\n",
            "<keras.layers.merging.add.Add object at 0x7fe17e26b700>\n",
            "<keras.layers.core.activation.Activation object at 0x7fe17e28f1c0>\n",
            "<keras.layers.convolutional.conv2d.Conv2D object at 0x7fe17e28d8d0>\n",
            "<keras.layers.normalization.batch_normalization.BatchNormalization object at 0x7fe17e28f640>\n",
            "<keras.layers.core.activation.Activation object at 0x7fe17e28ebf0>\n",
            "<keras.layers.convolutional.conv2d.Conv2D object at 0x7fe17e28ff10>\n",
            "<keras.layers.normalization.batch_normalization.BatchNormalization object at 0x7fe17e28f100>\n",
            "<keras.layers.core.activation.Activation object at 0x7fe17e28feb0>\n",
            "<keras.layers.convolutional.conv2d.Conv2D object at 0x7fe17e2aa710>\n",
            "<keras.layers.normalization.batch_normalization.BatchNormalization object at 0x7fe17e2ab760>\n",
            "<keras.layers.merging.add.Add object at 0x7fe17e2aa7a0>\n",
            "<keras.layers.core.activation.Activation object at 0x7fe17e2a9300>\n",
            "<keras.layers.convolutional.conv2d.Conv2D object at 0x7fe17e2abd00>\n",
            "<keras.layers.normalization.batch_normalization.BatchNormalization object at 0x7fe17e0c9b70>\n",
            "<keras.layers.core.activation.Activation object at 0x7fe17e2abc40>\n",
            "<keras.layers.convolutional.conv2d.Conv2D object at 0x7fe17e0c9930>\n",
            "<keras.layers.normalization.batch_normalization.BatchNormalization object at 0x7fe17e0cb3d0>\n",
            "<keras.layers.core.activation.Activation object at 0x7fe17e0cb100>\n",
            "<keras.layers.convolutional.conv2d.Conv2D object at 0x7fe17e0cb310>\n",
            "<keras.layers.normalization.batch_normalization.BatchNormalization object at 0x7fe17e0c8c70>\n",
            "<keras.layers.merging.add.Add object at 0x7fe17e0cafe0>\n",
            "<keras.layers.core.activation.Activation object at 0x7fe17e0cba90>\n",
            "<keras.layers.convolutional.conv2d.Conv2D object at 0x7fe17e0e97e0>\n",
            "<keras.layers.normalization.batch_normalization.BatchNormalization object at 0x7fe17e0ebf10>\n",
            "<keras.layers.core.activation.Activation object at 0x7fe17e0cbc70>\n",
            "<keras.layers.convolutional.conv2d.Conv2D object at 0x7fe17e0c8df0>\n",
            "<keras.layers.normalization.batch_normalization.BatchNormalization object at 0x7fe17e0c8be0>\n",
            "<keras.layers.core.activation.Activation object at 0x7fe17e2a93c0>\n",
            "<keras.layers.convolutional.conv2d.Conv2D object at 0x7fe17e0c9690>\n",
            "<keras.layers.convolutional.conv2d.Conv2D object at 0x7fe17e0c8fa0>\n",
            "<keras.layers.normalization.batch_normalization.BatchNormalization object at 0x7fe17e0eb460>\n",
            "<keras.layers.normalization.batch_normalization.BatchNormalization object at 0x7fe17e2a9270>\n",
            "<keras.layers.merging.add.Add object at 0x7fe17e239fc0>\n",
            "<keras.layers.core.activation.Activation object at 0x7fe17e238eb0>\n",
            "<keras.layers.convolutional.conv2d.Conv2D object at 0x7fe17e268b50>\n",
            "<keras.layers.normalization.batch_normalization.BatchNormalization object at 0x7fe17e26b520>\n",
            "<keras.layers.core.activation.Activation object at 0x7fe17e2692d0>\n",
            "<keras.layers.convolutional.conv2d.Conv2D object at 0x7fe17e26bb20>\n",
            "<keras.layers.normalization.batch_normalization.BatchNormalization object at 0x7fe17e10e3e0>\n",
            "<keras.layers.core.activation.Activation object at 0x7fe17e10e6b0>\n",
            "<keras.layers.convolutional.conv2d.Conv2D object at 0x7fe17e10f040>\n",
            "<keras.layers.normalization.batch_normalization.BatchNormalization object at 0x7fe17e10df90>\n",
            "<keras.layers.merging.add.Add object at 0x7fe17e10f0d0>\n",
            "<keras.layers.core.activation.Activation object at 0x7fe17e10faf0>\n",
            "<keras.layers.convolutional.conv2d.Conv2D object at 0x7fe17e114d30>\n",
            "<keras.layers.normalization.batch_normalization.BatchNormalization object at 0x7fe17e1164d0>\n",
            "<keras.layers.core.activation.Activation object at 0x7fe17e116140>\n",
            "<keras.layers.convolutional.conv2d.Conv2D object at 0x7fe17e117100>\n",
            "<keras.layers.normalization.batch_normalization.BatchNormalization object at 0x7fe17e117d30>\n",
            "<keras.layers.core.activation.Activation object at 0x7fe17e116260>\n",
            "<keras.layers.convolutional.conv2d.Conv2D object at 0x7fe17e1175e0>\n",
            "<keras.layers.normalization.batch_normalization.BatchNormalization object at 0x7fe17e134c70>\n",
            "<keras.layers.merging.add.Add object at 0x7fe17e117220>\n",
            "<keras.layers.core.activation.Activation object at 0x7fe17e136110>\n",
            "<keras.layers.convolutional.conv2d.Conv2D object at 0x7fe17e136710>\n",
            "<keras.layers.normalization.batch_normalization.BatchNormalization object at 0x7fe17e137e20>\n",
            "<keras.layers.core.activation.Activation object at 0x7fe17e135270>\n",
            "<keras.layers.convolutional.conv2d.Conv2D object at 0x7fe17e137bb0>\n",
            "<keras.layers.normalization.batch_normalization.BatchNormalization object at 0x7fe17e134880>\n",
            "<keras.layers.core.activation.Activation object at 0x7fe17e137d60>\n",
            "<keras.layers.convolutional.conv2d.Conv2D object at 0x7fe17e156320>\n",
            "<keras.layers.normalization.batch_normalization.BatchNormalization object at 0x7fe17e157370>\n",
            "<keras.layers.merging.add.Add object at 0x7fe17e1563b0>\n",
            "<keras.layers.core.activation.Activation object at 0x7fe17e1569e0>\n",
            "<keras.layers.convolutional.conv2d.Conv2D object at 0x7fe17e1365f0>\n",
            "<keras.layers.normalization.batch_normalization.BatchNormalization object at 0x7fe17e155e10>\n",
            "<keras.layers.core.activation.Activation object at 0x7fe17e135750>\n",
            "<keras.layers.convolutional.conv2d.Conv2D object at 0x7fe17e1543d0>\n",
            "<keras.layers.normalization.batch_normalization.BatchNormalization object at 0x7fe17e10dde0>\n",
            "<keras.layers.core.activation.Activation object at 0x7fe17e2a8b80>\n",
            "<keras.layers.convolutional.conv2d.Conv2D object at 0x7fe17e1571c0>\n",
            "<keras.layers.convolutional.conv2d.Conv2D object at 0x7fe17e2a8cd0>\n",
            "<keras.layers.normalization.batch_normalization.BatchNormalization object at 0x7fe17e154be0>\n",
            "<keras.layers.normalization.batch_normalization.BatchNormalization object at 0x7fe17e0e9f00>\n",
            "<keras.layers.merging.add.Add object at 0x7fe17e2a90f0>\n",
            "<keras.layers.core.activation.Activation object at 0x7fe17e0e8310>\n",
            "<keras.layers.convolutional.conv2d.Conv2D object at 0x7fe17e179570>\n",
            "<keras.layers.normalization.batch_normalization.BatchNormalization object at 0x7fe17e17abc0>\n",
            "<keras.layers.core.activation.Activation object at 0x7fe17e17a7a0>\n",
            "<keras.layers.convolutional.conv2d.Conv2D object at 0x7fe17e17b7f0>\n",
            "<keras.layers.normalization.batch_normalization.BatchNormalization object at 0x7fe17e17a4a0>\n",
            "<keras.layers.core.activation.Activation object at 0x7fe17e17b9a0>\n",
            "<keras.layers.convolutional.conv2d.Conv2D object at 0x7fe17e17bc70>\n",
            "<keras.layers.normalization.batch_normalization.BatchNormalization object at 0x7fe17e18e110>\n",
            "<keras.layers.merging.add.Add object at 0x7fe17e17bac0>\n",
            "<keras.layers.core.activation.Activation object at 0x7fe17e18f4f0>\n",
            "<keras.layers.convolutional.conv2d.Conv2D object at 0x7fe17e18ee00>\n",
            "<keras.layers.normalization.batch_normalization.BatchNormalization object at 0x7fe17e18f9a0>\n",
            "<keras.layers.core.activation.Activation object at 0x7fe17e18fd30>\n",
            "<keras.layers.convolutional.conv2d.Conv2D object at 0x7fe17e18fa00>\n",
            "<keras.layers.normalization.batch_normalization.BatchNormalization object at 0x7fe17e1a9d80>\n",
            "<keras.layers.core.activation.Activation object at 0x7fe17e1a9ab0>\n",
            "<keras.layers.convolutional.conv2d.Conv2D object at 0x7fe17e1aa9b0>\n",
            "<keras.layers.normalization.batch_normalization.BatchNormalization object at 0x7fe17e1aba30>\n",
            "<keras.layers.merging.add.Add object at 0x7fe17e1aaa70>\n",
            "<keras.layers.core.activation.Activation object at 0x7fe17e1ab280>\n",
            "<keras.layers.convolutional.conv2d.Conv2D object at 0x7fe17e1a9a20>\n",
            "<keras.layers.normalization.batch_normalization.BatchNormalization object at 0x7fe168095e40>\n",
            "<keras.layers.core.activation.Activation object at 0x7fe17e1ab7c0>\n",
            "<keras.layers.convolutional.conv2d.Conv2D object at 0x7fe168096290>\n",
            "<keras.layers.normalization.batch_normalization.BatchNormalization object at 0x7fe1680976a0>\n",
            "<keras.layers.core.activation.Activation object at 0x7fe1680974f0>\n",
            "<keras.layers.convolutional.conv2d.Conv2D object at 0x7fe168096d70>\n",
            "<keras.layers.normalization.batch_normalization.BatchNormalization object at 0x7fe168094e20>\n",
            "<keras.layers.merging.add.Add object at 0x7fe17e1a8910>\n",
            "<keras.layers.core.activation.Activation object at 0x7fe17e1a8130>\n",
            "<keras.layers.convolutional.conv2d.Conv2D object at 0x7fe168094640>\n",
            "<keras.layers.normalization.batch_normalization.BatchNormalization object at 0x7fe17e0cbcd0>\n",
            "<keras.layers.core.activation.Activation object at 0x7fe17e179f00>\n",
            "<keras.layers.convolutional.conv2d.Conv2D object at 0x7fe17e178df0>\n",
            "<keras.layers.normalization.batch_normalization.BatchNormalization object at 0x7fe17e178d60>\n",
            "<keras.layers.core.activation.Activation object at 0x7fe17e154490>\n",
            "<keras.layers.convolutional.conv2d.Conv2D object at 0x7fe17e10ea10>\n",
            "<keras.layers.normalization.batch_normalization.BatchNormalization object at 0x7fe17e2a85b0>\n",
            "<keras.layers.merging.add.Add object at 0x7fe17e10d570>\n",
            "<keras.layers.core.activation.Activation object at 0x7fe1680b4160>\n",
            "<keras.layers.convolutional.conv2d.Conv2D object at 0x7fe1680b60b0>\n",
            "<keras.layers.normalization.batch_normalization.BatchNormalization object at 0x7fe17e269bd0>\n",
            "<keras.layers.core.activation.Activation object at 0x7fe1680b7430>\n",
            "<keras.layers.convolutional.conv2d.Conv2D object at 0x7fe1680b7010>\n",
            "<keras.layers.normalization.batch_normalization.BatchNormalization object at 0x7fe1680b70d0>\n",
            "<keras.layers.core.activation.Activation object at 0x7fe1680b7be0>\n",
            "<keras.layers.convolutional.conv2d.Conv2D object at 0x7fe1680cd930>\n",
            "<keras.layers.normalization.batch_normalization.BatchNormalization object at 0x7fe1680cee30>\n",
            "<keras.layers.merging.add.Add object at 0x7fe1680b7c10>\n",
            "<keras.layers.core.activation.Activation object at 0x7fe1680cc8b0>\n",
            "<keras.layers.convolutional.conv2d.Conv2D object at 0x7fe1680ced40>\n",
            "<keras.layers.normalization.batch_normalization.BatchNormalization object at 0x7fe1680cf940>\n",
            "<keras.layers.core.activation.Activation object at 0x7fe1680cf460>\n",
            "<keras.layers.convolutional.conv2d.Conv2D object at 0x7fe1680eea40>\n",
            "<keras.layers.normalization.batch_normalization.BatchNormalization object at 0x7fe1680ef730>\n",
            "<keras.layers.core.activation.Activation object at 0x7fe1680ef400>\n",
            "<keras.layers.convolutional.conv2d.Conv2D object at 0x7fe1680cf820>\n",
            "<keras.layers.convolutional.conv2d.Conv2D object at 0x7fe1680ecf10>\n",
            "<keras.layers.normalization.batch_normalization.BatchNormalization object at 0x7fe1680cf790>\n",
            "<keras.layers.normalization.batch_normalization.BatchNormalization object at 0x7fe1680efdf0>\n",
            "<keras.layers.merging.add.Add object at 0x7fe1680ef670>\n",
            "<keras.layers.core.activation.Activation object at 0x7fe168104220>\n",
            "<keras.layers.convolutional.conv2d.Conv2D object at 0x7fe168105330>\n",
            "<keras.layers.normalization.batch_normalization.BatchNormalization object at 0x7fe168107820>\n",
            "<keras.layers.core.activation.Activation object at 0x7fe168106920>\n",
            "<keras.layers.convolutional.conv2d.Conv2D object at 0x7fe168107d00>\n",
            "<keras.layers.normalization.batch_normalization.BatchNormalization object at 0x7fe168104250>\n",
            "<keras.layers.core.activation.Activation object at 0x7fe1680efb50>\n",
            "<keras.layers.convolutional.conv2d.Conv2D object at 0x7fe1680ecee0>\n",
            "<keras.layers.normalization.batch_normalization.BatchNormalization object at 0x7fe1680ccfd0>\n",
            "<keras.layers.merging.add.Add object at 0x7fe1680ecca0>\n",
            "<keras.layers.core.activation.Activation object at 0x7fe1680cd030>\n",
            "<keras.layers.convolutional.conv2d.Conv2D object at 0x7fe1680cc670>\n",
            "<keras.layers.normalization.batch_normalization.BatchNormalization object at 0x7fe1681048e0>\n",
            "<keras.layers.core.activation.Activation object at 0x7fe1680ee530>\n",
            "<keras.layers.convolutional.conv2d.Conv2D object at 0x7fe17e1aaf50>\n",
            "<keras.layers.normalization.batch_normalization.BatchNormalization object at 0x7fe1680b6da0>\n",
            "<keras.layers.core.activation.Activation object at 0x7fe1680b5210>\n",
            "<keras.layers.convolutional.conv2d.Conv2D object at 0x7fe168125cf0>\n",
            "<keras.layers.normalization.batch_normalization.BatchNormalization object at 0x7fe168126d40>\n",
            "<keras.layers.merging.add.Add object at 0x7fe168125d80>\n",
            "<keras.layers.core.activation.Activation object at 0x7fe168126a40>\n"
          ]
        }
      ],
      "source": [
        "for layer in resnet.layers:\n",
        "  print(layer)"
      ]
    },
    {
      "cell_type": "code",
      "execution_count": 83,
      "metadata": {
        "id": "moSIf61XRN-I"
      },
      "outputs": [],
      "source": [
        "x = Flatten()(resnet.output)"
      ]
    },
    {
      "cell_type": "code",
      "execution_count": 84,
      "metadata": {
        "id": "0jiuUhiRROAj"
      },
      "outputs": [],
      "source": [
        "out = Dense(16, activation='softmax')(x)"
      ]
    },
    {
      "cell_type": "code",
      "execution_count": 85,
      "metadata": {
        "id": "sfLveJW3RODG"
      },
      "outputs": [],
      "source": [
        "res_model = Model(inputs=resnet.input,outputs=out)"
      ]
    },
    {
      "cell_type": "code",
      "execution_count": 86,
      "metadata": {
        "colab": {
          "base_uri": "https://localhost:8080/"
        },
        "id": "llUOw5C3ROOr",
        "outputId": "6e3f81d5-e692-4fb2-c47d-bb501293b584"
      },
      "outputs": [
        {
          "name": "stdout",
          "output_type": "stream",
          "text": [
            "Model: \"model_5\"\n",
            "__________________________________________________________________________________________________\n",
            " Layer (type)                   Output Shape         Param #     Connected to                     \n",
            "==================================================================================================\n",
            " input_4 (InputLayer)           [(None, 224, 224, 3  0           []                               \n",
            "                                )]                                                                \n",
            "                                                                                                  \n",
            " conv1_pad (ZeroPadding2D)      (None, 230, 230, 3)  0           ['input_4[0][0]']                \n",
            "                                                                                                  \n",
            " conv1_conv (Conv2D)            (None, 112, 112, 64  9472        ['conv1_pad[0][0]']              \n",
            "                                )                                                                 \n",
            "                                                                                                  \n",
            " conv1_bn (BatchNormalization)  (None, 112, 112, 64  256         ['conv1_conv[0][0]']             \n",
            "                                )                                                                 \n",
            "                                                                                                  \n",
            " conv1_relu (Activation)        (None, 112, 112, 64  0           ['conv1_bn[0][0]']               \n",
            "                                )                                                                 \n",
            "                                                                                                  \n",
            " pool1_pad (ZeroPadding2D)      (None, 114, 114, 64  0           ['conv1_relu[0][0]']             \n",
            "                                )                                                                 \n",
            "                                                                                                  \n",
            " pool1_pool (MaxPooling2D)      (None, 56, 56, 64)   0           ['pool1_pad[0][0]']              \n",
            "                                                                                                  \n",
            " conv2_block1_1_conv (Conv2D)   (None, 56, 56, 64)   4160        ['pool1_pool[0][0]']             \n",
            "                                                                                                  \n",
            " conv2_block1_1_bn (BatchNormal  (None, 56, 56, 64)  256         ['conv2_block1_1_conv[0][0]']    \n",
            " ization)                                                                                         \n",
            "                                                                                                  \n",
            " conv2_block1_1_relu (Activatio  (None, 56, 56, 64)  0           ['conv2_block1_1_bn[0][0]']      \n",
            " n)                                                                                               \n",
            "                                                                                                  \n",
            " conv2_block1_2_conv (Conv2D)   (None, 56, 56, 64)   36928       ['conv2_block1_1_relu[0][0]']    \n",
            "                                                                                                  \n",
            " conv2_block1_2_bn (BatchNormal  (None, 56, 56, 64)  256         ['conv2_block1_2_conv[0][0]']    \n",
            " ization)                                                                                         \n",
            "                                                                                                  \n",
            " conv2_block1_2_relu (Activatio  (None, 56, 56, 64)  0           ['conv2_block1_2_bn[0][0]']      \n",
            " n)                                                                                               \n",
            "                                                                                                  \n",
            " conv2_block1_0_conv (Conv2D)   (None, 56, 56, 256)  16640       ['pool1_pool[0][0]']             \n",
            "                                                                                                  \n",
            " conv2_block1_3_conv (Conv2D)   (None, 56, 56, 256)  16640       ['conv2_block1_2_relu[0][0]']    \n",
            "                                                                                                  \n",
            " conv2_block1_0_bn (BatchNormal  (None, 56, 56, 256)  1024       ['conv2_block1_0_conv[0][0]']    \n",
            " ization)                                                                                         \n",
            "                                                                                                  \n",
            " conv2_block1_3_bn (BatchNormal  (None, 56, 56, 256)  1024       ['conv2_block1_3_conv[0][0]']    \n",
            " ization)                                                                                         \n",
            "                                                                                                  \n",
            " conv2_block1_add (Add)         (None, 56, 56, 256)  0           ['conv2_block1_0_bn[0][0]',      \n",
            "                                                                  'conv2_block1_3_bn[0][0]']      \n",
            "                                                                                                  \n",
            " conv2_block1_out (Activation)  (None, 56, 56, 256)  0           ['conv2_block1_add[0][0]']       \n",
            "                                                                                                  \n",
            " conv2_block2_1_conv (Conv2D)   (None, 56, 56, 64)   16448       ['conv2_block1_out[0][0]']       \n",
            "                                                                                                  \n",
            " conv2_block2_1_bn (BatchNormal  (None, 56, 56, 64)  256         ['conv2_block2_1_conv[0][0]']    \n",
            " ization)                                                                                         \n",
            "                                                                                                  \n",
            " conv2_block2_1_relu (Activatio  (None, 56, 56, 64)  0           ['conv2_block2_1_bn[0][0]']      \n",
            " n)                                                                                               \n",
            "                                                                                                  \n",
            " conv2_block2_2_conv (Conv2D)   (None, 56, 56, 64)   36928       ['conv2_block2_1_relu[0][0]']    \n",
            "                                                                                                  \n",
            " conv2_block2_2_bn (BatchNormal  (None, 56, 56, 64)  256         ['conv2_block2_2_conv[0][0]']    \n",
            " ization)                                                                                         \n",
            "                                                                                                  \n",
            " conv2_block2_2_relu (Activatio  (None, 56, 56, 64)  0           ['conv2_block2_2_bn[0][0]']      \n",
            " n)                                                                                               \n",
            "                                                                                                  \n",
            " conv2_block2_3_conv (Conv2D)   (None, 56, 56, 256)  16640       ['conv2_block2_2_relu[0][0]']    \n",
            "                                                                                                  \n",
            " conv2_block2_3_bn (BatchNormal  (None, 56, 56, 256)  1024       ['conv2_block2_3_conv[0][0]']    \n",
            " ization)                                                                                         \n",
            "                                                                                                  \n",
            " conv2_block2_add (Add)         (None, 56, 56, 256)  0           ['conv2_block1_out[0][0]',       \n",
            "                                                                  'conv2_block2_3_bn[0][0]']      \n",
            "                                                                                                  \n",
            " conv2_block2_out (Activation)  (None, 56, 56, 256)  0           ['conv2_block2_add[0][0]']       \n",
            "                                                                                                  \n",
            " conv2_block3_1_conv (Conv2D)   (None, 56, 56, 64)   16448       ['conv2_block2_out[0][0]']       \n",
            "                                                                                                  \n",
            " conv2_block3_1_bn (BatchNormal  (None, 56, 56, 64)  256         ['conv2_block3_1_conv[0][0]']    \n",
            " ization)                                                                                         \n",
            "                                                                                                  \n",
            " conv2_block3_1_relu (Activatio  (None, 56, 56, 64)  0           ['conv2_block3_1_bn[0][0]']      \n",
            " n)                                                                                               \n",
            "                                                                                                  \n",
            " conv2_block3_2_conv (Conv2D)   (None, 56, 56, 64)   36928       ['conv2_block3_1_relu[0][0]']    \n",
            "                                                                                                  \n",
            " conv2_block3_2_bn (BatchNormal  (None, 56, 56, 64)  256         ['conv2_block3_2_conv[0][0]']    \n",
            " ization)                                                                                         \n",
            "                                                                                                  \n",
            " conv2_block3_2_relu (Activatio  (None, 56, 56, 64)  0           ['conv2_block3_2_bn[0][0]']      \n",
            " n)                                                                                               \n",
            "                                                                                                  \n",
            " conv2_block3_3_conv (Conv2D)   (None, 56, 56, 256)  16640       ['conv2_block3_2_relu[0][0]']    \n",
            "                                                                                                  \n",
            " conv2_block3_3_bn (BatchNormal  (None, 56, 56, 256)  1024       ['conv2_block3_3_conv[0][0]']    \n",
            " ization)                                                                                         \n",
            "                                                                                                  \n",
            " conv2_block3_add (Add)         (None, 56, 56, 256)  0           ['conv2_block2_out[0][0]',       \n",
            "                                                                  'conv2_block3_3_bn[0][0]']      \n",
            "                                                                                                  \n",
            " conv2_block3_out (Activation)  (None, 56, 56, 256)  0           ['conv2_block3_add[0][0]']       \n",
            "                                                                                                  \n",
            " conv3_block1_1_conv (Conv2D)   (None, 28, 28, 128)  32896       ['conv2_block3_out[0][0]']       \n",
            "                                                                                                  \n",
            " conv3_block1_1_bn (BatchNormal  (None, 28, 28, 128)  512        ['conv3_block1_1_conv[0][0]']    \n",
            " ization)                                                                                         \n",
            "                                                                                                  \n",
            " conv3_block1_1_relu (Activatio  (None, 28, 28, 128)  0          ['conv3_block1_1_bn[0][0]']      \n",
            " n)                                                                                               \n",
            "                                                                                                  \n",
            " conv3_block1_2_conv (Conv2D)   (None, 28, 28, 128)  147584      ['conv3_block1_1_relu[0][0]']    \n",
            "                                                                                                  \n",
            " conv3_block1_2_bn (BatchNormal  (None, 28, 28, 128)  512        ['conv3_block1_2_conv[0][0]']    \n",
            " ization)                                                                                         \n",
            "                                                                                                  \n",
            " conv3_block1_2_relu (Activatio  (None, 28, 28, 128)  0          ['conv3_block1_2_bn[0][0]']      \n",
            " n)                                                                                               \n",
            "                                                                                                  \n",
            " conv3_block1_0_conv (Conv2D)   (None, 28, 28, 512)  131584      ['conv2_block3_out[0][0]']       \n",
            "                                                                                                  \n",
            " conv3_block1_3_conv (Conv2D)   (None, 28, 28, 512)  66048       ['conv3_block1_2_relu[0][0]']    \n",
            "                                                                                                  \n",
            " conv3_block1_0_bn (BatchNormal  (None, 28, 28, 512)  2048       ['conv3_block1_0_conv[0][0]']    \n",
            " ization)                                                                                         \n",
            "                                                                                                  \n",
            " conv3_block1_3_bn (BatchNormal  (None, 28, 28, 512)  2048       ['conv3_block1_3_conv[0][0]']    \n",
            " ization)                                                                                         \n",
            "                                                                                                  \n",
            " conv3_block1_add (Add)         (None, 28, 28, 512)  0           ['conv3_block1_0_bn[0][0]',      \n",
            "                                                                  'conv3_block1_3_bn[0][0]']      \n",
            "                                                                                                  \n",
            " conv3_block1_out (Activation)  (None, 28, 28, 512)  0           ['conv3_block1_add[0][0]']       \n",
            "                                                                                                  \n",
            " conv3_block2_1_conv (Conv2D)   (None, 28, 28, 128)  65664       ['conv3_block1_out[0][0]']       \n",
            "                                                                                                  \n",
            " conv3_block2_1_bn (BatchNormal  (None, 28, 28, 128)  512        ['conv3_block2_1_conv[0][0]']    \n",
            " ization)                                                                                         \n",
            "                                                                                                  \n",
            " conv3_block2_1_relu (Activatio  (None, 28, 28, 128)  0          ['conv3_block2_1_bn[0][0]']      \n",
            " n)                                                                                               \n",
            "                                                                                                  \n",
            " conv3_block2_2_conv (Conv2D)   (None, 28, 28, 128)  147584      ['conv3_block2_1_relu[0][0]']    \n",
            "                                                                                                  \n",
            " conv3_block2_2_bn (BatchNormal  (None, 28, 28, 128)  512        ['conv3_block2_2_conv[0][0]']    \n",
            " ization)                                                                                         \n",
            "                                                                                                  \n",
            " conv3_block2_2_relu (Activatio  (None, 28, 28, 128)  0          ['conv3_block2_2_bn[0][0]']      \n",
            " n)                                                                                               \n",
            "                                                                                                  \n",
            " conv3_block2_3_conv (Conv2D)   (None, 28, 28, 512)  66048       ['conv3_block2_2_relu[0][0]']    \n",
            "                                                                                                  \n",
            " conv3_block2_3_bn (BatchNormal  (None, 28, 28, 512)  2048       ['conv3_block2_3_conv[0][0]']    \n",
            " ization)                                                                                         \n",
            "                                                                                                  \n",
            " conv3_block2_add (Add)         (None, 28, 28, 512)  0           ['conv3_block1_out[0][0]',       \n",
            "                                                                  'conv3_block2_3_bn[0][0]']      \n",
            "                                                                                                  \n",
            " conv3_block2_out (Activation)  (None, 28, 28, 512)  0           ['conv3_block2_add[0][0]']       \n",
            "                                                                                                  \n",
            " conv3_block3_1_conv (Conv2D)   (None, 28, 28, 128)  65664       ['conv3_block2_out[0][0]']       \n",
            "                                                                                                  \n",
            " conv3_block3_1_bn (BatchNormal  (None, 28, 28, 128)  512        ['conv3_block3_1_conv[0][0]']    \n",
            " ization)                                                                                         \n",
            "                                                                                                  \n",
            " conv3_block3_1_relu (Activatio  (None, 28, 28, 128)  0          ['conv3_block3_1_bn[0][0]']      \n",
            " n)                                                                                               \n",
            "                                                                                                  \n",
            " conv3_block3_2_conv (Conv2D)   (None, 28, 28, 128)  147584      ['conv3_block3_1_relu[0][0]']    \n",
            "                                                                                                  \n",
            " conv3_block3_2_bn (BatchNormal  (None, 28, 28, 128)  512        ['conv3_block3_2_conv[0][0]']    \n",
            " ization)                                                                                         \n",
            "                                                                                                  \n",
            " conv3_block3_2_relu (Activatio  (None, 28, 28, 128)  0          ['conv3_block3_2_bn[0][0]']      \n",
            " n)                                                                                               \n",
            "                                                                                                  \n",
            " conv3_block3_3_conv (Conv2D)   (None, 28, 28, 512)  66048       ['conv3_block3_2_relu[0][0]']    \n",
            "                                                                                                  \n",
            " conv3_block3_3_bn (BatchNormal  (None, 28, 28, 512)  2048       ['conv3_block3_3_conv[0][0]']    \n",
            " ization)                                                                                         \n",
            "                                                                                                  \n",
            " conv3_block3_add (Add)         (None, 28, 28, 512)  0           ['conv3_block2_out[0][0]',       \n",
            "                                                                  'conv3_block3_3_bn[0][0]']      \n",
            "                                                                                                  \n",
            " conv3_block3_out (Activation)  (None, 28, 28, 512)  0           ['conv3_block3_add[0][0]']       \n",
            "                                                                                                  \n",
            " conv3_block4_1_conv (Conv2D)   (None, 28, 28, 128)  65664       ['conv3_block3_out[0][0]']       \n",
            "                                                                                                  \n",
            " conv3_block4_1_bn (BatchNormal  (None, 28, 28, 128)  512        ['conv3_block4_1_conv[0][0]']    \n",
            " ization)                                                                                         \n",
            "                                                                                                  \n",
            " conv3_block4_1_relu (Activatio  (None, 28, 28, 128)  0          ['conv3_block4_1_bn[0][0]']      \n",
            " n)                                                                                               \n",
            "                                                                                                  \n",
            " conv3_block4_2_conv (Conv2D)   (None, 28, 28, 128)  147584      ['conv3_block4_1_relu[0][0]']    \n",
            "                                                                                                  \n",
            " conv3_block4_2_bn (BatchNormal  (None, 28, 28, 128)  512        ['conv3_block4_2_conv[0][0]']    \n",
            " ization)                                                                                         \n",
            "                                                                                                  \n",
            " conv3_block4_2_relu (Activatio  (None, 28, 28, 128)  0          ['conv3_block4_2_bn[0][0]']      \n",
            " n)                                                                                               \n",
            "                                                                                                  \n",
            " conv3_block4_3_conv (Conv2D)   (None, 28, 28, 512)  66048       ['conv3_block4_2_relu[0][0]']    \n",
            "                                                                                                  \n",
            " conv3_block4_3_bn (BatchNormal  (None, 28, 28, 512)  2048       ['conv3_block4_3_conv[0][0]']    \n",
            " ization)                                                                                         \n",
            "                                                                                                  \n",
            " conv3_block4_add (Add)         (None, 28, 28, 512)  0           ['conv3_block3_out[0][0]',       \n",
            "                                                                  'conv3_block4_3_bn[0][0]']      \n",
            "                                                                                                  \n",
            " conv3_block4_out (Activation)  (None, 28, 28, 512)  0           ['conv3_block4_add[0][0]']       \n",
            "                                                                                                  \n",
            " conv4_block1_1_conv (Conv2D)   (None, 14, 14, 256)  131328      ['conv3_block4_out[0][0]']       \n",
            "                                                                                                  \n",
            " conv4_block1_1_bn (BatchNormal  (None, 14, 14, 256)  1024       ['conv4_block1_1_conv[0][0]']    \n",
            " ization)                                                                                         \n",
            "                                                                                                  \n",
            " conv4_block1_1_relu (Activatio  (None, 14, 14, 256)  0          ['conv4_block1_1_bn[0][0]']      \n",
            " n)                                                                                               \n",
            "                                                                                                  \n",
            " conv4_block1_2_conv (Conv2D)   (None, 14, 14, 256)  590080      ['conv4_block1_1_relu[0][0]']    \n",
            "                                                                                                  \n",
            " conv4_block1_2_bn (BatchNormal  (None, 14, 14, 256)  1024       ['conv4_block1_2_conv[0][0]']    \n",
            " ization)                                                                                         \n",
            "                                                                                                  \n",
            " conv4_block1_2_relu (Activatio  (None, 14, 14, 256)  0          ['conv4_block1_2_bn[0][0]']      \n",
            " n)                                                                                               \n",
            "                                                                                                  \n",
            " conv4_block1_0_conv (Conv2D)   (None, 14, 14, 1024  525312      ['conv3_block4_out[0][0]']       \n",
            "                                )                                                                 \n",
            "                                                                                                  \n",
            " conv4_block1_3_conv (Conv2D)   (None, 14, 14, 1024  263168      ['conv4_block1_2_relu[0][0]']    \n",
            "                                )                                                                 \n",
            "                                                                                                  \n",
            " conv4_block1_0_bn (BatchNormal  (None, 14, 14, 1024  4096       ['conv4_block1_0_conv[0][0]']    \n",
            " ization)                       )                                                                 \n",
            "                                                                                                  \n",
            " conv4_block1_3_bn (BatchNormal  (None, 14, 14, 1024  4096       ['conv4_block1_3_conv[0][0]']    \n",
            " ization)                       )                                                                 \n",
            "                                                                                                  \n",
            " conv4_block1_add (Add)         (None, 14, 14, 1024  0           ['conv4_block1_0_bn[0][0]',      \n",
            "                                )                                 'conv4_block1_3_bn[0][0]']      \n",
            "                                                                                                  \n",
            " conv4_block1_out (Activation)  (None, 14, 14, 1024  0           ['conv4_block1_add[0][0]']       \n",
            "                                )                                                                 \n",
            "                                                                                                  \n",
            " conv4_block2_1_conv (Conv2D)   (None, 14, 14, 256)  262400      ['conv4_block1_out[0][0]']       \n",
            "                                                                                                  \n",
            " conv4_block2_1_bn (BatchNormal  (None, 14, 14, 256)  1024       ['conv4_block2_1_conv[0][0]']    \n",
            " ization)                                                                                         \n",
            "                                                                                                  \n",
            " conv4_block2_1_relu (Activatio  (None, 14, 14, 256)  0          ['conv4_block2_1_bn[0][0]']      \n",
            " n)                                                                                               \n",
            "                                                                                                  \n",
            " conv4_block2_2_conv (Conv2D)   (None, 14, 14, 256)  590080      ['conv4_block2_1_relu[0][0]']    \n",
            "                                                                                                  \n",
            " conv4_block2_2_bn (BatchNormal  (None, 14, 14, 256)  1024       ['conv4_block2_2_conv[0][0]']    \n",
            " ization)                                                                                         \n",
            "                                                                                                  \n",
            " conv4_block2_2_relu (Activatio  (None, 14, 14, 256)  0          ['conv4_block2_2_bn[0][0]']      \n",
            " n)                                                                                               \n",
            "                                                                                                  \n",
            " conv4_block2_3_conv (Conv2D)   (None, 14, 14, 1024  263168      ['conv4_block2_2_relu[0][0]']    \n",
            "                                )                                                                 \n",
            "                                                                                                  \n",
            " conv4_block2_3_bn (BatchNormal  (None, 14, 14, 1024  4096       ['conv4_block2_3_conv[0][0]']    \n",
            " ization)                       )                                                                 \n",
            "                                                                                                  \n",
            " conv4_block2_add (Add)         (None, 14, 14, 1024  0           ['conv4_block1_out[0][0]',       \n",
            "                                )                                 'conv4_block2_3_bn[0][0]']      \n",
            "                                                                                                  \n",
            " conv4_block2_out (Activation)  (None, 14, 14, 1024  0           ['conv4_block2_add[0][0]']       \n",
            "                                )                                                                 \n",
            "                                                                                                  \n",
            " conv4_block3_1_conv (Conv2D)   (None, 14, 14, 256)  262400      ['conv4_block2_out[0][0]']       \n",
            "                                                                                                  \n",
            " conv4_block3_1_bn (BatchNormal  (None, 14, 14, 256)  1024       ['conv4_block3_1_conv[0][0]']    \n",
            " ization)                                                                                         \n",
            "                                                                                                  \n",
            " conv4_block3_1_relu (Activatio  (None, 14, 14, 256)  0          ['conv4_block3_1_bn[0][0]']      \n",
            " n)                                                                                               \n",
            "                                                                                                  \n",
            " conv4_block3_2_conv (Conv2D)   (None, 14, 14, 256)  590080      ['conv4_block3_1_relu[0][0]']    \n",
            "                                                                                                  \n",
            " conv4_block3_2_bn (BatchNormal  (None, 14, 14, 256)  1024       ['conv4_block3_2_conv[0][0]']    \n",
            " ization)                                                                                         \n",
            "                                                                                                  \n",
            " conv4_block3_2_relu (Activatio  (None, 14, 14, 256)  0          ['conv4_block3_2_bn[0][0]']      \n",
            " n)                                                                                               \n",
            "                                                                                                  \n",
            " conv4_block3_3_conv (Conv2D)   (None, 14, 14, 1024  263168      ['conv4_block3_2_relu[0][0]']    \n",
            "                                )                                                                 \n",
            "                                                                                                  \n",
            " conv4_block3_3_bn (BatchNormal  (None, 14, 14, 1024  4096       ['conv4_block3_3_conv[0][0]']    \n",
            " ization)                       )                                                                 \n",
            "                                                                                                  \n",
            " conv4_block3_add (Add)         (None, 14, 14, 1024  0           ['conv4_block2_out[0][0]',       \n",
            "                                )                                 'conv4_block3_3_bn[0][0]']      \n",
            "                                                                                                  \n",
            " conv4_block3_out (Activation)  (None, 14, 14, 1024  0           ['conv4_block3_add[0][0]']       \n",
            "                                )                                                                 \n",
            "                                                                                                  \n",
            " conv4_block4_1_conv (Conv2D)   (None, 14, 14, 256)  262400      ['conv4_block3_out[0][0]']       \n",
            "                                                                                                  \n",
            " conv4_block4_1_bn (BatchNormal  (None, 14, 14, 256)  1024       ['conv4_block4_1_conv[0][0]']    \n",
            " ization)                                                                                         \n",
            "                                                                                                  \n",
            " conv4_block4_1_relu (Activatio  (None, 14, 14, 256)  0          ['conv4_block4_1_bn[0][0]']      \n",
            " n)                                                                                               \n",
            "                                                                                                  \n",
            " conv4_block4_2_conv (Conv2D)   (None, 14, 14, 256)  590080      ['conv4_block4_1_relu[0][0]']    \n",
            "                                                                                                  \n",
            " conv4_block4_2_bn (BatchNormal  (None, 14, 14, 256)  1024       ['conv4_block4_2_conv[0][0]']    \n",
            " ization)                                                                                         \n",
            "                                                                                                  \n",
            " conv4_block4_2_relu (Activatio  (None, 14, 14, 256)  0          ['conv4_block4_2_bn[0][0]']      \n",
            " n)                                                                                               \n",
            "                                                                                                  \n",
            " conv4_block4_3_conv (Conv2D)   (None, 14, 14, 1024  263168      ['conv4_block4_2_relu[0][0]']    \n",
            "                                )                                                                 \n",
            "                                                                                                  \n",
            " conv4_block4_3_bn (BatchNormal  (None, 14, 14, 1024  4096       ['conv4_block4_3_conv[0][0]']    \n",
            " ization)                       )                                                                 \n",
            "                                                                                                  \n",
            " conv4_block4_add (Add)         (None, 14, 14, 1024  0           ['conv4_block3_out[0][0]',       \n",
            "                                )                                 'conv4_block4_3_bn[0][0]']      \n",
            "                                                                                                  \n",
            " conv4_block4_out (Activation)  (None, 14, 14, 1024  0           ['conv4_block4_add[0][0]']       \n",
            "                                )                                                                 \n",
            "                                                                                                  \n",
            " conv4_block5_1_conv (Conv2D)   (None, 14, 14, 256)  262400      ['conv4_block4_out[0][0]']       \n",
            "                                                                                                  \n",
            " conv4_block5_1_bn (BatchNormal  (None, 14, 14, 256)  1024       ['conv4_block5_1_conv[0][0]']    \n",
            " ization)                                                                                         \n",
            "                                                                                                  \n",
            " conv4_block5_1_relu (Activatio  (None, 14, 14, 256)  0          ['conv4_block5_1_bn[0][0]']      \n",
            " n)                                                                                               \n",
            "                                                                                                  \n",
            " conv4_block5_2_conv (Conv2D)   (None, 14, 14, 256)  590080      ['conv4_block5_1_relu[0][0]']    \n",
            "                                                                                                  \n",
            " conv4_block5_2_bn (BatchNormal  (None, 14, 14, 256)  1024       ['conv4_block5_2_conv[0][0]']    \n",
            " ization)                                                                                         \n",
            "                                                                                                  \n",
            " conv4_block5_2_relu (Activatio  (None, 14, 14, 256)  0          ['conv4_block5_2_bn[0][0]']      \n",
            " n)                                                                                               \n",
            "                                                                                                  \n",
            " conv4_block5_3_conv (Conv2D)   (None, 14, 14, 1024  263168      ['conv4_block5_2_relu[0][0]']    \n",
            "                                )                                                                 \n",
            "                                                                                                  \n",
            " conv4_block5_3_bn (BatchNormal  (None, 14, 14, 1024  4096       ['conv4_block5_3_conv[0][0]']    \n",
            " ization)                       )                                                                 \n",
            "                                                                                                  \n",
            " conv4_block5_add (Add)         (None, 14, 14, 1024  0           ['conv4_block4_out[0][0]',       \n",
            "                                )                                 'conv4_block5_3_bn[0][0]']      \n",
            "                                                                                                  \n",
            " conv4_block5_out (Activation)  (None, 14, 14, 1024  0           ['conv4_block5_add[0][0]']       \n",
            "                                )                                                                 \n",
            "                                                                                                  \n",
            " conv4_block6_1_conv (Conv2D)   (None, 14, 14, 256)  262400      ['conv4_block5_out[0][0]']       \n",
            "                                                                                                  \n",
            " conv4_block6_1_bn (BatchNormal  (None, 14, 14, 256)  1024       ['conv4_block6_1_conv[0][0]']    \n",
            " ization)                                                                                         \n",
            "                                                                                                  \n",
            " conv4_block6_1_relu (Activatio  (None, 14, 14, 256)  0          ['conv4_block6_1_bn[0][0]']      \n",
            " n)                                                                                               \n",
            "                                                                                                  \n",
            " conv4_block6_2_conv (Conv2D)   (None, 14, 14, 256)  590080      ['conv4_block6_1_relu[0][0]']    \n",
            "                                                                                                  \n",
            " conv4_block6_2_bn (BatchNormal  (None, 14, 14, 256)  1024       ['conv4_block6_2_conv[0][0]']    \n",
            " ization)                                                                                         \n",
            "                                                                                                  \n",
            " conv4_block6_2_relu (Activatio  (None, 14, 14, 256)  0          ['conv4_block6_2_bn[0][0]']      \n",
            " n)                                                                                               \n",
            "                                                                                                  \n",
            " conv4_block6_3_conv (Conv2D)   (None, 14, 14, 1024  263168      ['conv4_block6_2_relu[0][0]']    \n",
            "                                )                                                                 \n",
            "                                                                                                  \n",
            " conv4_block6_3_bn (BatchNormal  (None, 14, 14, 1024  4096       ['conv4_block6_3_conv[0][0]']    \n",
            " ization)                       )                                                                 \n",
            "                                                                                                  \n",
            " conv4_block6_add (Add)         (None, 14, 14, 1024  0           ['conv4_block5_out[0][0]',       \n",
            "                                )                                 'conv4_block6_3_bn[0][0]']      \n",
            "                                                                                                  \n",
            " conv4_block6_out (Activation)  (None, 14, 14, 1024  0           ['conv4_block6_add[0][0]']       \n",
            "                                )                                                                 \n",
            "                                                                                                  \n",
            " conv5_block1_1_conv (Conv2D)   (None, 7, 7, 512)    524800      ['conv4_block6_out[0][0]']       \n",
            "                                                                                                  \n",
            " conv5_block1_1_bn (BatchNormal  (None, 7, 7, 512)   2048        ['conv5_block1_1_conv[0][0]']    \n",
            " ization)                                                                                         \n",
            "                                                                                                  \n",
            " conv5_block1_1_relu (Activatio  (None, 7, 7, 512)   0           ['conv5_block1_1_bn[0][0]']      \n",
            " n)                                                                                               \n",
            "                                                                                                  \n",
            " conv5_block1_2_conv (Conv2D)   (None, 7, 7, 512)    2359808     ['conv5_block1_1_relu[0][0]']    \n",
            "                                                                                                  \n",
            " conv5_block1_2_bn (BatchNormal  (None, 7, 7, 512)   2048        ['conv5_block1_2_conv[0][0]']    \n",
            " ization)                                                                                         \n",
            "                                                                                                  \n",
            " conv5_block1_2_relu (Activatio  (None, 7, 7, 512)   0           ['conv5_block1_2_bn[0][0]']      \n",
            " n)                                                                                               \n",
            "                                                                                                  \n",
            " conv5_block1_0_conv (Conv2D)   (None, 7, 7, 2048)   2099200     ['conv4_block6_out[0][0]']       \n",
            "                                                                                                  \n",
            " conv5_block1_3_conv (Conv2D)   (None, 7, 7, 2048)   1050624     ['conv5_block1_2_relu[0][0]']    \n",
            "                                                                                                  \n",
            " conv5_block1_0_bn (BatchNormal  (None, 7, 7, 2048)  8192        ['conv5_block1_0_conv[0][0]']    \n",
            " ization)                                                                                         \n",
            "                                                                                                  \n",
            " conv5_block1_3_bn (BatchNormal  (None, 7, 7, 2048)  8192        ['conv5_block1_3_conv[0][0]']    \n",
            " ization)                                                                                         \n",
            "                                                                                                  \n",
            " conv5_block1_add (Add)         (None, 7, 7, 2048)   0           ['conv5_block1_0_bn[0][0]',      \n",
            "                                                                  'conv5_block1_3_bn[0][0]']      \n",
            "                                                                                                  \n",
            " conv5_block1_out (Activation)  (None, 7, 7, 2048)   0           ['conv5_block1_add[0][0]']       \n",
            "                                                                                                  \n",
            " conv5_block2_1_conv (Conv2D)   (None, 7, 7, 512)    1049088     ['conv5_block1_out[0][0]']       \n",
            "                                                                                                  \n",
            " conv5_block2_1_bn (BatchNormal  (None, 7, 7, 512)   2048        ['conv5_block2_1_conv[0][0]']    \n",
            " ization)                                                                                         \n",
            "                                                                                                  \n",
            " conv5_block2_1_relu (Activatio  (None, 7, 7, 512)   0           ['conv5_block2_1_bn[0][0]']      \n",
            " n)                                                                                               \n",
            "                                                                                                  \n",
            " conv5_block2_2_conv (Conv2D)   (None, 7, 7, 512)    2359808     ['conv5_block2_1_relu[0][0]']    \n",
            "                                                                                                  \n",
            " conv5_block2_2_bn (BatchNormal  (None, 7, 7, 512)   2048        ['conv5_block2_2_conv[0][0]']    \n",
            " ization)                                                                                         \n",
            "                                                                                                  \n",
            " conv5_block2_2_relu (Activatio  (None, 7, 7, 512)   0           ['conv5_block2_2_bn[0][0]']      \n",
            " n)                                                                                               \n",
            "                                                                                                  \n",
            " conv5_block2_3_conv (Conv2D)   (None, 7, 7, 2048)   1050624     ['conv5_block2_2_relu[0][0]']    \n",
            "                                                                                                  \n",
            " conv5_block2_3_bn (BatchNormal  (None, 7, 7, 2048)  8192        ['conv5_block2_3_conv[0][0]']    \n",
            " ization)                                                                                         \n",
            "                                                                                                  \n",
            " conv5_block2_add (Add)         (None, 7, 7, 2048)   0           ['conv5_block1_out[0][0]',       \n",
            "                                                                  'conv5_block2_3_bn[0][0]']      \n",
            "                                                                                                  \n",
            " conv5_block2_out (Activation)  (None, 7, 7, 2048)   0           ['conv5_block2_add[0][0]']       \n",
            "                                                                                                  \n",
            " conv5_block3_1_conv (Conv2D)   (None, 7, 7, 512)    1049088     ['conv5_block2_out[0][0]']       \n",
            "                                                                                                  \n",
            " conv5_block3_1_bn (BatchNormal  (None, 7, 7, 512)   2048        ['conv5_block3_1_conv[0][0]']    \n",
            " ization)                                                                                         \n",
            "                                                                                                  \n",
            " conv5_block3_1_relu (Activatio  (None, 7, 7, 512)   0           ['conv5_block3_1_bn[0][0]']      \n",
            " n)                                                                                               \n",
            "                                                                                                  \n",
            " conv5_block3_2_conv (Conv2D)   (None, 7, 7, 512)    2359808     ['conv5_block3_1_relu[0][0]']    \n",
            "                                                                                                  \n",
            " conv5_block3_2_bn (BatchNormal  (None, 7, 7, 512)   2048        ['conv5_block3_2_conv[0][0]']    \n",
            " ization)                                                                                         \n",
            "                                                                                                  \n",
            " conv5_block3_2_relu (Activatio  (None, 7, 7, 512)   0           ['conv5_block3_2_bn[0][0]']      \n",
            " n)                                                                                               \n",
            "                                                                                                  \n",
            " conv5_block3_3_conv (Conv2D)   (None, 7, 7, 2048)   1050624     ['conv5_block3_2_relu[0][0]']    \n",
            "                                                                                                  \n",
            " conv5_block3_3_bn (BatchNormal  (None, 7, 7, 2048)  8192        ['conv5_block3_3_conv[0][0]']    \n",
            " ization)                                                                                         \n",
            "                                                                                                  \n",
            " conv5_block3_add (Add)         (None, 7, 7, 2048)   0           ['conv5_block2_out[0][0]',       \n",
            "                                                                  'conv5_block3_3_bn[0][0]']      \n",
            "                                                                                                  \n",
            " conv5_block3_out (Activation)  (None, 7, 7, 2048)   0           ['conv5_block3_add[0][0]']       \n",
            "                                                                                                  \n",
            " flatten_7 (Flatten)            (None, 100352)       0           ['conv5_block3_out[0][0]']       \n",
            "                                                                                                  \n",
            " dense_21 (Dense)               (None, 16)           1605648     ['flatten_7[0][0]']              \n",
            "                                                                                                  \n",
            "==================================================================================================\n",
            "Total params: 25,193,360\n",
            "Trainable params: 1,605,648\n",
            "Non-trainable params: 23,587,712\n",
            "__________________________________________________________________________________________________\n"
          ]
        }
      ],
      "source": [
        "res_model.summary()"
      ]
    },
    {
      "cell_type": "code",
      "execution_count": 88,
      "metadata": {
        "id": "QalBfvUYRho0"
      },
      "outputs": [],
      "source": [
        "res_model.compile(loss='categorical_crossentropy',optimizer='adam',metrics=['accuracy'])"
      ]
    },
    {
      "cell_type": "code",
      "execution_count": 90,
      "metadata": {
        "colab": {
          "base_uri": "https://localhost:8080/"
        },
        "id": "DrPQ9e_DRjvg",
        "outputId": "f9d86a23-041a-4ae2-d88a-9ec80332d904"
      },
      "outputs": [
        {
          "name": "stdout",
          "output_type": "stream",
          "text": [
            "Epoch 1/10\n",
            "7/7 [==============================] - 93s 14s/step - loss: 2.7300 - accuracy: 0.3067 - val_loss: 4.3484 - val_accuracy: 0.2166\n",
            "Epoch 2/10\n",
            "7/7 [==============================] - 119s 19s/step - loss: 2.6559 - accuracy: 0.4267 - val_loss: 4.1541 - val_accuracy: 0.2357\n",
            "Epoch 3/10\n",
            "7/7 [==============================] - 119s 19s/step - loss: 2.1859 - accuracy: 0.3933 - val_loss: 3.9226 - val_accuracy: 0.1975\n",
            "Epoch 4/10\n",
            "7/7 [==============================] - 119s 19s/step - loss: 1.7101 - accuracy: 0.5067 - val_loss: 3.8553 - val_accuracy: 0.1465\n",
            "Epoch 5/10\n",
            "7/7 [==============================] - 119s 19s/step - loss: 1.5972 - accuracy: 0.4600 - val_loss: 3.4474 - val_accuracy: 0.2038\n",
            "Epoch 6/10\n",
            "7/7 [==============================] - 119s 19s/step - loss: 1.5578 - accuracy: 0.4800 - val_loss: 3.5163 - val_accuracy: 0.2357\n",
            "Epoch 7/10\n",
            "7/7 [==============================] - 120s 19s/step - loss: 1.5783 - accuracy: 0.5333 - val_loss: 3.1722 - val_accuracy: 0.2166\n",
            "Epoch 8/10\n",
            "7/7 [==============================] - 85s 13s/step - loss: 1.5013 - accuracy: 0.5000 - val_loss: 3.6055 - val_accuracy: 0.2803\n",
            "Epoch 9/10\n",
            "7/7 [==============================] - 86s 14s/step - loss: 1.4308 - accuracy: 0.5400 - val_loss: 3.7720 - val_accuracy: 0.1847\n",
            "Epoch 10/10\n",
            "7/7 [==============================] - 83s 13s/step - loss: 1.6530 - accuracy: 0.5400 - val_loss: 3.6504 - val_accuracy: 0.2611\n"
          ]
        },
        {
          "data": {
            "text/plain": [
              "<keras.callbacks.History at 0x7fe1581b97e0>"
            ]
          },
          "execution_count": 90,
          "metadata": {},
          "output_type": "execute_result"
        }
      ],
      "source": [
        "res_model.fit(train,epochs=10,validation_data=test,steps_per_epoch=len(train),\n",
        "              validation_steps=len(test))"
      ]
    },
    {
      "attachments": {},
      "cell_type": "markdown",
      "metadata": {
        "id": "60VSaAUfYCxb"
      },
      "source": [
        "Inception-V3"
      ]
    },
    {
      "cell_type": "code",
      "execution_count": 94,
      "metadata": {
        "id": "mYMX-TVOf9hL"
      },
      "outputs": [],
      "source": [
        "import tensorflow as tf\n",
        "from tensorflow.keras import backend, models, layers, regularizers , optimizers\n",
        "from tensorflow.keras.models import Model, Sequential\n",
        "from tensorflow.keras.layers import BatchNormalization , Concatenate\n",
        "from keras.layers import Activation, Flatten, Dense, Dropout ,Input\n",
        "from tensorflow.keras.layers import Conv2D, MaxPooling2D, AveragePooling2D\n",
        "from tensorflow.keras.utils import to_categorical\n",
        "from tensorflow.keras.metrics import categorical_crossentropy\n",
        "from tensorflow.keras.callbacks import EarlyStopping\n",
        "from sklearn.model_selection import train_test_split\n",
        "from tensorflow.keras.preprocessing import image\n",
        "from tensorflow.keras.preprocessing.image import ImageDataGenerator\n",
        "from tensorflow.keras.applications import InceptionV3\n",
        "from tensorflow.keras.utils import plot_model\n",
        "from tensorflow.keras import backend"
      ]
    },
    {
      "cell_type": "code",
      "execution_count": 95,
      "metadata": {
        "colab": {
          "base_uri": "https://localhost:8080/"
        },
        "id": "fFDjYr3uXyGo",
        "outputId": "e5224bbc-52c4-4e8d-8d6a-b4b5ac9f91d6"
      },
      "outputs": [
        {
          "name": "stdout",
          "output_type": "stream",
          "text": [
            "Downloading data from https://storage.googleapis.com/tensorflow/keras-applications/inception_v3/inception_v3_weights_tf_dim_ordering_tf_kernels_notop.h5\n",
            "87910968/87910968 [==============================] - 0s 0us/step\n"
          ]
        }
      ],
      "source": [
        "\n",
        "conv_basev2 = InceptionV3 (weights = 'imagenet', \n",
        "                  include_top = False,\n",
        "                  input_shape = (224, 224, 3))\n",
        "conv_basev2.trainable = False # Freeze the Inception V3 weights."
      ]
    },
    {
      "cell_type": "code",
      "execution_count": 96,
      "metadata": {
        "id": "NxxjJU00XyOD"
      },
      "outputs": [],
      "source": [
        "for layer in conv_basev2.layers[:-4]:\n",
        "  trainable = False"
      ]
    },
    {
      "cell_type": "code",
      "execution_count": 97,
      "metadata": {
        "colab": {
          "base_uri": "https://localhost:8080/"
        },
        "id": "yRv1ndyuXyQ_",
        "outputId": "97339020-a78c-4cae-838f-1c7a1a96172d"
      },
      "outputs": [
        {
          "name": "stdout",
          "output_type": "stream",
          "text": [
            "<keras.engine.input_layer.InputLayer object at 0x7fe182c178b0> False\n",
            "<keras.layers.convolutional.conv2d.Conv2D object at 0x7fe17e226c20> False\n",
            "<keras.layers.normalization.batch_normalization.BatchNormalization object at 0x7fe18591ebc0> False\n",
            "<keras.layers.core.activation.Activation object at 0x7fe18591fac0> False\n",
            "<keras.layers.convolutional.conv2d.Conv2D object at 0x7fe18591f1f0> False\n",
            "<keras.layers.normalization.batch_normalization.BatchNormalization object at 0x7fe18594d540> False\n",
            "<keras.layers.core.activation.Activation object at 0x7fe18594d960> False\n",
            "<keras.layers.convolutional.conv2d.Conv2D object at 0x7fe18594e140> False\n",
            "<keras.layers.normalization.batch_normalization.BatchNormalization object at 0x7fe18594f700> False\n",
            "<keras.layers.core.activation.Activation object at 0x7fe18594e710> False\n",
            "<keras.layers.pooling.max_pooling2d.MaxPooling2D object at 0x7fe18594eb30> False\n",
            "<keras.layers.convolutional.conv2d.Conv2D object at 0x7fe18594ff10> False\n",
            "<keras.layers.normalization.batch_normalization.BatchNormalization object at 0x7fe185966290> False\n",
            "<keras.layers.core.activation.Activation object at 0x7fe1859666b0> False\n",
            "<keras.layers.convolutional.conv2d.Conv2D object at 0x7fe1859662c0> False\n",
            "<keras.layers.normalization.batch_normalization.BatchNormalization object at 0x7fe185967fa0> False\n",
            "<keras.layers.core.activation.Activation object at 0x7fe185965720> False\n",
            "<keras.layers.pooling.max_pooling2d.MaxPooling2D object at 0x7fe185981390> False\n",
            "<keras.layers.convolutional.conv2d.Conv2D object at 0x7fe185997e80> False\n",
            "<keras.layers.normalization.batch_normalization.BatchNormalization object at 0x7fe1859ad270> False\n",
            "<keras.layers.core.activation.Activation object at 0x7fe1859adb70> False\n",
            "<keras.layers.convolutional.conv2d.Conv2D object at 0x7fe185982ec0> False\n",
            "<keras.layers.convolutional.conv2d.Conv2D object at 0x7fe1859ae500> False\n",
            "<keras.layers.normalization.batch_normalization.BatchNormalization object at 0x7fe185994a00> False\n",
            "<keras.layers.normalization.batch_normalization.BatchNormalization object at 0x7fe1859af010> False\n",
            "<keras.layers.core.activation.Activation object at 0x7fe1859817b0> False\n",
            "<keras.layers.core.activation.Activation object at 0x7fe1859ace80> False\n",
            "<keras.layers.pooling.average_pooling2d.AveragePooling2D object at 0x7fe185482b60> False\n",
            "<keras.layers.convolutional.conv2d.Conv2D object at 0x7fe185981ab0> False\n",
            "<keras.layers.convolutional.conv2d.Conv2D object at 0x7fe185995f60> False\n",
            "<keras.layers.convolutional.conv2d.Conv2D object at 0x7fe1859af580> False\n",
            "<keras.layers.convolutional.conv2d.Conv2D object at 0x7fe185481870> False\n",
            "<keras.layers.normalization.batch_normalization.BatchNormalization object at 0x7fe185982bf0> False\n",
            "<keras.layers.normalization.batch_normalization.BatchNormalization object at 0x7fe185996bc0> False\n",
            "<keras.layers.normalization.batch_normalization.BatchNormalization object at 0x7fe185481630> False\n",
            "<keras.layers.normalization.batch_normalization.BatchNormalization object at 0x7fe185498130> False\n",
            "<keras.layers.core.activation.Activation object at 0x7fe1859836d0> False\n",
            "<keras.layers.core.activation.Activation object at 0x7fe1859976a0> False\n",
            "<keras.layers.core.activation.Activation object at 0x7fe185481a50> False\n",
            "<keras.layers.core.activation.Activation object at 0x7fe185483e20> False\n",
            "<keras.layers.merging.concatenate.Concatenate object at 0x7fe1854985b0> False\n",
            "<keras.layers.convolutional.conv2d.Conv2D object at 0x7fe185980bb0> False\n",
            "<keras.layers.normalization.batch_normalization.BatchNormalization object at 0x7fe1859ad030> False\n",
            "<keras.layers.core.activation.Activation object at 0x7fe185981ae0> False\n",
            "<keras.layers.convolutional.conv2d.Conv2D object at 0x7fe185480130> False\n",
            "<keras.layers.convolutional.conv2d.Conv2D object at 0x7fe18549ba90> False\n",
            "<keras.layers.normalization.batch_normalization.BatchNormalization object at 0x7fe185995e70> False\n",
            "<keras.layers.normalization.batch_normalization.BatchNormalization object at 0x7fe18549b880> False\n",
            "<keras.layers.core.activation.Activation object at 0x7fe185997460> False\n",
            "<keras.layers.core.activation.Activation object at 0x7fe18549bf70> False\n",
            "<keras.layers.pooling.average_pooling2d.AveragePooling2D object at 0x7fe1854b5f00> False\n",
            "<keras.layers.convolutional.conv2d.Conv2D object at 0x7fe185499720> False\n",
            "<keras.layers.convolutional.conv2d.Conv2D object at 0x7fe1859aed10> False\n",
            "<keras.layers.convolutional.conv2d.Conv2D object at 0x7fe1854b5870> False\n",
            "<keras.layers.convolutional.conv2d.Conv2D object at 0x7fe1854b4940> False\n",
            "<keras.layers.normalization.batch_normalization.BatchNormalization object at 0x7fe185481000> False\n",
            "<keras.layers.normalization.batch_normalization.BatchNormalization object at 0x7fe1859654b0> False\n",
            "<keras.layers.normalization.batch_normalization.BatchNormalization object at 0x7fe1854b6890> False\n",
            "<keras.layers.normalization.batch_normalization.BatchNormalization object at 0x7fe1854b7cd0> False\n",
            "<keras.layers.core.activation.Activation object at 0x7fe185480c40> False\n",
            "<keras.layers.core.activation.Activation object at 0x7fe185964580> False\n",
            "<keras.layers.core.activation.Activation object at 0x7fe1854b7370> False\n",
            "<keras.layers.core.activation.Activation object at 0x7fe1854b7f10> False\n",
            "<keras.layers.merging.concatenate.Concatenate object at 0x7fe1854bc250> False\n",
            "<keras.layers.convolutional.conv2d.Conv2D object at 0x7fe1854d29e0> False\n",
            "<keras.layers.normalization.batch_normalization.BatchNormalization object at 0x7fe1854d3ac0> False\n",
            "<keras.layers.core.activation.Activation object at 0x7fe1854d3c70> False\n",
            "<keras.layers.convolutional.conv2d.Conv2D object at 0x7fe1854bfe80> False\n",
            "<keras.layers.convolutional.conv2d.Conv2D object at 0x7fe1854e4b20> False\n",
            "<keras.layers.normalization.batch_normalization.BatchNormalization object at 0x7fe1854bf670> False\n",
            "<keras.layers.normalization.batch_normalization.BatchNormalization object at 0x7fe1854e6c80> False\n",
            "<keras.layers.core.activation.Activation object at 0x7fe1854bf970> False\n",
            "<keras.layers.core.activation.Activation object at 0x7fe1854e7760> False\n",
            "<keras.layers.pooling.average_pooling2d.AveragePooling2D object at 0x7fe1854e4f70> False\n",
            "<keras.layers.convolutional.conv2d.Conv2D object at 0x7fe1854be320> False\n",
            "<keras.layers.convolutional.conv2d.Conv2D object at 0x7fe1854d1930> False\n",
            "<keras.layers.convolutional.conv2d.Conv2D object at 0x7fe1854e6740> False\n",
            "<keras.layers.convolutional.conv2d.Conv2D object at 0x7fe1854e5180> False\n",
            "<keras.layers.normalization.batch_normalization.BatchNormalization object at 0x7fe1854bdde0> False\n",
            "<keras.layers.normalization.batch_normalization.BatchNormalization object at 0x7fe1854d2e90> False\n",
            "<keras.layers.normalization.batch_normalization.BatchNormalization object at 0x7fe1854e7ca0> False\n",
            "<keras.layers.normalization.batch_normalization.BatchNormalization object at 0x7fe18594e9b0> False\n",
            "<keras.layers.core.activation.Activation object at 0x7fe1854bf550> False\n",
            "<keras.layers.core.activation.Activation object at 0x7fe1854d3b50> False\n",
            "<keras.layers.core.activation.Activation object at 0x7fe1854e74c0> False\n",
            "<keras.layers.core.activation.Activation object at 0x7fe1854b4cd0> False\n",
            "<keras.layers.merging.concatenate.Concatenate object at 0x7fe1854d3010> False\n",
            "<keras.layers.convolutional.conv2d.Conv2D object at 0x7fe1854fac20> False\n",
            "<keras.layers.normalization.batch_normalization.BatchNormalization object at 0x7fe1854fb220> False\n",
            "<keras.layers.core.activation.Activation object at 0x7fe1854fabc0> False\n",
            "<keras.layers.convolutional.conv2d.Conv2D object at 0x7fe185504610> False\n",
            "<keras.layers.normalization.batch_normalization.BatchNormalization object at 0x7fe1854f92d0> False\n",
            "<keras.layers.core.activation.Activation object at 0x7fe185506440> False\n",
            "<keras.layers.convolutional.conv2d.Conv2D object at 0x7fe1859968c0> False\n",
            "<keras.layers.convolutional.conv2d.Conv2D object at 0x7fe185506320> False\n",
            "<keras.layers.normalization.batch_normalization.BatchNormalization object at 0x7fe1854f9990> False\n",
            "<keras.layers.normalization.batch_normalization.BatchNormalization object at 0x7fe1855079d0> False\n",
            "<keras.layers.core.activation.Activation object at 0x7fe1854fa1a0> False\n",
            "<keras.layers.core.activation.Activation object at 0x7fe1855072b0> False\n",
            "<keras.layers.pooling.max_pooling2d.MaxPooling2D object at 0x7fe185504d60> False\n",
            "<keras.layers.merging.concatenate.Concatenate object at 0x7fe185505210> False\n",
            "<keras.layers.convolutional.conv2d.Conv2D object at 0x7fe1855487c0> False\n",
            "<keras.layers.normalization.batch_normalization.BatchNormalization object at 0x7fe18552f6a0> False\n",
            "<keras.layers.core.activation.Activation object at 0x7fe18554a860> False\n",
            "<keras.layers.convolutional.conv2d.Conv2D object at 0x7fe1855494e0> False\n",
            "<keras.layers.normalization.batch_normalization.BatchNormalization object at 0x7fe18554bd00> False\n",
            "<keras.layers.core.activation.Activation object at 0x7fe18554b400> False\n",
            "<keras.layers.convolutional.conv2d.Conv2D object at 0x7fe18551f1f0> False\n",
            "<keras.layers.convolutional.conv2d.Conv2D object at 0x7fe185560460> False\n",
            "<keras.layers.normalization.batch_normalization.BatchNormalization object at 0x7fe18551ef50> False\n",
            "<keras.layers.normalization.batch_normalization.BatchNormalization object at 0x7fe18554bd30> False\n",
            "<keras.layers.core.activation.Activation object at 0x7fe18551c100> False\n",
            "<keras.layers.core.activation.Activation object at 0x7fe185549f90> False\n",
            "<keras.layers.convolutional.conv2d.Conv2D object at 0x7fe18552cbe0> False\n",
            "<keras.layers.convolutional.conv2d.Conv2D object at 0x7fe18552ffd0> False\n",
            "<keras.layers.normalization.batch_normalization.BatchNormalization object at 0x7fe18552d9c0> False\n",
            "<keras.layers.normalization.batch_normalization.BatchNormalization object at 0x7fe1854f9cf0> False\n",
            "<keras.layers.core.activation.Activation object at 0x7fe18552ca30> False\n",
            "<keras.layers.core.activation.Activation object at 0x7fe1854fa320> False\n",
            "<keras.layers.pooling.average_pooling2d.AveragePooling2D object at 0x7fe185562f80> False\n",
            "<keras.layers.convolutional.conv2d.Conv2D object at 0x7fe1855075b0> False\n",
            "<keras.layers.convolutional.conv2d.Conv2D object at 0x7fe18552ea70> False\n",
            "<keras.layers.convolutional.conv2d.Conv2D object at 0x7fe18551ca30> False\n",
            "<keras.layers.convolutional.conv2d.Conv2D object at 0x7fe185563970> False\n",
            "<keras.layers.normalization.batch_normalization.BatchNormalization object at 0x7fe18551d6c0> False\n",
            "<keras.layers.normalization.batch_normalization.BatchNormalization object at 0x7fe18552ffa0> False\n",
            "<keras.layers.normalization.batch_normalization.BatchNormalization object at 0x7fe185499120> False\n",
            "<keras.layers.normalization.batch_normalization.BatchNormalization object at 0x7fe185562ec0> False\n",
            "<keras.layers.core.activation.Activation object at 0x7fe18551e770> False\n",
            "<keras.layers.core.activation.Activation object at 0x7fe18552fb80> False\n",
            "<keras.layers.core.activation.Activation object at 0x7fe185504280> False\n",
            "<keras.layers.core.activation.Activation object at 0x7fe185562c80> False\n",
            "<keras.layers.merging.concatenate.Concatenate object at 0x7fe1855647c0> False\n",
            "<keras.layers.convolutional.conv2d.Conv2D object at 0x7fe18539d300> False\n",
            "<keras.layers.normalization.batch_normalization.BatchNormalization object at 0x7fe18539df30> False\n",
            "<keras.layers.core.activation.Activation object at 0x7fe18539f0d0> False\n",
            "<keras.layers.convolutional.conv2d.Conv2D object at 0x7fe18539e200> False\n",
            "<keras.layers.normalization.batch_normalization.BatchNormalization object at 0x7fe18539fca0> False\n",
            "<keras.layers.core.activation.Activation object at 0x7fe18539f2e0> False\n",
            "<keras.layers.convolutional.conv2d.Conv2D object at 0x7fe185567a00> False\n",
            "<keras.layers.convolutional.conv2d.Conv2D object at 0x7fe1853ad090> False\n",
            "<keras.layers.normalization.batch_normalization.BatchNormalization object at 0x7fe185567970> False\n",
            "<keras.layers.normalization.batch_normalization.BatchNormalization object at 0x7fe1853adc90> False\n",
            "<keras.layers.core.activation.Activation object at 0x7fe1855673a0> False\n",
            "<keras.layers.core.activation.Activation object at 0x7fe18539d870> False\n",
            "<keras.layers.convolutional.conv2d.Conv2D object at 0x7fe1853813f0> False\n",
            "<keras.layers.convolutional.conv2d.Conv2D object at 0x7fe1853af2e0> False\n",
            "<keras.layers.normalization.batch_normalization.BatchNormalization object at 0x7fe185382920> False\n",
            "<keras.layers.normalization.batch_normalization.BatchNormalization object at 0x7fe1853af550> False\n",
            "<keras.layers.core.activation.Activation object at 0x7fe185381b40> False\n",
            "<keras.layers.core.activation.Activation object at 0x7fe1853ad600> False\n",
            "<keras.layers.pooling.average_pooling2d.AveragePooling2D object at 0x7fe1853afe50> False\n",
            "<keras.layers.convolutional.conv2d.Conv2D object at 0x7fe1855612d0> False\n",
            "<keras.layers.convolutional.conv2d.Conv2D object at 0x7fe185383100> False\n",
            "<keras.layers.convolutional.conv2d.Conv2D object at 0x7fe1853aee30> False\n",
            "<keras.layers.convolutional.conv2d.Conv2D object at 0x7fe1853afd60> False\n",
            "<keras.layers.normalization.batch_normalization.BatchNormalization object at 0x7fe185565f00> False\n",
            "<keras.layers.normalization.batch_normalization.BatchNormalization object at 0x7fe185380d00> False\n",
            "<keras.layers.normalization.batch_normalization.BatchNormalization object at 0x7fe1853af9a0> False\n",
            "<keras.layers.normalization.batch_normalization.BatchNormalization object at 0x7fe185567760> False\n",
            "<keras.layers.core.activation.Activation object at 0x7fe185566f80> False\n",
            "<keras.layers.core.activation.Activation object at 0x7fe185382410> False\n",
            "<keras.layers.core.activation.Activation object at 0x7fe1853ae530> False\n",
            "<keras.layers.core.activation.Activation object at 0x7fe185382500> False\n",
            "<keras.layers.merging.concatenate.Concatenate object at 0x7fe18539ef20> False\n",
            "<keras.layers.convolutional.conv2d.Conv2D object at 0x7fe1853da8c0> False\n",
            "<keras.layers.normalization.batch_normalization.BatchNormalization object at 0x7fe1853d9690> False\n",
            "<keras.layers.core.activation.Activation object at 0x7fe1853d8850> False\n",
            "<keras.layers.convolutional.conv2d.Conv2D object at 0x7fe1853dab30> False\n",
            "<keras.layers.normalization.batch_normalization.BatchNormalization object at 0x7fe1853db100> False\n",
            "<keras.layers.core.activation.Activation object at 0x7fe1853dab00> False\n",
            "<keras.layers.convolutional.conv2d.Conv2D object at 0x7fe185562b60> False\n",
            "<keras.layers.convolutional.conv2d.Conv2D object at 0x7fe1853dad10> False\n",
            "<keras.layers.normalization.batch_normalization.BatchNormalization object at 0x7fe1853826e0> False\n",
            "<keras.layers.normalization.batch_normalization.BatchNormalization object at 0x7fe1853f4760> False\n",
            "<keras.layers.core.activation.Activation object at 0x7fe1853c4280> False\n",
            "<keras.layers.core.activation.Activation object at 0x7fe1853f4700> False\n",
            "<keras.layers.convolutional.conv2d.Conv2D object at 0x7fe1853c6710> False\n",
            "<keras.layers.convolutional.conv2d.Conv2D object at 0x7fe1853f71c0> False\n",
            "<keras.layers.normalization.batch_normalization.BatchNormalization object at 0x7fe1853c4b20> False\n",
            "<keras.layers.normalization.batch_normalization.BatchNormalization object at 0x7fe1853f6260> False\n",
            "<keras.layers.core.activation.Activation object at 0x7fe1853c4460> False\n",
            "<keras.layers.core.activation.Activation object at 0x7fe1853f7d90> False\n",
            "<keras.layers.pooling.average_pooling2d.AveragePooling2D object at 0x7fe185416320> False\n",
            "<keras.layers.convolutional.conv2d.Conv2D object at 0x7fe1854f9ed0> False\n",
            "<keras.layers.convolutional.conv2d.Conv2D object at 0x7fe1853c6410> False\n",
            "<keras.layers.convolutional.conv2d.Conv2D object at 0x7fe1853f48e0> False\n",
            "<keras.layers.convolutional.conv2d.Conv2D object at 0x7fe1853f7670> False\n",
            "<keras.layers.normalization.batch_normalization.BatchNormalization object at 0x7fe1855600d0> False\n",
            "<keras.layers.normalization.batch_normalization.BatchNormalization object at 0x7fe1853c5240> False\n",
            "<keras.layers.normalization.batch_normalization.BatchNormalization object at 0x7fe1853f72b0> False\n",
            "<keras.layers.normalization.batch_normalization.BatchNormalization object at 0x7fe185415780> False\n",
            "<keras.layers.core.activation.Activation object at 0x7fe185507ac0> False\n",
            "<keras.layers.core.activation.Activation object at 0x7fe1853d9cc0> False\n",
            "<keras.layers.core.activation.Activation object at 0x7fe1853f7370> False\n",
            "<keras.layers.core.activation.Activation object at 0x7fe185417850> False\n",
            "<keras.layers.merging.concatenate.Concatenate object at 0x7fe185416b60> False\n",
            "<keras.layers.convolutional.conv2d.Conv2D object at 0x7fe1853dbfa0> False\n",
            "<keras.layers.normalization.batch_normalization.BatchNormalization object at 0x7fe1854354b0> False\n",
            "<keras.layers.core.activation.Activation object at 0x7fe185435360> False\n",
            "<keras.layers.convolutional.conv2d.Conv2D object at 0x7fe185437e20> False\n",
            "<keras.layers.normalization.batch_normalization.BatchNormalization object at 0x7fe185436ec0> False\n",
            "<keras.layers.core.activation.Activation object at 0x7fe1854364d0> False\n",
            "<keras.layers.convolutional.conv2d.Conv2D object at 0x7fe185417250> False\n",
            "<keras.layers.convolutional.conv2d.Conv2D object at 0x7fe185434b50> False\n",
            "<keras.layers.normalization.batch_normalization.BatchNormalization object at 0x7fe1853f4df0> False\n",
            "<keras.layers.normalization.batch_normalization.BatchNormalization object at 0x7fe185448550> False\n",
            "<keras.layers.core.activation.Activation object at 0x7fe1853f7d30> False\n",
            "<keras.layers.core.activation.Activation object at 0x7fe185449a20> False\n",
            "<keras.layers.convolutional.conv2d.Conv2D object at 0x7fe1853f70d0> False\n",
            "<keras.layers.convolutional.conv2d.Conv2D object at 0x7fe18544acb0> False\n",
            "<keras.layers.normalization.batch_normalization.BatchNormalization object at 0x7fe185499600> False\n",
            "<keras.layers.normalization.batch_normalization.BatchNormalization object at 0x7fe185449cf0> False\n",
            "<keras.layers.core.activation.Activation object at 0x7fe1854f8100> False\n",
            "<keras.layers.core.activation.Activation object at 0x7fe18544b910> False\n",
            "<keras.layers.pooling.average_pooling2d.AveragePooling2D object at 0x7fe18526c280> False\n",
            "<keras.layers.convolutional.conv2d.Conv2D object at 0x7fe185565d50> False\n",
            "<keras.layers.convolutional.conv2d.Conv2D object at 0x7fe185417490> False\n",
            "<keras.layers.convolutional.conv2d.Conv2D object at 0x7fe18544b040> False\n",
            "<keras.layers.convolutional.conv2d.Conv2D object at 0x7fe185448b50> False\n",
            "<keras.layers.normalization.batch_normalization.BatchNormalization object at 0x7fe185417c10> False\n",
            "<keras.layers.normalization.batch_normalization.BatchNormalization object at 0x7fe185416050> False\n",
            "<keras.layers.normalization.batch_normalization.BatchNormalization object at 0x7fe18544b640> False\n",
            "<keras.layers.normalization.batch_normalization.BatchNormalization object at 0x7fe18526e7d0> False\n",
            "<keras.layers.core.activation.Activation object at 0x7fe1854167a0> False\n",
            "<keras.layers.core.activation.Activation object at 0x7fe1853c7100> False\n",
            "<keras.layers.core.activation.Activation object at 0x7fe185448d90> False\n",
            "<keras.layers.core.activation.Activation object at 0x7fe18526e3e0> False\n",
            "<keras.layers.merging.concatenate.Concatenate object at 0x7fe18526e500> False\n",
            "<keras.layers.convolutional.conv2d.Conv2D object at 0x7fe18526ff70> False\n",
            "<keras.layers.normalization.batch_normalization.BatchNormalization object at 0x7fe185283010> False\n",
            "<keras.layers.core.activation.Activation object at 0x7fe185282380> False\n",
            "<keras.layers.convolutional.conv2d.Conv2D object at 0x7fe1852814e0> False\n",
            "<keras.layers.normalization.batch_normalization.BatchNormalization object at 0x7fe18526ee30> False\n",
            "<keras.layers.core.activation.Activation object at 0x7fe18526d8d0> False\n",
            "<keras.layers.convolutional.conv2d.Conv2D object at 0x7fe18526d1b0> False\n",
            "<keras.layers.convolutional.conv2d.Conv2D object at 0x7fe185282590> False\n",
            "<keras.layers.normalization.batch_normalization.BatchNormalization object at 0x7fe18526fd60> False\n",
            "<keras.layers.normalization.batch_normalization.BatchNormalization object at 0x7fe1854377c0> False\n",
            "<keras.layers.core.activation.Activation object at 0x7fe18526d330> False\n",
            "<keras.layers.core.activation.Activation object at 0x7fe185435780> False\n",
            "<keras.layers.convolutional.conv2d.Conv2D object at 0x7fe18526fa30> False\n",
            "<keras.layers.convolutional.conv2d.Conv2D object at 0x7fe185448940> False\n",
            "<keras.layers.normalization.batch_normalization.BatchNormalization object at 0x7fe18526ff40> False\n",
            "<keras.layers.normalization.batch_normalization.BatchNormalization object at 0x7fe185280af0> False\n",
            "<keras.layers.core.activation.Activation object at 0x7fe185281b10> False\n",
            "<keras.layers.core.activation.Activation object at 0x7fe18554a020> False\n",
            "<keras.layers.pooling.max_pooling2d.MaxPooling2D object at 0x7fe185435060> False\n",
            "<keras.layers.merging.concatenate.Concatenate object at 0x7fe185282890> False\n",
            "<keras.layers.convolutional.conv2d.Conv2D object at 0x7fe185435a80> False\n",
            "<keras.layers.normalization.batch_normalization.BatchNormalization object at 0x7fe1852ba620> False\n",
            "<keras.layers.core.activation.Activation object at 0x7fe1852b8310> False\n",
            "<keras.layers.convolutional.conv2d.Conv2D object at 0x7fe1852aa8f0> False\n",
            "<keras.layers.convolutional.conv2d.Conv2D object at 0x7fe1852bb280> False\n",
            "<keras.layers.normalization.batch_normalization.BatchNormalization object at 0x7fe1852ab070> False\n",
            "<keras.layers.normalization.batch_normalization.BatchNormalization object at 0x7fe1852bbdc0> False\n",
            "<keras.layers.core.activation.Activation object at 0x7fe1852ab9d0> False\n",
            "<keras.layers.core.activation.Activation object at 0x7fe1852bb1f0> False\n",
            "<keras.layers.convolutional.conv2d.Conv2D object at 0x7fe1852aa200> False\n",
            "<keras.layers.convolutional.conv2d.Conv2D object at 0x7fe1852a8a30> False\n",
            "<keras.layers.convolutional.conv2d.Conv2D object at 0x7fe1852bb9a0> False\n",
            "<keras.layers.convolutional.conv2d.Conv2D object at 0x7fe1852dab00> False\n",
            "<keras.layers.pooling.average_pooling2d.AveragePooling2D object at 0x7fe1852ec760> False\n",
            "<keras.layers.convolutional.conv2d.Conv2D object at 0x7fe18544b1c0> False\n",
            "<keras.layers.normalization.batch_normalization.BatchNormalization object at 0x7fe1852aad70> False\n",
            "<keras.layers.normalization.batch_normalization.BatchNormalization object at 0x7fe1852b90c0> False\n",
            "<keras.layers.normalization.batch_normalization.BatchNormalization object at 0x7fe1852d9360> False\n",
            "<keras.layers.normalization.batch_normalization.BatchNormalization object at 0x7fe1852dacb0> False\n",
            "<keras.layers.convolutional.conv2d.Conv2D object at 0x7fe1852d9930> False\n",
            "<keras.layers.normalization.batch_normalization.BatchNormalization object at 0x7fe18544b700> False\n",
            "<keras.layers.core.activation.Activation object at 0x7fe1852abc10> False\n",
            "<keras.layers.core.activation.Activation object at 0x7fe1852b9ea0> False\n",
            "<keras.layers.core.activation.Activation object at 0x7fe1852da3b0> False\n",
            "<keras.layers.core.activation.Activation object at 0x7fe1852dadd0> False\n",
            "<keras.layers.normalization.batch_normalization.BatchNormalization object at 0x7fe1852da7d0> False\n",
            "<keras.layers.core.activation.Activation object at 0x7fe185280340> False\n",
            "<keras.layers.merging.concatenate.Concatenate object at 0x7fe1852bb6a0> False\n",
            "<keras.layers.merging.concatenate.Concatenate object at 0x7fe1852da6e0> False\n",
            "<keras.layers.core.activation.Activation object at 0x7fe1852d9ba0> False\n",
            "<keras.layers.merging.concatenate.Concatenate object at 0x7fe1852d9c00> False\n",
            "<keras.layers.convolutional.conv2d.Conv2D object at 0x7fe1852aa020> False\n",
            "<keras.layers.normalization.batch_normalization.BatchNormalization object at 0x7fe1852f87f0> False\n",
            "<keras.layers.core.activation.Activation object at 0x7fe185281a20> False\n",
            "<keras.layers.convolutional.conv2d.Conv2D object at 0x7fe18526f4f0> False\n",
            "<keras.layers.convolutional.conv2d.Conv2D object at 0x7fe1852fa590> False\n",
            "<keras.layers.normalization.batch_normalization.BatchNormalization object at 0x7fe18526f4c0> False\n",
            "<keras.layers.normalization.batch_normalization.BatchNormalization object at 0x7fe1852f96f0> False\n",
            "<keras.layers.core.activation.Activation object at 0x7fe18526c790> False\n",
            "<keras.layers.core.activation.Activation object at 0x7fe1852fb880> False\n",
            "<keras.layers.convolutional.conv2d.Conv2D object at 0x7fe18526f130> False\n",
            "<keras.layers.convolutional.conv2d.Conv2D object at 0x7fe1852ef550> False\n",
            "<keras.layers.convolutional.conv2d.Conv2D object at 0x7fe1852faec0> False\n",
            "<keras.layers.convolutional.conv2d.Conv2D object at 0x7fe1852f9c30> False\n",
            "<keras.layers.pooling.average_pooling2d.AveragePooling2D object at 0x7fe18531e1d0> False\n",
            "<keras.layers.convolutional.conv2d.Conv2D object at 0x7fe185448340> False\n",
            "<keras.layers.normalization.batch_normalization.BatchNormalization object at 0x7fe1852ed180> False\n",
            "<keras.layers.normalization.batch_normalization.BatchNormalization object at 0x7fe1852ee5c0> False\n",
            "<keras.layers.normalization.batch_normalization.BatchNormalization object at 0x7fe1852f9150> False\n",
            "<keras.layers.normalization.batch_normalization.BatchNormalization object at 0x7fe18531d3c0> False\n",
            "<keras.layers.convolutional.conv2d.Conv2D object at 0x7fe18531e410> False\n",
            "<keras.layers.normalization.batch_normalization.BatchNormalization object at 0x7fe1853c6f20> False\n",
            "<keras.layers.core.activation.Activation object at 0x7fe1852efcd0> False\n",
            "<keras.layers.core.activation.Activation object at 0x7fe1852ef400> False\n",
            "<keras.layers.core.activation.Activation object at 0x7fe18531d720> False\n",
            "<keras.layers.core.activation.Activation object at 0x7fe18531ef50> False\n",
            "<keras.layers.normalization.batch_normalization.BatchNormalization object at 0x7fe18531f010> False\n",
            "<keras.layers.core.activation.Activation object at 0x7fe1852822c0> False\n",
            "<keras.layers.merging.concatenate.Concatenate object at 0x7fe1852ef3d0> False\n",
            "<keras.layers.merging.concatenate.Concatenate object at 0x7fe18531e740> False\n",
            "<keras.layers.core.activation.Activation object at 0x7fe185339f90> False\n",
            "<keras.layers.merging.concatenate.Concatenate object at 0x7fe185339690> False\n"
          ]
        }
      ],
      "source": [
        "for layer in conv_basev2.layers:\n",
        "  print(layer, layer.trainable)"
      ]
    },
    {
      "cell_type": "code",
      "execution_count": 110,
      "metadata": {
        "colab": {
          "base_uri": "https://localhost:8080/"
        },
        "id": "3osC8iEigiUw",
        "outputId": "a8c5ee41-eeb9-4de5-86ba-c34c711e6ece"
      },
      "outputs": [
        {
          "name": "stdout",
          "output_type": "stream",
          "text": [
            "Found 150 images belonging to 16 classes.\n",
            "Found 157 images belonging to 16 classes.\n",
            "16\n"
          ]
        }
      ],
      "source": [
        "train_directory ='/content/train_data/train_data'\n",
        "test_directory = '/content/test_data/test_data'\n",
        "\n",
        "train_datagen=ImageDataGenerator(rescale=1/255)\n",
        "val_datagen=ImageDataGenerator(rescale=1/255)\n",
        "test_datagen=ImageDataGenerator(rescale=1/255)\n",
        "\n",
        "train_generator = train_datagen.flow_from_directory(\n",
        "    train_directory,\n",
        "    target_size=(224, 224), \n",
        "    batch_size=32, \n",
        "    color_mode='rgb',\n",
        "    class_mode='sparse')\n",
        "\n",
        "test_generator = test_datagen.flow_from_directory(\n",
        "    test_directory,\n",
        "    target_size=(224, 224),\n",
        "    batch_size=32,\n",
        "    color_mode='rgb',\n",
        "    class_mode='sparse')\n",
        "num_classes=(len(train_generator.class_indices))\n",
        "print(num_classes)"
      ]
    },
    {
      "cell_type": "code",
      "execution_count": 111,
      "metadata": {
        "id": "zqPtD81yXyTe"
      },
      "outputs": [],
      "source": [
        "model = models.Sequential()\n",
        "model.add(conv_basev2)\n",
        "model.add(BatchNormalization())\n",
        "model.add(layers.Flatten())\n",
        "model.add(Activation('relu'))\n",
        "model.add(Dense(num_classes))\n",
        "model.add(Activation('softmax'))"
      ]
    },
    {
      "cell_type": "code",
      "execution_count": 112,
      "metadata": {
        "colab": {
          "base_uri": "https://localhost:8080/"
        },
        "id": "dQPPBshJXyV8",
        "outputId": "465dad96-f5f3-4a1f-c77e-b831987bbcc5"
      },
      "outputs": [
        {
          "name": "stderr",
          "output_type": "stream",
          "text": [
            "WARNING:absl:`lr` is deprecated in Keras optimizer, please use `learning_rate` or use the legacy optimizer, e.g.,tf.keras.optimizers.legacy.RMSprop.\n"
          ]
        }
      ],
      "source": [
        "model.compile(optimizer = optimizers.RMSprop(lr=0.001, momentum=0.9),\n",
        "             loss = 'sparse_categorical_crossentropy',\n",
        "             metrics = ['accuracy'])"
      ]
    },
    {
      "cell_type": "code",
      "execution_count": 115,
      "metadata": {
        "colab": {
          "base_uri": "https://localhost:8080/"
        },
        "id": "BiPxSg4BXyXy",
        "outputId": "829e777a-fe85-4c2e-cd36-c4ca9da49d0a"
      },
      "outputs": [
        {
          "name": "stderr",
          "output_type": "stream",
          "text": [
            "<ipython-input-115-ae41a4f6b384>:1: UserWarning: `Model.fit_generator` is deprecated and will be removed in a future version. Please use `Model.fit`, which supports generators.\n",
            "  history = model.fit_generator(\n"
          ]
        },
        {
          "name": "stdout",
          "output_type": "stream",
          "text": [
            "5/5 [==============================] - ETA: 0s - loss: 1.1322 - accuracy: 0.9400"
          ]
        },
        {
          "name": "stderr",
          "output_type": "stream",
          "text": [
            "WARNING:tensorflow:Your input ran out of data; interrupting training. Make sure that your dataset or generator can generate at least `steps_per_epoch * epochs` batches (in this case, 29 batches). You may need to use the repeat() function when building your dataset.\n"
          ]
        },
        {
          "name": "stdout",
          "output_type": "stream",
          "text": [
            "\b\b\b\b\b\b\b\b\b\b\b\b\b\b\b\b\b\b\b\b\b\b\b\b\b\b\b\b\b\b\b\b\b\b\b\b\b\b\b\b\b\b\b\b\b\b\b\b\b\b\b\b\b\b\b\b\b\b\b\b\b\b\b\b\b\b\b\b\b\b\b\b\b\b\b\b\b\b\b\b\r5/5 [==============================] - 93s 22s/step - loss: 1.1322 - accuracy: 0.9400 - val_loss: 77.0693 - val_accuracy: 0.3503\n"
          ]
        }
      ],
      "source": [
        "history = model.fit_generator(\n",
        "          train_generator,\n",
        "          steps_per_epoch=5,\n",
        "          epochs=1,\n",
        "          validation_data=test_generator,\n",
        "          validation_steps=29,\n",
        "          verbose = 1,\n",
        "          callbacks=[EarlyStopping(monitor='val_accuracy', patience = 5, restore_best_weights = True)])"
      ]
    },
    {
      "cell_type": "code",
      "execution_count": 116,
      "metadata": {
        "colab": {
          "base_uri": "https://localhost:8080/"
        },
        "id": "rPGjvWxdZWnE",
        "outputId": "7efa8f32-f232-4196-aaaf-aa515004169f"
      },
      "outputs": [
        {
          "name": "stderr",
          "output_type": "stream",
          "text": [
            "<ipython-input-116-d1029c9ed234>:1: UserWarning: `Model.evaluate_generator` is deprecated and will be removed in a future version. Please use `Model.evaluate`, which supports generators.\n",
            "  test_loss , test_acc = model.evaluate_generator(test_generator , steps = 29)\n",
            "WARNING:tensorflow:Your input ran out of data; interrupting training. Make sure that your dataset or generator can generate at least `steps_per_epoch * epochs` batches (in this case, 29 batches). You may need to use the repeat() function when building your dataset.\n"
          ]
        }
      ],
      "source": [
        "test_loss , test_acc = model.evaluate_generator(test_generator , steps = 29)"
      ]
    },
    {
      "cell_type": "code",
      "execution_count": 117,
      "metadata": {
        "colab": {
          "base_uri": "https://localhost:8080/"
        },
        "id": "qgzMnWyIZWpU",
        "outputId": "415f0de4-91ec-4d27-9880-22a39b2b5f8e"
      },
      "outputs": [
        {
          "name": "stdout",
          "output_type": "stream",
          "text": [
            "InceptionV3 freezing all weights but bottom 4 layers accuracy is ----- 0.35031846165657043\n"
          ]
        }
      ],
      "source": [
        "print('InceptionV3 freezing all weights but bottom 4 layers accuracy is -----', test_acc)"
      ]
    }
  ],
  "metadata": {
    "accelerator": "GPU",
    "colab": {
      "gpuType": "T4",
      "provenance": []
    },
    "kernelspec": {
      "display_name": "Python 3",
      "name": "python3"
    },
    "language_info": {
      "name": "python"
    }
  },
  "nbformat": 4,
  "nbformat_minor": 0
}
