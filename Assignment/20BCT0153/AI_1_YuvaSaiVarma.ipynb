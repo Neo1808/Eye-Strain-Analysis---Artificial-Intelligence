{
 "cells": [
  {
   "cell_type": "code",
   "execution_count": 6,
   "metadata": {
    "colab": {
     "base_uri": "https://localhost:8080/"
    },
    "id": "GxFadb6drlu0",
    "outputId": "664883a0-639d-4e9c-a1cc-7af8f500a11b"
   },
   "outputs": [
    {
     "name": "stdout",
     "output_type": "stream",
     "text": [
      "    A   B   C   D\n",
      "0  53  46  89  12\n",
      "1  24  54  83  57\n",
      "2  61  51  74  44\n",
      "3  62  78  47  70\n"
     ]
    }
   ],
   "source": [
    "# Task - 1 Create a pandas dataframe (DataFrame name as 'df') with numpy random values (4 features and 4 observation)\n",
    "\n",
    "import pandas as pd\n",
    "import numpy as np\n",
    "\n",
    "df = pd.DataFrame(np.random.randint(0,100,size=(4, 4)), columns=list('ABCD'))\n",
    "print(df)"
   ]
  },
  {
   "cell_type": "code",
   "execution_count": 7,
   "metadata": {
    "colab": {
     "base_uri": "https://localhost:8080/"
    },
    "id": "C79l47dxuZRn",
    "outputId": "939fa1db-c18e-43d6-d3cc-1b258ae5fcae",
    "scrolled": true
   },
   "outputs": [
    {
     "name": "stdout",
     "output_type": "stream",
     "text": [
      "   Random value 1  Random value 2  Random value 3  Random value 4\n",
      "0              53              46              89              12\n",
      "1              24              54              83              57\n",
      "2              61              51              74              44\n",
      "3              62              78              47              70\n"
     ]
    }
   ],
   "source": [
    "# Task - 2 Rename the task - 1 'df' dataframe column names to 'Random value 1', 'Random value 2', 'Random value 3' & 'Random value 4'\n",
    "\n",
    "df.columns = ['Random value 1','Random value 2','Random value 3','Random value 4']\n",
    "print(df)"
   ]
  },
  {
   "cell_type": "code",
   "execution_count": 8,
   "metadata": {
    "colab": {
     "base_uri": "https://localhost:8080/"
    },
    "id": "uEsp6eIavoN4",
    "outputId": "c8e86423-fbf6-46c1-f2cd-4eecc4cbe80a",
    "scrolled": true
   },
   "outputs": [
    {
     "name": "stdout",
     "output_type": "stream",
     "text": [
      "       Random value 1  Random value 2  Random value 3  Random value 4\n",
      "count         4.00000        4.000000        4.000000        4.000000\n",
      "mean         50.00000       57.250000       73.250000       45.750000\n",
      "std          17.79513       14.221463       18.553975       24.878036\n",
      "min          24.00000       46.000000       47.000000       12.000000\n",
      "25%          45.75000       49.750000       67.250000       36.000000\n",
      "50%          57.00000       52.500000       78.500000       50.500000\n",
      "75%          61.25000       60.000000       84.500000       60.250000\n",
      "max          62.00000       78.000000       89.000000       70.000000\n"
     ]
    }
   ],
   "source": [
    "# Task - 3 Find the descriptive statistics of the 'df' dataframe.\n",
    "\n",
    "print(df.describe(include='all'))"
   ]
  },
  {
   "cell_type": "code",
   "execution_count": 9,
   "metadata": {
    "colab": {
     "base_uri": "https://localhost:8080/"
    },
    "id": "Um3-Q1AswA4Q",
    "outputId": "4826c74c-19a6-49ba-d7b1-b2f4d5ecb2ca"
   },
   "outputs": [
    {
     "name": "stdout",
     "output_type": "stream",
     "text": [
      "   Random value 1  Random value 2  Random value 3  Random value 4\n",
      "0           False           False           False           False\n",
      "1           False           False           False           False\n",
      "2           False           False           False           False\n",
      "3           False           False           False           False\n",
      "<class 'pandas.core.frame.DataFrame'>\n",
      "RangeIndex: 4 entries, 0 to 3\n",
      "Data columns (total 4 columns):\n",
      " #   Column          Non-Null Count  Dtype\n",
      "---  ------          --------------  -----\n",
      " 0   Random value 1  4 non-null      int64\n",
      " 1   Random value 2  4 non-null      int64\n",
      " 2   Random value 3  4 non-null      int64\n",
      " 3   Random value 4  4 non-null      int64\n",
      "dtypes: int64(4)\n",
      "memory usage: 256.0 bytes\n",
      "None\n"
     ]
    }
   ],
   "source": [
    "# Task - 4 Check for the null values in 'df' and find the data type of the columns.\n",
    "\n",
    "print(df.isnull())\n",
    "print(df.info())"
   ]
  },
  {
   "cell_type": "code",
   "execution_count": 14,
   "metadata": {
    "colab": {
     "base_uri": "https://localhost:8080/"
    },
    "id": "4Aa7hnbwwtIy",
    "outputId": "419e6080-471c-4759-d3e9-d0da72453ee5",
    "scrolled": true
   },
   "outputs": [
    {
     "name": "stdout",
     "output_type": "stream",
     "text": [
      "   Random value 2  Random value 3\n",
      "0              46              89\n",
      "1              54              83\n",
      "2              51              74\n",
      "3              78              47\n",
      "   Random value 2  Random value 3\n",
      "0              46              89\n",
      "1              54              83\n",
      "2              51              74\n",
      "3              78              47\n"
     ]
    }
   ],
   "source": [
    "# Task - 5 Display the 'Random value 2' & 'Random value 3' columns with location method and index location method.\n",
    "\n",
    "print(df.loc[0:3,'Random value 2':'Random value 3'])\n",
    "print(df.iloc[:,[1,2]])"
   ]
  },
  {
   "cell_type": "code",
   "execution_count": null,
   "metadata": {},
   "outputs": [],
   "source": []
  }
 ],
 "metadata": {
  "colab": {
   "provenance": []
  },
  "kernelspec": {
   "display_name": "Python 3 (ipykernel)",
   "language": "python",
   "name": "python3"
  },
  "language_info": {
   "codemirror_mode": {
    "name": "ipython",
    "version": 3
   },
   "file_extension": ".py",
   "mimetype": "text/x-python",
   "name": "python",
   "nbconvert_exporter": "python",
   "pygments_lexer": "ipython3",
   "version": "3.9.12"
  }
 },
 "nbformat": 4,
 "nbformat_minor": 1
}
